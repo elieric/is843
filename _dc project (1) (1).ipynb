{
 "cells": [
  {
   "cell_type": "code",
   "execution_count": 1,
   "metadata": {},
   "outputs": [],
   "source": [
    "data = \"gs://himanshu-bigdata/notebooks/data/\""
   ]
  },
  {
   "cell_type": "markdown",
   "metadata": {},
   "source": [
    "\n",
    "\n",
    "\n",
    "\n",
    "\n"
   ]
  },
  {
   "cell_type": "code",
   "execution_count": 2,
   "metadata": {},
   "outputs": [
    {
     "name": "stdout",
     "output_type": "stream",
     "text": [
      "gs://himanshu-bigdata/notebooks/data/washington-dc/\r\n",
      "gs://himanshu-bigdata/notebooks/data/washington-dc/DC_Properties.csv\r\n"
     ]
    }
   ],
   "source": [
    "!gsutil ls {data + \"washington-dc\"}"
   ]
  },
  {
   "cell_type": "code",
   "execution_count": 3,
   "metadata": {},
   "outputs": [],
   "source": [
    "dcdata = spark.read.format(\"csv\")\\\n",
    "  .option(\"header\", \"true\")\\\n",
    "  .option(\"inferSchema\", \"true\")\\\n",
    "  .load(\"gs://himanshu-bigdata/notebooks/data/washington-dc/DC_Properties.csv\")"
   ]
  },
  {
   "cell_type": "code",
   "execution_count": 4,
   "metadata": {},
   "outputs": [
    {
     "name": "stdout",
     "output_type": "stream",
     "text": [
      "root\n",
      " |-- _c0: integer (nullable = true)\n",
      " |-- BATHRM: integer (nullable = true)\n",
      " |-- HF_BATHRM: integer (nullable = true)\n",
      " |-- HEAT: string (nullable = true)\n",
      " |-- AC: string (nullable = true)\n",
      " |-- NUM_UNITS: double (nullable = true)\n",
      " |-- ROOMS: integer (nullable = true)\n",
      " |-- BEDRM: integer (nullable = true)\n",
      " |-- AYB: double (nullable = true)\n",
      " |-- YR_RMDL: double (nullable = true)\n",
      " |-- EYB: integer (nullable = true)\n",
      " |-- STORIES: double (nullable = true)\n",
      " |-- SALEDATE: timestamp (nullable = true)\n",
      " |-- PRICE: double (nullable = true)\n",
      " |-- QUALIFIED: string (nullable = true)\n",
      " |-- SALE_NUM: integer (nullable = true)\n",
      " |-- GBA: double (nullable = true)\n",
      " |-- BLDG_NUM: integer (nullable = true)\n",
      " |-- STYLE: string (nullable = true)\n",
      " |-- STRUCT: string (nullable = true)\n",
      " |-- GRADE: string (nullable = true)\n",
      " |-- CNDTN: string (nullable = true)\n",
      " |-- EXTWALL: string (nullable = true)\n",
      " |-- ROOF: string (nullable = true)\n",
      " |-- INTWALL: string (nullable = true)\n",
      " |-- KITCHENS: double (nullable = true)\n",
      " |-- FIREPLACES: integer (nullable = true)\n",
      " |-- USECODE: integer (nullable = true)\n",
      " |-- LANDAREA: integer (nullable = true)\n",
      " |-- GIS_LAST_MOD_DTTM: timestamp (nullable = true)\n",
      " |-- SOURCE: string (nullable = true)\n",
      " |-- CMPLX_NUM: double (nullable = true)\n",
      " |-- LIVING_GBA: double (nullable = true)\n",
      " |-- FULLADDRESS: string (nullable = true)\n",
      " |-- CITY: string (nullable = true)\n",
      " |-- STATE: string (nullable = true)\n",
      " |-- ZIPCODE: double (nullable = true)\n",
      " |-- NATIONALGRID: string (nullable = true)\n",
      " |-- LATITUDE: double (nullable = true)\n",
      " |-- LONGITUDE: double (nullable = true)\n",
      " |-- ASSESSMENT_NBHD: string (nullable = true)\n",
      " |-- ASSESSMENT_SUBNBHD: string (nullable = true)\n",
      " |-- CENSUS_TRACT: double (nullable = true)\n",
      " |-- CENSUS_BLOCK: string (nullable = true)\n",
      " |-- WARD: string (nullable = true)\n",
      " |-- SQUARE: string (nullable = true)\n",
      " |-- X: double (nullable = true)\n",
      " |-- Y: double (nullable = true)\n",
      " |-- QUADRANT: string (nullable = true)\n",
      "\n"
     ]
    }
   ],
   "source": [
    "dcdata.printSchema()"
   ]
  },
  {
   "cell_type": "code",
   "execution_count": 5,
   "metadata": {
    "scrolled": true
   },
   "outputs": [
    {
     "name": "stdout",
     "output_type": "stream",
     "text": [
      "+---+------+---------+-------------+---+---------+-----+-----+------+-------+----+-------+-------------------+---------+---------+--------+------+--------+-------+-------------+---------+---------+------------+----------+--------+--------+----------+-------+--------+-------------------+-----------+---------+----------+--------------------+----------+-----+-------+------------------+-----------+------------+---------------+------------------+------------+------------+------+------+------------------+------------------+--------+\n",
      "|_c0|BATHRM|HF_BATHRM|         HEAT| AC|NUM_UNITS|ROOMS|BEDRM|   AYB|YR_RMDL| EYB|STORIES|           SALEDATE|    PRICE|QUALIFIED|SALE_NUM|   GBA|BLDG_NUM|  STYLE|       STRUCT|    GRADE|    CNDTN|     EXTWALL|      ROOF| INTWALL|KITCHENS|FIREPLACES|USECODE|LANDAREA|  GIS_LAST_MOD_DTTM|     SOURCE|CMPLX_NUM|LIVING_GBA|         FULLADDRESS|      CITY|STATE|ZIPCODE|      NATIONALGRID|   LATITUDE|   LONGITUDE|ASSESSMENT_NBHD|ASSESSMENT_SUBNBHD|CENSUS_TRACT|CENSUS_BLOCK|  WARD|SQUARE|                 X|                 Y|QUADRANT|\n",
      "+---+------+---------+-------------+---+---------+-----+-----+------+-------+----+-------+-------------------+---------+---------+--------+------+--------+-------+-------------+---------+---------+------------+----------+--------+--------+----------+-------+--------+-------------------+-----------+---------+----------+--------------------+----------+-----+-------+------------------+-----------+------------+---------------+------------------+------------+------------+------+------+------------------+------------------+--------+\n",
      "|  0|     4|        0|    Warm Cool|  Y|      2.0|    8|    4|1910.0| 1988.0|1972|    3.0|2003-11-25 00:00:00|1095000.0|        Q|       1|2522.0|       1|3 Story|   Row Inside|Very Good|     Good|Common Brick|Metal- Sms|Hardwood|     2.0|         5|     24|    1680|2018-07-22 18:01:43|Residential|     null|      null|1748 SWANN STREET NW|WASHINGTON|   DC|20009.0|18S UJ 23061 09289|38.91468021|-77.04083204|     Old City 2|  040 D Old City 2|      4201.0| 004201 2006|Ward 2|  0152|-77.04042907495098|38.914881109044266|      NW|\n",
      "|  1|     3|        1|    Warm Cool|  Y|      2.0|   11|    5|1898.0| 2007.0|1972|    3.0|2000-08-17 00:00:00|     null|        U|       1|2567.0|       1|3 Story|   Row Inside|Very Good|     Good|Common Brick|  Built Up|Hardwood|     2.0|         4|     24|    1680|2018-07-22 18:01:43|Residential|     null|      null|1746 SWANN STREET NW|WASHINGTON|   DC|20009.0|18S UJ 23067 09289| 38.9146833|-77.04076447|     Old City 2|  040 D Old City 2|      4201.0| 004201 2006|Ward 2|  0152|-77.04042907495098|38.914881109044266|      NW|\n",
      "|  2|     3|        1|Hot Water Rad|  Y|      2.0|    9|    5|1910.0| 2009.0|1984|    3.0|2016-06-21 00:00:00|2100000.0|        Q|       3|2522.0|       1|3 Story|   Row Inside|Very Good|Very Good|Common Brick|  Built Up|Hardwood|     2.0|         4|     24|    1680|2018-07-22 18:01:43|Residential|     null|      null|1744 SWANN STREET NW|WASHINGTON|   DC|20009.0|18S UJ 23074 09289|38.91468351|-77.04067788|     Old City 2|  040 D Old City 2|      4201.0| 004201 2006|Ward 2|  0152|-77.04042907495098|38.914881109044266|      NW|\n",
      "|  3|     3|        1|Hot Water Rad|  Y|      2.0|    8|    5|1900.0| 2003.0|1984|    3.0|2006-07-12 00:00:00|1602000.0|        Q|       1|2484.0|       1|3 Story|   Row Inside|Very Good|     Good|Common Brick|  Built Up|Hardwood|     2.0|         3|     24|    1680|2018-07-22 18:01:43|Residential|     null|      null|1742 SWANN STREET NW|WASHINGTON|   DC|20009.0|18S UJ 23078 09288|38.91468254|-77.04062899|     Old City 2|  040 D Old City 2|      4201.0| 004201 2006|Ward 2|  0152|-77.04042907495098|38.914881109044266|      NW|\n",
      "|  4|     2|        1|    Warm Cool|  Y|      1.0|   11|    3|1913.0| 2012.0|1985|    3.0|               null|     null|        U|       1|5255.0|       1|3 Story|Semi-Detached|Very Good|     Good|Common Brick|   Neopren|Hardwood|     1.0|         0|     13|    2032|2018-07-22 18:01:43|Residential|     null|      null|1804 NEW HAMPSHIR...|WASHINGTON|   DC|20009.0|18S UJ 23188 09253|38.91438281|-77.03936127|     Old City 2|  040 D Old City 2|      4201.0| 004201 2006|Ward 2|  0152|-77.04042907495098|38.914881109044266|      NW|\n",
      "+---+------+---------+-------------+---+---------+-----+-----+------+-------+----+-------+-------------------+---------+---------+--------+------+--------+-------+-------------+---------+---------+------------+----------+--------+--------+----------+-------+--------+-------------------+-----------+---------+----------+--------------------+----------+-----+-------+------------------+-----------+------------+---------------+------------------+------------+------------+------+------+------------------+------------------+--------+\n",
      "only showing top 5 rows\n",
      "\n"
     ]
    }
   ],
   "source": [
    "dcdata.show (5)"
   ]
  },
  {
   "cell_type": "code",
   "execution_count": 6,
   "metadata": {},
   "outputs": [
    {
     "name": "stdout",
     "output_type": "stream",
     "text": [
      "+-------+------------------+\n",
      "|summary|             PRICE|\n",
      "+-------+------------------+\n",
      "|  count|             98216|\n",
      "|   mean| 931351.5949336156|\n",
      "| stddev|7061324.9556119405|\n",
      "|    min|               1.0|\n",
      "|    max|      1.37427545E8|\n",
      "+-------+------------------+\n",
      "\n"
     ]
    }
   ],
   "source": [
    "dcdata.describe(['PRICE']).show()"
   ]
  },
  {
   "cell_type": "code",
   "execution_count": 9,
   "metadata": {},
   "outputs": [
    {
     "name": "stdout",
     "output_type": "stream",
     "text": [
      "+-----+------------------+\n",
      "|ROOMS|        avg(PRICE)|\n",
      "+-----+------------------+\n",
      "|    0| 1088490.148148148|\n",
      "|    1|      224517.90625|\n",
      "|    2|1949664.9899691357|\n",
      "|    3| 2217071.020540075|\n",
      "|    4| 909270.1605109167|\n",
      "|    5| 526515.8907682132|\n",
      "|    6|442921.58700986527|\n",
      "|    7|514975.68252080854|\n",
      "|    8| 638748.8952567024|\n",
      "|    9|  789671.449940547|\n",
      "|   10| 915297.1920289855|\n",
      "|   11|1133502.3383233533|\n",
      "|   12| 901382.7240223463|\n",
      "|   13|1669379.7375886524|\n",
      "|   14|1434225.8025477708|\n",
      "|   15| 1933945.594117647|\n",
      "|   16| 590948.4454203262|\n",
      "|   17|2928117.6470588236|\n",
      "|   18|1504978.3333333333|\n",
      "|   19|3248112.3529411764|\n",
      "+-----+------------------+\n",
      "only showing top 20 rows\n",
      "\n"
     ]
    }
   ],
   "source": [
    "dcdata.groupBy(\"ROOMS\").avg(\"PRICE\").orderBy(\"ROOMS\").show()"
   ]
  },
  {
   "cell_type": "code",
   "execution_count": 12,
   "metadata": {},
   "outputs": [
    {
     "name": "stdout",
     "output_type": "stream",
     "text": [
      "+--------+------------------+\n",
      "|LANDAREA|        avg(PRICE)|\n",
      "+--------+------------------+\n",
      "|    1088| 501045.9767441861|\n",
      "|     833| 619731.2083333334|\n",
      "|    1959| 597717.7272727273|\n",
      "|    1238|          497549.0|\n",
      "|    1342|          372736.0|\n",
      "|    1829|          813809.0|\n",
      "|    2122|441493.77777777775|\n",
      "|    1591| 413001.6666666667|\n",
      "|    1580|          476920.0|\n",
      "|    1645|          600945.0|\n",
      "|    3175| 474119.6923076923|\n",
      "|    2142| 463816.6666666667|\n",
      "|     496| 587783.3333333334|\n",
      "|    7253|              null|\n",
      "|    4900| 435033.3333333333|\n",
      "|    6654|         1300000.0|\n",
      "|    7880|          897500.0|\n",
      "|    3997| 476666.6666666667|\n",
      "|    7340|         1079000.0|\n",
      "|    8389|         1066500.0|\n",
      "+--------+------------------+\n",
      "only showing top 20 rows\n",
      "\n"
     ]
    }
   ],
   "source": [
    "dcdata.groupBy(\"LANDAREA\").avg(\"PRICE\").show()"
   ]
  },
  {
   "cell_type": "code",
   "execution_count": 18,
   "metadata": {},
   "outputs": [
    {
     "name": "stdout",
     "output_type": "stream",
     "text": [
      "+--------+--------+\n",
      "|min(EYB)|max(EYB)|\n",
      "+--------+--------+\n",
      "|    1800|    2018|\n",
      "+--------+--------+\n",
      "\n"
     ]
    }
   ],
   "source": [
    "dcdata.selectExpr(\"min(EYB)\", \"max(EYB)\").show()\n"
   ]
  },
  {
   "cell_type": "code",
   "execution_count": 20,
   "metadata": {},
   "outputs": [
    {
     "name": "stdout",
     "output_type": "stream",
     "text": [
      "+-----------+---------+------------------+\n",
      "|     SOURCE|    CNDTN|        avg(PRICE)|\n",
      "+-----------+---------+------------------+\n",
      "|Residential|     Fair|409360.44007858547|\n",
      "|Residential|     Good| 655149.2966045662|\n",
      "|Residential|Very Good| 945584.9956593325|\n",
      "|Residential|  Average|  375583.619497772|\n",
      "|Residential|  Default|         8518500.0|\n",
      "|Residential|Excellent|1247995.2002249719|\n",
      "|Condominium|     null| 1436073.252554817|\n",
      "|Residential|     Poor|474262.63440860214|\n",
      "+-----------+---------+------------------+\n",
      "\n"
     ]
    }
   ],
   "source": [
    "dcdata.groupBy(\"SOURCE\",\"CNDTN\").avg(\"PRICE\").show()"
   ]
  },
  {
   "cell_type": "code",
   "execution_count": 21,
   "metadata": {},
   "outputs": [
    {
     "name": "stdout",
     "output_type": "stream",
     "text": [
      "+--------+------------------+\n",
      "|QUADRANT|        avg(PRICE)|\n",
      "+--------+------------------+\n",
      "|      NW|1317785.1587480297|\n",
      "|      SW| 347048.9480189022|\n",
      "|    null| 454064.9405940594|\n",
      "|      NE| 392871.5477633875|\n",
      "|      SE|368226.04414454184|\n",
      "+--------+------------------+\n",
      "\n"
     ]
    }
   ],
   "source": [
    "dcdata.groupBy(\"QUADRANT\").avg(\"PRICE\").show()"
   ]
  }
 ],
 "metadata": {
  "kernelspec": {
   "display_name": "PySpark",
   "language": "python",
   "name": "pyspark"
  },
  "language_info": {
   "codemirror_mode": {
    "name": "ipython",
    "version": 3
   },
   "file_extension": ".py",
   "mimetype": "text/x-python",
   "name": "python",
   "nbconvert_exporter": "python",
   "pygments_lexer": "ipython3",
   "version": "3.6.5"
  }
 },
 "nbformat": 4,
 "nbformat_minor": 2
}