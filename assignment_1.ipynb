{
 "cells": [
  {
   "cell_type": "markdown",
   "metadata": {},
   "source": [
    "# D.C. Residential Properties Dataset Analysis\n",
    "### Team: Big Daddy Data"
   ]
  },
  {
   "cell_type": "markdown",
   "metadata": {},
   "source": [
    "**Data Source**:\n",
    "\n",
    "Dataset was downloaded from https://www.kaggle.com/christophercorrea/dc-residential-properties"
   ]
  },
  {
   "cell_type": "markdown",
   "metadata": {},
   "source": [
    "**Introduction**\n",
    "\n",
    "\n",
    "Dataset ready for analysis showing real property information, including most recent sales price as of July 2018, for properties located Washington, D.C.\n",
    "\n",
    "The source of the data is Open Data DC{1}, and the dataset utilized here, DC_Property_data.csv, was created by merging three OpenData.DC.gov source files: raw_residential_data.csv; raw_condominium_data.csv; & raw_address_points.csv.{2}\n",
    "\n",
    "{1} https://opendata.dc.gov/ {2} https://www.kaggle.com/christophercorrea/preparing-the-d-c-real-property-dataset"
   ]
  },
  {
   "cell_type": "markdown",
   "metadata": {},
   "source": [
    "**Columns in this Dataset**\n",
    "\n",
    "|Column Name|Description|Type|\n",
    "|--|--|--|\n",
    "|ID|ID#|Int|\n",
    "|BATHRM|Number of Full Bathrooms|Int|\n",
    "|HF_BATHRM|Number of Half Bathrooms (no bathtub or shower)|Int|\n",
    "|HEAT|Heating|String|\n",
    "|AC|Cooling|String|\n",
    "|NUM_UNITS|Number of Units|Int|\n",
    "|ROOMS|Number of Rooms|Int|\n",
    "|AYB|The earliest time the main portion of the building was built|Int|\n",
    "|YR_RMDL|Year structure was remodeled|Int|\n",
    "|EYB|The year an improvement was built more recent than actual year built|Int|\n",
    "|STORIES|Number of stories in primary dwelling|Int|\n",
    "|SALEDATE|Date of most recent sale|Timestamp|\n",
    "|PRICE|Price of most recent sale|Int|\n",
    "|QUALIFIED|Qualified|Boolean|\n",
    "|SALE_NUM|Sale Number|Int|\n",
    "|GBA|Gross building area in square feet|Int|\n",
    "|BLDG_NUM|Building Number on Property|Int|\n",
    "|STYLE|Style|String|\n",
    "|STRUCT|Structure|String|\n",
    "|GRADE|Grade|String|\n",
    "|CNDTN|Condition|String|\n",
    "|EXTWALL|Extrerior wall|String|\n",
    "|ROOF|Roof type|String|\n",
    "|INTWALL|Interior wall|String|\n",
    "|KITCHENS|Number of kitchens|Int|\n",
    "|FIREPLACES|Number of fireplaces|Int|\n",
    "|USECODE|Property use code|Int|\n",
    "|LANDAREA|Land area of property in square feet|Int|\n",
    "|GIS_LAST_MOD_DTTM|Last Modified Date|Timestamp|\n",
    "|SOURCE|Raw Data Source|String|\n",
    "|CMPLX_NUM|Complex number|String|\n",
    "|LIVING_GBA|Gross building area in square feet|String|\n",
    "|FULLADDRESS|Full Street Address|String|\n",
    "|CITY|City|String|\n",
    "|STATE|State|String|\n",
    "|ZIPCODE|Zip Code|Int|\n",
    "|NATIONALGRID|Address location national grid coordinate spatial address|String|\n",
    "|LATITUDE|Latitude|Int|\n",
    "|LONGITUDE|Longitude|Int|\n",
    "|ASSESSMENT_NBHD|Neighborhood ID|String|\n",
    "|ASSESSMENT_SUBNBHD|Subneighborhood ID|String|\n",
    "|CENSUS_TRACT|Census tract|Int|\n",
    "|CENSUS_BLOCK|Census block|String|\n",
    "|WARD|Ward (District is divided into eight wards, each with approximately 75,000 residents)|String|\n",
    "|SQUARE|Square (from SSL)|Int|\n",
    "|X|longitude|Int|\n",
    "|Y|latitude|Int|\n",
    "|QUADRANT|City quadrant (NE,SE,SW,NW)|String|"
   ]
  },
  {
   "cell_type": "markdown",
   "metadata": {},
   "source": [
    "## Questions one could ask and find answers to from this dataset:\n",
    "* Is there a model to predict the sale price of residental properties in D.C?\n",
    "* What's the most relevant parameters to build up the model?\n",
    "* Which area has the most expensive and which area has the least properties price?\n",
    "* What's the properties sales trend in the last ten years?\n",
    "* What's the best time of the year to sell a property?\n",
    "* Create a graphic map using longtitude and latitude to indicate the sales of different area."
   ]
  },
  {
   "cell_type": "markdown",
   "metadata": {},
   "source": [
    "### Datasource"
   ]
  },
  {
   "cell_type": "code",
   "execution_count": 1,
   "metadata": {},
   "outputs": [],
   "source": [
    "# the following line gets the bucket name attached to our cluster\n",
    "bucket = spark._jsc.hadoopConfiguration().get(\"fs.gs.system.bucket\")\n",
    "\n",
    "# specifying the path to our bucket where the data is located (no need to edit this path anymore)\n",
    "data = \"gs://\" + bucket + \"/notebooks/data/\""
   ]
  },
  {
   "cell_type": "markdown",
   "metadata": {},
   "source": [
    "### Loading the data into a Spark DataFrame\n",
    "Verify the datasource:"
   ]
  },
  {
   "cell_type": "code",
   "execution_count": 2,
   "metadata": {},
   "outputs": [
    {
     "name": "stdout",
     "output_type": "stream",
     "text": [
      "gs://is843_erli/notebooks/data/DC_Properties.csv\r\n"
     ]
    }
   ],
   "source": [
    "!gsutil ls {data + \"DC_Properties.csv\"}"
   ]
  },
  {
   "cell_type": "markdown",
   "metadata": {},
   "source": [
    "Create dataframe by using inferred schema:"
   ]
  },
  {
   "cell_type": "code",
   "execution_count": 3,
   "metadata": {},
   "outputs": [
    {
     "name": "stdout",
     "output_type": "stream",
     "text": [
      "root\n",
      " |-- ID: integer (nullable = true)\n",
      " |-- BATHRM: integer (nullable = true)\n",
      " |-- HF_BATHRM: integer (nullable = true)\n",
      " |-- HEAT: string (nullable = true)\n",
      " |-- AC: string (nullable = true)\n",
      " |-- NUM_UNITS: double (nullable = true)\n",
      " |-- ROOMS: integer (nullable = true)\n",
      " |-- BEDRM: integer (nullable = true)\n",
      " |-- AYB: double (nullable = true)\n",
      " |-- YR_RMDL: double (nullable = true)\n",
      " |-- EYB: integer (nullable = true)\n",
      " |-- STORIES: double (nullable = true)\n",
      " |-- SALEDATE: timestamp (nullable = true)\n",
      " |-- PRICE: double (nullable = true)\n",
      " |-- QUALIFIED: string (nullable = true)\n",
      " |-- SALE_NUM: integer (nullable = true)\n",
      " |-- GBA: double (nullable = true)\n",
      " |-- BLDG_NUM: integer (nullable = true)\n",
      " |-- STYLE: string (nullable = true)\n",
      " |-- STRUCT: string (nullable = true)\n",
      " |-- GRADE: string (nullable = true)\n",
      " |-- CNDTN: string (nullable = true)\n",
      " |-- EXTWALL: string (nullable = true)\n",
      " |-- ROOF: string (nullable = true)\n",
      " |-- INTWALL: string (nullable = true)\n",
      " |-- KITCHENS: double (nullable = true)\n",
      " |-- FIREPLACES: integer (nullable = true)\n",
      " |-- USECODE: integer (nullable = true)\n",
      " |-- LANDAREA: integer (nullable = true)\n",
      " |-- GIS_LAST_MOD_DTTM: timestamp (nullable = true)\n",
      " |-- SOURCE: string (nullable = true)\n",
      " |-- CMPLX_NUM: double (nullable = true)\n",
      " |-- LIVING_GBA: double (nullable = true)\n",
      " |-- FULLADDRESS: string (nullable = true)\n",
      " |-- CITY: string (nullable = true)\n",
      " |-- STATE: string (nullable = true)\n",
      " |-- ZIPCODE: double (nullable = true)\n",
      " |-- NATIONALGRID: string (nullable = true)\n",
      " |-- LATITUDE: double (nullable = true)\n",
      " |-- LONGITUDE: double (nullable = true)\n",
      " |-- ASSESSMENT_NBHD: string (nullable = true)\n",
      " |-- ASSESSMENT_SUBNBHD: string (nullable = true)\n",
      " |-- CENSUS_TRACT: double (nullable = true)\n",
      " |-- CENSUS_BLOCK: string (nullable = true)\n",
      " |-- WARD: string (nullable = true)\n",
      " |-- SQUARE: string (nullable = true)\n",
      " |-- X: double (nullable = true)\n",
      " |-- Y: double (nullable = true)\n",
      " |-- QUADRANTå: string (nullable = true)\n",
      "\n"
     ]
    }
   ],
   "source": [
    "df = spark.read.format(\"csv\")\\\n",
    "  .option(\"header\", \"true\")\\\n",
    "  .option(\"inferSchema\", \"true\")\\\n",
    "  .load(data + \"DC_Properties.csv\")\n",
    "\n",
    "df.printSchema()"
   ]
  },
  {
   "cell_type": "markdown",
   "metadata": {},
   "source": [
    "Show first 5 rows of the dataset:"
   ]
  },
  {
   "cell_type": "code",
   "execution_count": 4,
   "metadata": {},
   "outputs": [
    {
     "name": "stdout",
     "output_type": "stream",
     "text": [
      "+---+------+---------+-------------+---+---------+-----+-----+------+-------+----+-------+-------------------+---------+---------+--------+------+--------+-------+-------------+---------+---------+------------+----------+--------+--------+----------+-------+--------+-------------------+-----------+---------+----------+----------------------------+----------+-----+-------+------------------+-----------+------------+---------------+------------------+------------+------------+------+------+------------------+------------------+---------+\n",
      "|ID |BATHRM|HF_BATHRM|HEAT         |AC |NUM_UNITS|ROOMS|BEDRM|AYB   |YR_RMDL|EYB |STORIES|SALEDATE           |PRICE    |QUALIFIED|SALE_NUM|GBA   |BLDG_NUM|STYLE  |STRUCT       |GRADE    |CNDTN    |EXTWALL     |ROOF      |INTWALL |KITCHENS|FIREPLACES|USECODE|LANDAREA|GIS_LAST_MOD_DTTM  |SOURCE     |CMPLX_NUM|LIVING_GBA|FULLADDRESS                 |CITY      |STATE|ZIPCODE|NATIONALGRID      |LATITUDE   |LONGITUDE   |ASSESSMENT_NBHD|ASSESSMENT_SUBNBHD|CENSUS_TRACT|CENSUS_BLOCK|WARD  |SQUARE|X                 |Y                 |QUADRANTå|\n",
      "+---+------+---------+-------------+---+---------+-----+-----+------+-------+----+-------+-------------------+---------+---------+--------+------+--------+-------+-------------+---------+---------+------------+----------+--------+--------+----------+-------+--------+-------------------+-----------+---------+----------+----------------------------+----------+-----+-------+------------------+-----------+------------+---------------+------------------+------------+------------+------+------+------------------+------------------+---------+\n",
      "|0  |4     |0        |Warm Cool    |Y  |2.0      |8    |4    |1910.0|1988.0 |1972|3.0    |2003-11-25 00:00:00|1095000.0|Q        |1       |2522.0|1       |3 Story|Row Inside   |Very Good|Good     |Common Brick|Metal- Sms|Hardwood|2.0     |5         |24     |1680    |2018-07-22 18:01:43|Residential|null     |null      |1748 SWANN STREET NW        |WASHINGTON|DC   |20009.0|18S UJ 23061 09289|38.91468021|-77.04083204|Old City 2     |040 D Old City 2  |4201.0      |004201 2006 |Ward 2|0152  |-77.04042907495098|38.914881109044266|NW       |\n",
      "|1  |3     |1        |Warm Cool    |Y  |2.0      |11   |5    |1898.0|2007.0 |1972|3.0    |2000-08-17 00:00:00|null     |U        |1       |2567.0|1       |3 Story|Row Inside   |Very Good|Good     |Common Brick|Built Up  |Hardwood|2.0     |4         |24     |1680    |2018-07-22 18:01:43|Residential|null     |null      |1746 SWANN STREET NW        |WASHINGTON|DC   |20009.0|18S UJ 23067 09289|38.9146833 |-77.04076447|Old City 2     |040 D Old City 2  |4201.0      |004201 2006 |Ward 2|0152  |-77.04042907495098|38.914881109044266|NW       |\n",
      "|2  |3     |1        |Hot Water Rad|Y  |2.0      |9    |5    |1910.0|2009.0 |1984|3.0    |2016-06-21 00:00:00|2100000.0|Q        |3       |2522.0|1       |3 Story|Row Inside   |Very Good|Very Good|Common Brick|Built Up  |Hardwood|2.0     |4         |24     |1680    |2018-07-22 18:01:43|Residential|null     |null      |1744 SWANN STREET NW        |WASHINGTON|DC   |20009.0|18S UJ 23074 09289|38.91468351|-77.04067788|Old City 2     |040 D Old City 2  |4201.0      |004201 2006 |Ward 2|0152  |-77.04042907495098|38.914881109044266|NW       |\n",
      "|3  |3     |1        |Hot Water Rad|Y  |2.0      |8    |5    |1900.0|2003.0 |1984|3.0    |2006-07-12 00:00:00|1602000.0|Q        |1       |2484.0|1       |3 Story|Row Inside   |Very Good|Good     |Common Brick|Built Up  |Hardwood|2.0     |3         |24     |1680    |2018-07-22 18:01:43|Residential|null     |null      |1742 SWANN STREET NW        |WASHINGTON|DC   |20009.0|18S UJ 23078 09288|38.91468254|-77.04062899|Old City 2     |040 D Old City 2  |4201.0      |004201 2006 |Ward 2|0152  |-77.04042907495098|38.914881109044266|NW       |\n",
      "|4  |2     |1        |Warm Cool    |Y  |1.0      |11   |3    |1913.0|2012.0 |1985|3.0    |null               |null     |U        |1       |5255.0|1       |3 Story|Semi-Detached|Very Good|Good     |Common Brick|Neopren   |Hardwood|1.0     |0         |13     |2032    |2018-07-22 18:01:43|Residential|null     |null      |1804 NEW HAMPSHIRE AVENUE NW|WASHINGTON|DC   |20009.0|18S UJ 23188 09253|38.91438281|-77.03936127|Old City 2     |040 D Old City 2  |4201.0      |004201 2006 |Ward 2|0152  |-77.04042907495098|38.914881109044266|NW       |\n",
      "+---+------+---------+-------------+---+---------+-----+-----+------+-------+----+-------+-------------------+---------+---------+--------+------+--------+-------+-------------+---------+---------+------------+----------+--------+--------+----------+-------+--------+-------------------+-----------+---------+----------+----------------------------+----------+-----+-------+------------------+-----------+------------+---------------+------------------+------------+------------+------+------+------------------+------------------+---------+\n",
      "only showing top 5 rows\n",
      "\n"
     ]
    }
   ],
   "source": [
    "df.show(5, False)"
   ]
  },
  {
   "cell_type": "markdown",
   "metadata": {},
   "source": [
    "## Data Proofiling"
   ]
  },
  {
   "cell_type": "markdown",
   "metadata": {},
   "source": [
    "#### Caching and partitioning the Dataframe"
   ]
  },
  {
   "cell_type": "code",
   "execution_count": 5,
   "metadata": {},
   "outputs": [
    {
     "name": "stdout",
     "output_type": "stream",
     "text": [
      "data was re-partitioned to 20 partitions!\n"
     ]
    },
    {
     "data": {
      "text/plain": [
       "DataFrame[ID: int, BATHRM: int, HF_BATHRM: int, HEAT: string, AC: string, NUM_UNITS: double, ROOMS: int, BEDRM: int, AYB: double, YR_RMDL: double, EYB: int, STORIES: double, SALEDATE: timestamp, PRICE: double, QUALIFIED: string, SALE_NUM: int, GBA: double, BLDG_NUM: int, STYLE: string, STRUCT: string, GRADE: string, CNDTN: string, EXTWALL: string, ROOF: string, INTWALL: string, KITCHENS: double, FIREPLACES: int, USECODE: int, LANDAREA: int, GIS_LAST_MOD_DTTM: timestamp, SOURCE: string, CMPLX_NUM: double, LIVING_GBA: double, FULLADDRESS: string, CITY: string, STATE: string, ZIPCODE: double, NATIONALGRID: string, LATITUDE: double, LONGITUDE: double, ASSESSMENT_NBHD: string, ASSESSMENT_SUBNBHD: string, CENSUS_TRACT: double, CENSUS_BLOCK: string, WARD: string, SQUARE: string, X: double, Y: double, QUADRANTå: string]"
      ]
     },
     "execution_count": 5,
     "metadata": {},
     "output_type": "execute_result"
    }
   ],
   "source": [
    "#per 01-EDA.ipynb:\n",
    "df = df.repartition(20)\n",
    "print(\"data was re-partitioned to {} partitions!\".format(df.rdd.getNumPartitions()))\n",
    "\n",
    "spark.conf.set(\"spark.sql.shuffle.partitions\", \"20\")\n",
    "\n",
    "df.cache()"
   ]
  },
  {
   "cell_type": "markdown",
   "metadata": {},
   "source": [
    "Number of rows in data set"
   ]
  },
  {
   "cell_type": "code",
   "execution_count": 6,
   "metadata": {},
   "outputs": [
    {
     "name": "stdout",
     "output_type": "stream",
     "text": [
      " The DC DataFrame has 158957 records\n"
     ]
    }
   ],
   "source": [
    "print(\" The DC DataFrame has {} records\".format(df.count()))"
   ]
  },
  {
   "cell_type": "markdown",
   "metadata": {},
   "source": [
    "#### Dropping columns that we will not be using in our analysis"
   ]
  },
  {
   "cell_type": "code",
   "execution_count": 7,
   "metadata": {},
   "outputs": [],
   "source": [
    "df = df.drop('CITY', 'STATE')"
   ]
  },
  {
   "cell_type": "markdown",
   "metadata": {},
   "source": [
    "#### Dropping duplicates"
   ]
  },
  {
   "cell_type": "code",
   "execution_count": 8,
   "metadata": {},
   "outputs": [],
   "source": [
    "df = df.drop_duplicates()"
   ]
  },
  {
   "cell_type": "code",
   "execution_count": 9,
   "metadata": {},
   "outputs": [
    {
     "data": {
      "text/plain": [
       "158957"
      ]
     },
     "execution_count": 9,
     "metadata": {},
     "output_type": "execute_result"
    }
   ],
   "source": [
    "df.count()"
   ]
  },
  {
   "cell_type": "markdown",
   "metadata": {},
   "source": [
    "No duplicates!"
   ]
  },
  {
   "cell_type": "markdown",
   "metadata": {},
   "source": [
    "#### Summary of the column PRICE using describe()"
   ]
  },
  {
   "cell_type": "code",
   "execution_count": 10,
   "metadata": {},
   "outputs": [
    {
     "name": "stdout",
     "output_type": "stream",
     "text": [
      "+-------+-----------------+\n",
      "|summary|            PRICE|\n",
      "+-------+-----------------+\n",
      "|  count|            98216|\n",
      "|   mean|931351.5949336156|\n",
      "| stddev|7061324.955611982|\n",
      "|    min|              1.0|\n",
      "|    max|     1.37427545E8|\n",
      "+-------+-----------------+\n",
      "\n"
     ]
    }
   ],
   "source": [
    "df.describe(['PRICE']).show()"
   ]
  },
  {
   "cell_type": "markdown",
   "metadata": {},
   "source": [
    "#### Use data after Year 2000"
   ]
  },
  {
   "cell_type": "code",
   "execution_count": 11,
   "metadata": {},
   "outputs": [
    {
     "name": "stdout",
     "output_type": "stream",
     "text": [
      "+-------+------------------+\n",
      "|summary|             PRICE|\n",
      "+-------+------------------+\n",
      "|  count|             89459|\n",
      "|   mean|1002258.2660660191|\n",
      "| stddev| 7394765.238397817|\n",
      "|    min|               1.0|\n",
      "|    max|      1.37427545E8|\n",
      "+-------+------------------+\n",
      "\n"
     ]
    }
   ],
   "source": [
    "from pyspark.sql import functions as F\n",
    "\n",
    "df = df.where(F.year(\"SALEDATE\") >= 2000)\n",
    "df.describe(['PRICE']).show()"
   ]
  },
  {
   "cell_type": "markdown",
   "metadata": {},
   "source": [
    "#### Use statistics methods to exclude the outliers"
   ]
  },
  {
   "cell_type": "code",
   "execution_count": 12,
   "metadata": {},
   "outputs": [],
   "source": [
    "from pyspark.sql.functions import mean, stddev\n",
    "\n",
    "# Calculate values used for outlier filtering\n",
    "mean_val = df.agg({'PRICE': 'mean'}).collect()[0][0]\n",
    "stddev_val = df.agg({'PRICE': 'stddev'}).collect()[0][0]\n",
    "\n",
    "# Create three standard deviation (μ ± 3σ) lower and upper bounds for data\n",
    "low_bound = mean_val - (3 * stddev_val)\n",
    "hi_bound = mean_val + (3 * stddev_val)\n",
    "\n",
    "# Filter the data to fit between the lower and upper bounds\n",
    "df = df.where((df['PRICE'] < hi_bound) & (df['PRICE'] > low_bound))"
   ]
  },
  {
   "cell_type": "code",
   "execution_count": 13,
   "metadata": {},
   "outputs": [
    {
     "name": "stdout",
     "output_type": "stream",
     "text": [
      "+-------+-----------------+\n",
      "|summary|            PRICE|\n",
      "+-------+-----------------+\n",
      "|  count|            89042|\n",
      "|   mean|560489.6947395611|\n",
      "| stddev|624990.3158814522|\n",
      "|    min|          10011.0|\n",
      "|    max|            2.2E7|\n",
      "+-------+-----------------+\n",
      "\n"
     ]
    }
   ],
   "source": [
    "df.describe(['PRICE']).show()"
   ]
  },
  {
   "cell_type": "markdown",
   "metadata": {},
   "source": [
    "#### Average price grouped by rooms?"
   ]
  },
  {
   "cell_type": "code",
   "execution_count": 14,
   "metadata": {},
   "outputs": [
    {
     "name": "stdout",
     "output_type": "stream",
     "text": [
      "+-----+------------------+\n",
      "|ROOMS|        avg(PRICE)|\n",
      "+-----+------------------+\n",
      "|    0|  684631.224489796|\n",
      "|    1| 228049.9365079365|\n",
      "|    2|279625.25104836456|\n",
      "|    3| 414523.0071892925|\n",
      "|    4| 473916.2436598379|\n",
      "|    5|503497.99006314046|\n",
      "|    6| 478809.9857295956|\n",
      "|    7| 559164.8552504351|\n",
      "|    8| 691010.9208091772|\n",
      "|    9| 867727.3081621322|\n",
      "|   10| 977329.9130028064|\n",
      "|   11|1259696.8744473916|\n",
      "|   12| 964828.6670822942|\n",
      "|   13|1813800.0506666666|\n",
      "|   14|1565844.9666666666|\n",
      "|   15|2001627.4258064516|\n",
      "|   16| 642821.5985815603|\n",
      "|   17| 3316535.714285714|\n",
      "|   18|1560517.5409836066|\n",
      "|   19|3248112.3529411764|\n",
      "+-----+------------------+\n",
      "only showing top 20 rows\n",
      "\n"
     ]
    }
   ],
   "source": [
    "df.groupBy(\"ROOMS\").avg(\"PRICE\").orderBy(\"ROOMS\").show()"
   ]
  },
  {
   "cell_type": "markdown",
   "metadata": {},
   "source": [
    "#### Date range of house"
   ]
  },
  {
   "cell_type": "code",
   "execution_count": 15,
   "metadata": {},
   "outputs": [
    {
     "name": "stdout",
     "output_type": "stream",
     "text": [
      "+--------+--------+\n",
      "|min(EYB)|max(EYB)|\n",
      "+--------+--------+\n",
      "|    1820|    2018|\n",
      "+--------+--------+\n",
      "\n"
     ]
    }
   ],
   "source": [
    "df.selectExpr(\"min(EYB)\", \"max(EYB)\").show()"
   ]
  },
  {
   "cell_type": "markdown",
   "metadata": {},
   "source": [
    "#### Average price grouped by LAND AREA?"
   ]
  },
  {
   "cell_type": "code",
   "execution_count": 16,
   "metadata": {},
   "outputs": [
    {
     "name": "stdout",
     "output_type": "stream",
     "text": [
      "+--------+------------------+\n",
      "|LANDAREA|        avg(PRICE)|\n",
      "+--------+------------------+\n",
      "|       0| 763316.4838709678|\n",
      "|       1|          463500.0|\n",
      "|       2|          635000.0|\n",
      "|       3|          321350.0|\n",
      "|       4| 274342.2727272727|\n",
      "|       5|143411.76923076922|\n",
      "|       6|          270443.0|\n",
      "|       7| 370583.1818181818|\n",
      "|       8|        449519.475|\n",
      "|       9|498448.79347826086|\n",
      "|      10| 455871.5367647059|\n",
      "|      11| 515082.4175824176|\n",
      "|      12| 734490.4761904762|\n",
      "|      13| 718138.0303030303|\n",
      "|      14| 663965.5416666666|\n",
      "|      15|          813650.0|\n",
      "|      16|          949000.0|\n",
      "|      17|         1156237.5|\n",
      "|      18|         665996.25|\n",
      "|      19| 650742.1052631579|\n",
      "+--------+------------------+\n",
      "only showing top 20 rows\n",
      "\n"
     ]
    }
   ],
   "source": [
    "df.groupBy(\"LANDAREA\").avg(\"PRICE\").orderBy(\"LANDAREA\").show()"
   ]
  },
  {
   "cell_type": "markdown",
   "metadata": {},
   "source": [
    "#### Average price grouped by Source of house and Condition?"
   ]
  },
  {
   "cell_type": "code",
   "execution_count": 17,
   "metadata": {},
   "outputs": [
    {
     "name": "stdout",
     "output_type": "stream",
     "text": [
      "+-----------+---------+------------------+\n",
      "|     SOURCE|    CNDTN|        avg(PRICE)|\n",
      "+-----------+---------+------------------+\n",
      "|Residential|  Default|3024666.6666666665|\n",
      "|Residential|Excellent|1246668.5170842824|\n",
      "|Residential|Very Good|  949425.826893354|\n",
      "|Residential|     Good| 682519.7764780138|\n",
      "|Residential|     Poor| 524901.0975609756|\n",
      "|Condominium|     null| 473028.5306718598|\n",
      "|Residential|     Fair|453501.43961352657|\n",
      "|Residential|  Average|423817.82872729143|\n",
      "+-----------+---------+------------------+\n",
      "\n"
     ]
    }
   ],
   "source": [
    "from pyspark.sql import functions as F\n",
    "\n",
    "df.groupBy(\"SOURCE\",\"CNDTN\").avg(\"PRICE\").orderBy(F.desc(\"avg(PRICE)\")).show()"
   ]
  },
  {
   "cell_type": "markdown",
   "metadata": {},
   "source": [
    "#### Average price grouped by Quadrant of house location in washington DC city?"
   ]
  },
  {
   "cell_type": "code",
   "execution_count": 18,
   "metadata": {},
   "outputs": [
    {
     "name": "stdout",
     "output_type": "stream",
     "text": [
      "+---------+------------------+\n",
      "|QUADRANTå|        avg(PRICE)|\n",
      "+---------+------------------+\n",
      "|     null|482521.27777777775|\n",
      "|       NE|416370.27716197324|\n",
      "|       SE| 388392.5239282499|\n",
      "|       NW| 673368.2134608723|\n",
      "|       SW|367933.23506133753|\n",
      "+---------+------------------+\n",
      "\n"
     ]
    }
   ],
   "source": [
    "df.groupBy(\"QUADRANTå\").avg(\"PRICE\").show()"
   ]
  },
  {
   "cell_type": "markdown",
   "metadata": {},
   "source": [
    "#### How many house types are there based on Structure?"
   ]
  },
  {
   "cell_type": "code",
   "execution_count": 19,
   "metadata": {},
   "outputs": [
    {
     "data": {
      "text/plain": [
       "9"
      ]
     },
     "execution_count": 19,
     "metadata": {},
     "output_type": "execute_result"
    }
   ],
   "source": [
    "df.select(\"STRUCT\").distinct().count()"
   ]
  },
  {
   "cell_type": "code",
   "execution_count": 20,
   "metadata": {},
   "outputs": [
    {
     "name": "stdout",
     "output_type": "stream",
     "text": [
      "+-------------+---------------+-----+\n",
      "|       STRUCT|          STYLE|count|\n",
      "+-------------+---------------+-----+\n",
      "|         null|           null|37999|\n",
      "|   Row Inside|        1 Story|   27|\n",
      "|Semi-Detached|        1 Story|   45|\n",
      "|       Single|        1 Story| 1637|\n",
      "|      Row End|        1 Story|   15|\n",
      "|        Multi|        1 Story|    6|\n",
      "|       Single|  1.5 Story Fin|  934|\n",
      "|   Row Inside|  1.5 Story Fin|   14|\n",
      "|      Row End|  1.5 Story Fin|    2|\n",
      "|Semi-Detached|  1.5 Story Fin|   27|\n",
      "|        Multi|  1.5 Story Fin|    1|\n",
      "|       Single|1.5 Story Unfin|   36|\n",
      "|      Row End|1.5 Story Unfin|    1|\n",
      "|Semi-Detached|1.5 Story Unfin|    4|\n",
      "|   Row Inside|1.5 Story Unfin|    2|\n",
      "|        Multi|1.5 Story Unfin|    4|\n",
      "|     Town End|        2 Story|   56|\n",
      "|Semi-Detached|        2 Story| 6554|\n",
      "|      Default|        2 Story|    2|\n",
      "|       Single|        2 Story| 7797|\n",
      "+-------------+---------------+-----+\n",
      "only showing top 20 rows\n",
      "\n"
     ]
    }
   ],
   "source": [
    "df.groupBy(\"STRUCT\", \"STYLE\").count().orderBy(\"STYLE\").show()"
   ]
  },
  {
   "cell_type": "markdown",
   "metadata": {},
   "source": [
    "#### Comparison of house price based on year and strcuture type"
   ]
  },
  {
   "cell_type": "code",
   "execution_count": 21,
   "metadata": {},
   "outputs": [
    {
     "name": "stdout",
     "output_type": "stream",
     "text": [
      "+-------------+------------------+\n",
      "|       STRUCT|        avg(PRICE)|\n",
      "+-------------+------------------+\n",
      "|  Town Inside|399895.26086956525|\n",
      "|         null| 473028.5306718598|\n",
      "|        Multi| 418598.8694794953|\n",
      "|Semi-Detached| 418765.7134171618|\n",
      "|      Row End| 609573.3047619048|\n",
      "|   Row Inside| 601713.3452754782|\n",
      "|      Default|         3241500.0|\n",
      "|     Town End| 463481.8181818182|\n",
      "|       Single| 818776.3047639765|\n",
      "+-------------+------------------+\n",
      "\n"
     ]
    }
   ],
   "source": [
    "df.groupBy(\"STRUCT\").avg(\"PRICE\").show()"
   ]
  },
  {
   "cell_type": "markdown",
   "metadata": {},
   "source": [
    "## Visualization"
   ]
  },
  {
   "cell_type": "markdown",
   "metadata": {},
   "source": [
    "#### Installing Panda"
   ]
  },
  {
   "cell_type": "code",
   "execution_count": 22,
   "metadata": {},
   "outputs": [
    {
     "name": "stdout",
     "output_type": "stream",
     "text": [
      "Collecting package metadata: done\n",
      "Solving environment: done\n",
      "\n",
      "## Package Plan ##\n",
      "\n",
      "  environment location: /opt/conda\n",
      "\n",
      "  added / updated specs:\n",
      "    - pandas\n",
      "\n",
      "\n",
      "The following packages will be downloaded:\n",
      "\n",
      "    package                    |            build\n",
      "    ---------------------------|-----------------\n",
      "    pandas-0.24.2              |   py36he6710b0_0        11.1 MB\n",
      "    ------------------------------------------------------------\n",
      "                                           Total:        11.1 MB\n",
      "\n",
      "The following NEW packages will be INSTALLED:\n",
      "\n",
      "  pandas             pkgs/main/linux-64::pandas-0.24.2-py36he6710b0_0\n",
      "\n",
      "\n",
      "\n",
      "Downloading and Extracting Packages\n",
      "pandas-0.24.2        | 11.1 MB   | ##################################### | 100% \n",
      "Preparing transaction: done\n",
      "Verifying transaction: done\n",
      "Executing transaction: done\n"
     ]
    }
   ],
   "source": [
    "!conda install pandas"
   ]
  },
  {
   "cell_type": "markdown",
   "metadata": {},
   "source": [
    "### Find the trends for property sales by year. "
   ]
  },
  {
   "cell_type": "markdown",
   "metadata": {},
   "source": [
    "#### analysis the total sales count, average price and totoal sales value by each year. (Exclude 2007 and 2015 which contains invalid data)"
   ]
  },
  {
   "cell_type": "code",
   "execution_count": 23,
   "metadata": {},
   "outputs": [
    {
     "name": "stdout",
     "output_type": "stream",
     "text": [
      "+----+-----------+------------------+\n",
      "|Year|sales_count|         avg_price|\n",
      "+----+-----------+------------------+\n",
      "|2017|       9774| 754785.6731123389|\n",
      "|2016|       8095| 648859.0569487337|\n",
      "|2015|       7306| 640757.4742677251|\n",
      "|2014|       6576| 636613.0003041363|\n",
      "|2013|       6014| 603202.4634186897|\n",
      "|2012|       4793| 554353.2443146255|\n",
      "|2011|       4023| 533096.3475018643|\n",
      "|2010|       4143| 562119.6722181994|\n",
      "|2009|       3825|483166.16104575165|\n",
      "|2008|       3350|512125.38417910447|\n",
      "|2007|       4093| 502480.5138040557|\n",
      "|2006|       3779|487862.33897856576|\n",
      "|2005|       4250|498257.22329411766|\n",
      "|2004|       3665|403397.68649386085|\n",
      "|2003|       2997| 357844.8014681348|\n",
      "|2002|       2664|304425.33295795793|\n",
      "|2001|       2407| 277478.5400914001|\n",
      "|2000|       2160| 239973.8361111111|\n",
      "+----+-----------+------------------+\n",
      "\n"
     ]
    }
   ],
   "source": [
    "from pyspark.sql import functions as F\n",
    "#exclude 2007 and 2015 data since they are outliers\n",
    "sales_for_each_year = df.groupBy(F.year(\"SALEDATE\").alias(\"Year\"))\\\n",
    "                        .agg(F.count(\"ID\").alias(\"sales_count\"),F.avg(\"PRICE\").alias(\"avg_price\"))\\\n",
    "                        .where(F.col(\"Year\") >= 2000)\\\n",
    "                        .where(F.col(\"Year\") <= 2017)\\\n",
    "                        .orderBy(F.desc(\"Year\"))\n",
    "sales_for_each_year.show()"
   ]
  },
  {
   "cell_type": "code",
   "execution_count": 24,
   "metadata": {},
   "outputs": [
    {
     "data": {
      "text/html": [
       "<div>\n",
       "<style scoped>\n",
       "    .dataframe tbody tr th:only-of-type {\n",
       "        vertical-align: middle;\n",
       "    }\n",
       "\n",
       "    .dataframe tbody tr th {\n",
       "        vertical-align: top;\n",
       "    }\n",
       "\n",
       "    .dataframe thead th {\n",
       "        text-align: right;\n",
       "    }\n",
       "</style>\n",
       "<table border=\"1\" class=\"dataframe\">\n",
       "  <thead>\n",
       "    <tr style=\"text-align: right;\">\n",
       "      <th></th>\n",
       "      <th>Year</th>\n",
       "      <th>sales_count</th>\n",
       "      <th>avg_price</th>\n",
       "    </tr>\n",
       "  </thead>\n",
       "  <tbody>\n",
       "    <tr>\n",
       "      <th>0</th>\n",
       "      <td>2017</td>\n",
       "      <td>9774</td>\n",
       "      <td>754785.673112</td>\n",
       "    </tr>\n",
       "    <tr>\n",
       "      <th>1</th>\n",
       "      <td>2016</td>\n",
       "      <td>8095</td>\n",
       "      <td>648859.056949</td>\n",
       "    </tr>\n",
       "    <tr>\n",
       "      <th>2</th>\n",
       "      <td>2015</td>\n",
       "      <td>7306</td>\n",
       "      <td>640757.474268</td>\n",
       "    </tr>\n",
       "    <tr>\n",
       "      <th>3</th>\n",
       "      <td>2014</td>\n",
       "      <td>6576</td>\n",
       "      <td>636613.000304</td>\n",
       "    </tr>\n",
       "    <tr>\n",
       "      <th>4</th>\n",
       "      <td>2013</td>\n",
       "      <td>6014</td>\n",
       "      <td>603202.463419</td>\n",
       "    </tr>\n",
       "  </tbody>\n",
       "</table>\n",
       "</div>"
      ],
      "text/plain": [
       "   Year  sales_count      avg_price\n",
       "0  2017         9774  754785.673112\n",
       "1  2016         8095  648859.056949\n",
       "2  2015         7306  640757.474268\n",
       "3  2014         6576  636613.000304\n",
       "4  2013         6014  603202.463419"
      ]
     },
     "execution_count": 24,
     "metadata": {},
     "output_type": "execute_result"
    }
   ],
   "source": [
    "py_dc_data = sales_for_each_year.toPandas()\n",
    "py_dc_data.head()"
   ]
  },
  {
   "cell_type": "markdown",
   "metadata": {},
   "source": [
    "#### Use *matplotlib* for plotting"
   ]
  },
  {
   "cell_type": "code",
   "execution_count": 25,
   "metadata": {},
   "outputs": [
    {
     "data": {
      "image/png": "[encoded data removed]",
      "text/plain": [
       "<Figure size 432x288 with 1 Axes>"
      ]
     },
     "metadata": {},
     "output_type": "display_data"
    },
    {
     "data": {
      "image/png": "[encoded data removed]",
      "text/plain": [
       "<Figure size 432x288 with 1 Axes>"
      ]
     },
     "metadata": {},
     "output_type": "display_data"
    }
   ],
   "source": [
    "%matplotlib inline\n",
    "import matplotlib.pyplot as plt\n",
    "plt.style.use('ggplot')\n",
    "df1 = py_dc_data.set_index('Year')\n",
    "df1[[\"sales_count\" ]].plot.bar().invert_xaxis()\n",
    "plt.title('Sales trend by Year (2000 - 2017)')\n",
    "df1[[\"avg_price\" ]].plot.bar().invert_xaxis()"
   ]
  },
  {
   "cell_type": "code",
   "execution_count": 26,
   "metadata": {},
   "outputs": [
    {
     "name": "stdout",
     "output_type": "stream",
     "text": [
      "+-----+-----------+-----------------+\n",
      "|Month|sales_count|        avg_price|\n",
      "+-----+-----------+-----------------+\n",
      "|    1|       6236|537387.7825529185|\n",
      "|    2|       5402|521548.2558311736|\n",
      "|    3|       7201|520568.9136231079|\n",
      "|    4|       7459|553036.7120257408|\n",
      "|    5|       8703|599319.2018844077|\n",
      "|    6|       9136|678162.3434763573|\n",
      "|    7|       8490|580905.1861012956|\n",
      "|    8|       7903|545420.9391370366|\n",
      "|    9|       7062|512727.2972245823|\n",
      "|   10|       7256|528273.8350330761|\n",
      "|   11|       6712|546498.6838498212|\n",
      "|   12|       7482|546485.5312750601|\n",
      "+-----+-----------+-----------------+\n",
      "\n"
     ]
    }
   ],
   "source": [
    "sales_for_each_month = df.groupBy(F.month(\"SALEDATE\").alias(\"Month\"))\\\n",
    "                        .agg(F.count(\"ID\").alias(\"sales_count\"),F.avg(\"PRICE\").alias(\"avg_price\"))\\\n",
    "                        .where(F.col(\"Month\") >= 1)\\\n",
    "                        .orderBy(F.asc(\"Month\"))\n",
    "sales_for_each_month.show()"
   ]
  },
  {
   "cell_type": "markdown",
   "metadata": {},
   "source": [
    "#### Find the trends for property sales by month."
   ]
  },
  {
   "cell_type": "code",
   "execution_count": 27,
   "metadata": {
    "scrolled": true
   },
   "outputs": [
    {
     "data": {
      "text/plain": [
       "Text(0.5, 1.0, 'Sales trend by month')"
      ]
     },
     "execution_count": 27,
     "metadata": {},
     "output_type": "execute_result"
    },
    {
     "data": {
      "image/png": "[encoded data removed]",
      "text/plain": [
       "<Figure size 432x288 with 1 Axes>"
      ]
     },
     "metadata": {
      "needs_background": "light"
     },
     "output_type": "display_data"
    }
   ],
   "source": [
    "py_dc_data3 = sales_for_each_month.toPandas()\n",
    "py_dc_data3.head()\n",
    "df3 = py_dc_data3.set_index('Month')\n",
    "df3[[\"sales_count\"]].plot.bar()\n",
    "plt.title('Sales trend by month')"
   ]
  },
  {
   "cell_type": "code",
   "execution_count": 28,
   "metadata": {},
   "outputs": [
    {
     "data": {
      "text/plain": [
       "<matplotlib.axes._subplots.AxesSubplot at 0x7eff3f35dc88>"
      ]
     },
     "execution_count": 28,
     "metadata": {},
     "output_type": "execute_result"
    },
    {
     "data": {
      "image/png": "[encoded data removed]",
      "text/plain": [
       "<Figure size 432x288 with 1 Axes>"
      ]
     },
     "metadata": {
      "needs_background": "light"
     },
     "output_type": "display_data"
    }
   ],
   "source": [
    "df3[[\"avg_price\"]].plot.bar()"
   ]
  },
  {
   "cell_type": "markdown",
   "metadata": {},
   "source": [
    "#### Average sales price per ward"
   ]
  },
  {
   "cell_type": "code",
   "execution_count": 29,
   "metadata": {},
   "outputs": [
    {
     "name": "stdout",
     "output_type": "stream",
     "text": [
      "+------+------------------+\n",
      "|  WARD|         avg_price|\n",
      "+------+------------------+\n",
      "|Ward 3| 839904.3091846758|\n",
      "|Ward 2| 727248.6242754136|\n",
      "|Ward 1| 598745.9872033899|\n",
      "|Ward 6|  556323.498071552|\n",
      "|Ward 4| 531791.3386896222|\n",
      "|Ward 5|416043.14266702154|\n",
      "|Ward 8|279133.00363133324|\n",
      "|Ward 7| 247770.4354974199|\n",
      "+------+------------------+\n",
      "\n"
     ]
    }
   ],
   "source": [
    "sales_each_ward = df.groupBy(F.col(\"WARD\"))\\\n",
    "                        .agg(F.avg(\"PRICE\").alias(\"avg_price\"))\\\n",
    "                        .where(F.col(\"WARD\") != 'null')\\\n",
    "                        .orderBy(F.desc(\"avg_price\"))\n",
    "sales_each_ward.show()"
   ]
  },
  {
   "cell_type": "code",
   "execution_count": 30,
   "metadata": {},
   "outputs": [
    {
     "data": {
      "text/html": [
       "<div>\n",
       "<style scoped>\n",
       "    .dataframe tbody tr th:only-of-type {\n",
       "        vertical-align: middle;\n",
       "    }\n",
       "\n",
       "    .dataframe tbody tr th {\n",
       "        vertical-align: top;\n",
       "    }\n",
       "\n",
       "    .dataframe thead th {\n",
       "        text-align: right;\n",
       "    }\n",
       "</style>\n",
       "<table border=\"1\" class=\"dataframe\">\n",
       "  <thead>\n",
       "    <tr style=\"text-align: right;\">\n",
       "      <th></th>\n",
       "      <th>WARD</th>\n",
       "      <th>avg_price</th>\n",
       "    </tr>\n",
       "  </thead>\n",
       "  <tbody>\n",
       "    <tr>\n",
       "      <th>0</th>\n",
       "      <td>Ward 3</td>\n",
       "      <td>839904.309185</td>\n",
       "    </tr>\n",
       "    <tr>\n",
       "      <th>1</th>\n",
       "      <td>Ward 2</td>\n",
       "      <td>727248.624275</td>\n",
       "    </tr>\n",
       "    <tr>\n",
       "      <th>2</th>\n",
       "      <td>Ward 1</td>\n",
       "      <td>598745.987203</td>\n",
       "    </tr>\n",
       "    <tr>\n",
       "      <th>3</th>\n",
       "      <td>Ward 6</td>\n",
       "      <td>556323.498072</td>\n",
       "    </tr>\n",
       "    <tr>\n",
       "      <th>4</th>\n",
       "      <td>Ward 4</td>\n",
       "      <td>531791.338690</td>\n",
       "    </tr>\n",
       "  </tbody>\n",
       "</table>\n",
       "</div>"
      ],
      "text/plain": [
       "     WARD      avg_price\n",
       "0  Ward 3  839904.309185\n",
       "1  Ward 2  727248.624275\n",
       "2  Ward 1  598745.987203\n",
       "3  Ward 6  556323.498072\n",
       "4  Ward 4  531791.338690"
      ]
     },
     "execution_count": 30,
     "metadata": {},
     "output_type": "execute_result"
    }
   ],
   "source": [
    "py_dc_data2 = sales_each_ward.toPandas()\n",
    "py_dc_data2.head()"
   ]
  },
  {
   "cell_type": "code",
   "execution_count": 31,
   "metadata": {
    "scrolled": true
   },
   "outputs": [
    {
     "data": {
      "text/plain": [
       "<matplotlib.axes._subplots.AxesSubplot at 0x7eff3f274fd0>"
      ]
     },
     "execution_count": 31,
     "metadata": {},
     "output_type": "execute_result"
    },
    {
     "data": {
      "image/png": "[encoded data removed]",
      "text/plain": [
       "<Figure size 432x288 with 1 Axes>"
      ]
     },
     "metadata": {
      "needs_background": "light"
     },
     "output_type": "display_data"
    }
   ],
   "source": [
    "df2 = py_dc_data2.set_index('WARD')\n",
    "df2[[\"avg_price\"]].plot.bar()"
   ]
  },
  {
   "cell_type": "markdown",
   "metadata": {},
   "source": [
    "Ward 3 has most avg_price in D.C."
   ]
  },
  {
   "cell_type": "markdown",
   "metadata": {},
   "source": [
    "## Sampling & Scatterplot\n",
    "sample 5% of the data to plot a scatterplot:"
   ]
  },
  {
   "cell_type": "code",
   "execution_count": 32,
   "metadata": {},
   "outputs": [
    {
     "data": {
      "text/html": [
       "<div>\n",
       "<style scoped>\n",
       "    .dataframe tbody tr th:only-of-type {\n",
       "        vertical-align: middle;\n",
       "    }\n",
       "\n",
       "    .dataframe tbody tr th {\n",
       "        vertical-align: top;\n",
       "    }\n",
       "\n",
       "    .dataframe thead th {\n",
       "        text-align: right;\n",
       "    }\n",
       "</style>\n",
       "<table border=\"1\" class=\"dataframe\">\n",
       "  <thead>\n",
       "    <tr style=\"text-align: right;\">\n",
       "      <th></th>\n",
       "      <th>ID</th>\n",
       "      <th>BATHRM</th>\n",
       "      <th>HF_BATHRM</th>\n",
       "      <th>HEAT</th>\n",
       "      <th>AC</th>\n",
       "      <th>NUM_UNITS</th>\n",
       "      <th>ROOMS</th>\n",
       "      <th>BEDRM</th>\n",
       "      <th>AYB</th>\n",
       "      <th>YR_RMDL</th>\n",
       "      <th>...</th>\n",
       "      <th>LONGITUDE</th>\n",
       "      <th>ASSESSMENT_NBHD</th>\n",
       "      <th>ASSESSMENT_SUBNBHD</th>\n",
       "      <th>CENSUS_TRACT</th>\n",
       "      <th>CENSUS_BLOCK</th>\n",
       "      <th>WARD</th>\n",
       "      <th>SQUARE</th>\n",
       "      <th>X</th>\n",
       "      <th>Y</th>\n",
       "      <th>QUADRANTå</th>\n",
       "    </tr>\n",
       "  </thead>\n",
       "  <tbody>\n",
       "    <tr>\n",
       "      <th>0</th>\n",
       "      <td>158248</td>\n",
       "      <td>1</td>\n",
       "      <td>0</td>\n",
       "      <td>Ht Pump</td>\n",
       "      <td>Y</td>\n",
       "      <td>NaN</td>\n",
       "      <td>4</td>\n",
       "      <td>2</td>\n",
       "      <td>2006.0</td>\n",
       "      <td>2006.0</td>\n",
       "      <td>...</td>\n",
       "      <td>-77.018312</td>\n",
       "      <td>Old City 2</td>\n",
       "      <td>040 B Old City 2</td>\n",
       "      <td>4802.0</td>\n",
       "      <td>None</td>\n",
       "      <td>Ward 6</td>\n",
       "      <td>0514</td>\n",
       "      <td>-77.018315</td>\n",
       "      <td>38.905417</td>\n",
       "      <td>NW</td>\n",
       "    </tr>\n",
       "    <tr>\n",
       "      <th>1</th>\n",
       "      <td>113494</td>\n",
       "      <td>1</td>\n",
       "      <td>0</td>\n",
       "      <td>Forced Air</td>\n",
       "      <td>Y</td>\n",
       "      <td>NaN</td>\n",
       "      <td>5</td>\n",
       "      <td>2</td>\n",
       "      <td>1959.0</td>\n",
       "      <td>NaN</td>\n",
       "      <td>...</td>\n",
       "      <td>-77.080883</td>\n",
       "      <td>Glover Park</td>\n",
       "      <td>None</td>\n",
       "      <td>702.0</td>\n",
       "      <td>None</td>\n",
       "      <td>Ward 3</td>\n",
       "      <td>1708</td>\n",
       "      <td>-77.080885</td>\n",
       "      <td>38.923855</td>\n",
       "      <td>NW</td>\n",
       "    </tr>\n",
       "    <tr>\n",
       "      <th>2</th>\n",
       "      <td>72254</td>\n",
       "      <td>3</td>\n",
       "      <td>1</td>\n",
       "      <td>Forced Air</td>\n",
       "      <td>Y</td>\n",
       "      <td>1.0</td>\n",
       "      <td>8</td>\n",
       "      <td>3</td>\n",
       "      <td>2017.0</td>\n",
       "      <td>NaN</td>\n",
       "      <td>...</td>\n",
       "      <td>-76.998763</td>\n",
       "      <td>Brookland</td>\n",
       "      <td>007 B Brookland</td>\n",
       "      <td>9509.0</td>\n",
       "      <td>009509 3004</td>\n",
       "      <td>Ward 5</td>\n",
       "      <td>3788</td>\n",
       "      <td>-76.998047</td>\n",
       "      <td>38.949595</td>\n",
       "      <td>NE</td>\n",
       "    </tr>\n",
       "    <tr>\n",
       "      <th>3</th>\n",
       "      <td>158565</td>\n",
       "      <td>2</td>\n",
       "      <td>1</td>\n",
       "      <td>Ht Pump</td>\n",
       "      <td>Y</td>\n",
       "      <td>NaN</td>\n",
       "      <td>4</td>\n",
       "      <td>2</td>\n",
       "      <td>2013.0</td>\n",
       "      <td>NaN</td>\n",
       "      <td>...</td>\n",
       "      <td>-77.025373</td>\n",
       "      <td>Central-tri 3</td>\n",
       "      <td>None</td>\n",
       "      <td>5800.0</td>\n",
       "      <td>None</td>\n",
       "      <td>Ward 2</td>\n",
       "      <td>0374</td>\n",
       "      <td>-77.025376</td>\n",
       "      <td>38.900443</td>\n",
       "      <td>NW</td>\n",
       "    </tr>\n",
       "    <tr>\n",
       "      <th>4</th>\n",
       "      <td>123020</td>\n",
       "      <td>1</td>\n",
       "      <td>0</td>\n",
       "      <td>Forced Air</td>\n",
       "      <td>Y</td>\n",
       "      <td>NaN</td>\n",
       "      <td>3</td>\n",
       "      <td>1</td>\n",
       "      <td>1930.0</td>\n",
       "      <td>2017.0</td>\n",
       "      <td>...</td>\n",
       "      <td>-76.989037</td>\n",
       "      <td>Trinidad</td>\n",
       "      <td>052 A Trinidad</td>\n",
       "      <td>8802.0</td>\n",
       "      <td>None</td>\n",
       "      <td>Ward 5</td>\n",
       "      <td>4059</td>\n",
       "      <td>-76.989040</td>\n",
       "      <td>38.906422</td>\n",
       "      <td>NE</td>\n",
       "    </tr>\n",
       "  </tbody>\n",
       "</table>\n",
       "<p>5 rows × 47 columns</p>\n",
       "</div>"
      ],
      "text/plain": [
       "       ID  BATHRM  HF_BATHRM        HEAT AC  NUM_UNITS  ROOMS  BEDRM     AYB  \\\n",
       "0  158248       1          0     Ht Pump  Y        NaN      4      2  2006.0   \n",
       "1  113494       1          0  Forced Air  Y        NaN      5      2  1959.0   \n",
       "2   72254       3          1  Forced Air  Y        1.0      8      3  2017.0   \n",
       "3  158565       2          1     Ht Pump  Y        NaN      4      2  2013.0   \n",
       "4  123020       1          0  Forced Air  Y        NaN      3      1  1930.0   \n",
       "\n",
       "   YR_RMDL  ...  LONGITUDE  ASSESSMENT_NBHD ASSESSMENT_SUBNBHD  CENSUS_TRACT  \\\n",
       "0   2006.0  ... -77.018312       Old City 2   040 B Old City 2        4802.0   \n",
       "1      NaN  ... -77.080883      Glover Park               None         702.0   \n",
       "2      NaN  ... -76.998763        Brookland    007 B Brookland        9509.0   \n",
       "3      NaN  ... -77.025373    Central-tri 3               None        5800.0   \n",
       "4   2017.0  ... -76.989037         Trinidad     052 A Trinidad        8802.0   \n",
       "\n",
       "  CENSUS_BLOCK    WARD  SQUARE          X          Y QUADRANTå  \n",
       "0         None  Ward 6    0514 -77.018315  38.905417        NW  \n",
       "1         None  Ward 3    1708 -77.080885  38.923855        NW  \n",
       "2  009509 3004  Ward 5    3788 -76.998047  38.949595        NE  \n",
       "3         None  Ward 2    0374 -77.025376  38.900443        NW  \n",
       "4         None  Ward 5    4059 -76.989040  38.906422        NE  \n",
       "\n",
       "[5 rows x 47 columns]"
      ]
     },
     "execution_count": 32,
     "metadata": {},
     "output_type": "execute_result"
    }
   ],
   "source": [
    "df_sample = df.where(F.year(\"SALEDATE\") == 2017).sample(withReplacement = False, fraction = 0.05, seed = 8)\n",
    "\n",
    "# Convert to Pandas\n",
    "py_df_sample = df_sample.toPandas()\n",
    "\n",
    "py_df_sample.head()"
   ]
  },
  {
   "cell_type": "markdown",
   "metadata": {},
   "source": [
    "Draw plot on housing sales count by location"
   ]
  },
  {
   "cell_type": "code",
   "execution_count": 289,
   "metadata": {},
   "outputs": [
    {
     "name": "stderr",
     "output_type": "stream",
     "text": [
      "No handles with labels found to put in legend.\n"
     ]
    },
    {
     "data": {
      "image/png": "[encoded data removed]",
      "text/plain": [
       "<Figure size 720x504 with 2 Axes>"
      ]
     },
     "metadata": {},
     "output_type": "display_data"
    }
   ],
   "source": [
    "py_df_sample.plot(kind=\"scatter\", x=\"LONGITUDE\", y=\"LATITUDE\",\n",
    "    c=\"PRICE\", cmap=plt.get_cmap(\"jet\"),\n",
    "    colorbar=True, alpha=0.6, figsize=(10,7),\n",
    ")\n",
    "plt.ylabel(\"Latitude\", fontsize=14)\n",
    "plt.xlabel(\"Longitude\", fontsize=14)\n",
    "plt.legend(fontsize=16)\n",
    "plt.show()"
   ]
  },
  {
   "cell_type": "markdown",
   "metadata": {},
   "source": [
    "Compare with Washington D.C Map"
   ]
  },
  {
   "cell_type": "markdown",
   "metadata": {},
   "source": [
    "<img src=\"https://raw.githubusercontent.com/elieric/is843/master/DC-Ward-Public-Trans.jpg\" width=\"300\" align=\"left\"/>"
   ]
  },
  {
   "cell_type": "code",
   "execution_count": null,
   "metadata": {},
   "outputs": [],
   "source": []
  }
 ],
 "metadata": {
  "kernelspec": {
   "display_name": "PySpark",
   "language": "python",
   "name": "pyspark"
  },
  "language_info": {
   "codemirror_mode": {
    "name": "ipython",
    "version": 3
   },
   "file_extension": ".py",
   "mimetype": "text/x-python",
   "name": "python",
   "nbconvert_exporter": "python",
   "pygments_lexer": "ipython3",
   "version": "3.6.5"
  }
 },
 "nbformat": 4,
 "nbformat_minor": 2
}
