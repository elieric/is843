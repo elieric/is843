{
 "cells": [
  {
   "cell_type": "markdown",
   "metadata": {},
   "source": [
    "# D.C. Residential Properties\n",
    "Residential Properties in Washington D.C.\n",
    "\n",
    "**About this file**\n",
    "Dataset ready for analysis showing real property information, including most recent sales price as of July 2018, for properties located Washington, D.C.\n"
   ]
  },
  {
   "cell_type": "markdown",
   "metadata": {},
   "source": [
    "**Columns in this Dataset**\n",
    "\n",
    "|Column Name|Description|Type|\n",
    "|--|--|--|\n",
    "|GBA|Gross building area in square feet|Int|\n",
    "|BLDG_NUM|Building Number on Property|Int|\n",
    "|STYLE|Style|String|\n",
    "|STRUCT|Structure|String|\n",
    "|GRADE|Grade|String|\n",
    "|CNDTN|Condition|String|\n",
    "|EXTWALL|Extrerior wall|String|\n",
    "|ROOF|Roof type|String|\n",
    "|INTWALL|Interior wall|String|\n",
    "|KITCHENS|Number of kitchens|Int|\n",
    "|FIREPLACES|Number of fireplaces|Int|\n",
    "|LANDAREA|Last Modified Date|Int|\n",
    "|GIS_LAST_MOD_DTTM|Condition|Timestamp|\n",
    "|SOURCE|Raw Data Source|String|\n",
    "|CMPLX_NUM|Complex number|String|\n"
   ]
  },
  {
   "cell_type": "code",
   "execution_count": 1,
   "metadata": {},
   "outputs": [],
   "source": [
    "data = \"gs://is843_bigdaddydata/notebooks/data/\""
   ]
  }
 ],
 "metadata": {
  "celltoolbar": "Edit Metadata",
  "kernelspec": {
   "display_name": "PySpark",
   "language": "python",
   "name": "pyspark"
  },
  "language_info": {
   "codemirror_mode": {
    "name": "ipython",
    "version": 3
   },
   "file_extension": ".py",
   "mimetype": "text/x-python",
   "name": "python",
   "nbconvert_exporter": "python",
   "pygments_lexer": "ipython3",
   "version": "3.6.5"
  }
 },
 "nbformat": 4,
 "nbformat_minor": 2
}