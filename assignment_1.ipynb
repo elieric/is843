{
 "cells": [
  {
   "cell_type": "markdown",
   "metadata": {},
   "source": [
    "# D.C. Residential Properties Dataset Analysis\n",
    "### Team: Big Daddy Data"
   ]
  },
  {
   "cell_type": "markdown",
   "metadata": {},
   "source": [
    "**Data Source**:\n",
    "\n",
    "Dataset was downloaded from https://www.kaggle.com/christophercorrea/dc-residential-properties"
   ]
  },
  {
   "cell_type": "markdown",
   "metadata": {},
   "source": [
    "**Introduction**\n",
    "\n",
    "Dataset ready for analysis showing real property information, including most recent sales price as of July 2018, for properties located Washington, D.C."
   ]
  },
  {
   "cell_type": "markdown",
   "metadata": {},
   "source": [
    "**Columns in this Dataset**\n",
    "\n",
    "|Column Name|Description|Type|\n",
    "|--|--|--|\n",
    "|GBA|Gross building area in square feet|Int|\n",
    "|BLDG_NUM|Building Number on Property|Int|\n",
    "|STYLE|Style|String|\n",
    "|STRUCT|Structure|String|\n",
    "|GRADE|Grade|String|\n",
    "|CNDTN|Condition|String|\n",
    "|EXTWALL|Extrerior wall|String|\n",
    "|ROOF|Roof type|String|\n",
    "|INTWALL|Interior wall|String|\n",
    "|KITCHENS|Number of kitchens|Int|\n",
    "|FIREPLACES|Number of fireplaces|Int|\n",
    "|LANDAREA|Last Modified Date|Int|\n",
    "|GIS_LAST_MOD_DTTM|Condition|Timestamp|\n",
    "|SOURCE|Raw Data Source|String|\n",
    "|CMPLX_NUM|Complex number|String|\n"
   ]
  },
  {
   "cell_type": "markdown",
   "metadata": {},
   "source": [
    "## Questions one could ask and find answers to from this dataset:\n",
    "* Is there a model to predict the sale price of residental properties in D.C?\n",
    "* What's the most relevant parameters to build up the model?\n",
    "* Is demographic data relevant to the sale price?\n",
    "* Create a graphic map using longtitude and latitude to indicate the saleprice of different area."
   ]
  },
  {
   "cell_type": "markdown",
   "metadata": {},
   "source": [
    "### Datasource"
   ]
  },
  {
   "cell_type": "code",
   "execution_count": 2,
   "metadata": {},
   "outputs": [],
   "source": [
    "data = \"gs://is843_erli/notebooks/data/\""
   ]
  },
  {
   "cell_type": "markdown",
   "metadata": {},
   "source": [
    "### Loading the data into a Spark DataFrame\n",
    "We will create the data frame by inferring the schema"
   ]
  },
  {
   "cell_type": "code",
   "execution_count": null,
   "metadata": {},
   "outputs": [],
   "source": [
    "df = spark.read.format(\"csv\")\\\n",
    "  .option(\"header\", \"true\")\\\n",
    "  .option(\"inferSchema\", \"true\")\\\n",
    "  .option(\"mode\", \"FAILFAST\")\\\n",
    "  .load(data + \"DC_Properties.csv\")\n",
    "\n",
    "df.printSchema()\n",
    "df.show(1, False)"
   ]
  },
  {
   "cell_type": "code",
   "execution_count": null,
   "metadata": {},
   "outputs": [],
   "source": []
  }
 ],
 "metadata": {
  "kernelspec": {
   "display_name": "PySpark",
   "language": "python",
   "name": "pyspark"
  },
  "language_info": {
   "codemirror_mode": {
    "name": "ipython",
    "version": 3
   },
   "file_extension": ".py",
   "mimetype": "text/x-python",
   "name": "python",
   "nbconvert_exporter": "python",
   "pygments_lexer": "ipython3",
   "version": "3.6.5"
  }
 },
 "nbformat": 4,
 "nbformat_minor": 2
}