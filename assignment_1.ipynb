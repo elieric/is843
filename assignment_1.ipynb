{
 "cells": [
  {
   "cell_type": "markdown",
   "metadata": {},
   "source": [
    "# D.C. Residential Properties Dataset Analysis\n",
    "### Team: Big Daddy Data"
   ]
  },
  {
   "cell_type": "markdown",
   "metadata": {},
   "source": [
    "**Data Source**:\n",
    "\n",
    "Dataset was downloaded from https://www.kaggle.com/christophercorrea/dc-residential-properties"
   ]
  },
  {
   "cell_type": "markdown",
   "metadata": {},
   "source": [
    "**Introduction**\n",
    "\n",
    "Dataset ready for analysis showing real property information, including most recent sales price as of July 2018, for properties located Washington, D.C."
   ]
  },
  {
   "cell_type": "markdown",
   "metadata": {},
   "source": [
    "**Columns in this Dataset**\n",
    "\n",
    "|Column Name|Description|Type|\n",
    "|--|--|--|\n",
    "|ID|ID#|Int|\n",
    "|BATHRM|Number of Full Bathrooms|Int|\n",
    "|HF_BATHRM|Number of Half Bathrooms (no bathtub or shower)|Int|\n",
    "|HEAT|Heating|String|\n",
    "|AC|Cooling|String|\n",
    "|NUM_UNITS|Number of Units|Int|\n",
    "|ROOMS|Number of Rooms|Int|\n",
    "|AYB|The earliest time the main portion of the building was built|Int|\n",
    "|YR_RMDL|Year structure was remodeled|Int|\n",
    "|EYB|The year an improvement was built more recent than actual year built|Int|\n",
    "|STORIES|Number of stories in primary dwelling|Int|\n",
    "|SALEDATE|Date of most recent sale|Timestamp|\n",
    "|PRICE|Price of most recent sale|Int|\n",
    "|QUALIFIED|Qualified|Boolean|\n",
    "|SALE_NUM|Sale Number|Int|\n",
    "|GBA|Gross building area in square feet|Int|\n",
    "|BLDG_NUM|Building Number on Property|Int|\n",
    "|STYLE|Style|String|\n",
    "|STRUCT|Structure|String|\n",
    "|GRADE|Grade|String|\n",
    "|CNDTN|Condition|String|\n",
    "|EXTWALL|Extrerior wall|String|\n",
    "|ROOF|Roof type|String|\n",
    "|INTWALL|Interior wall|String|\n",
    "|KITCHENS|Number of kitchens|Int|\n",
    "|FIREPLACES|Number of fireplaces|Int|\n",
    "|USECODE|Property use code|Int|\n",
    "|LANDAREA|Land area of property in square feet|Int|\n",
    "|GIS_LAST_MOD_DTTM|Last Modified Date|Timestamp|\n",
    "|SOURCE|Raw Data Source|String|\n",
    "|CMPLX_NUM|Complex number|String|\n",
    "|LIVING_GBA|Gross building area in square feet|String|\n",
    "|FULLADDRESS|Full Street Address|String|\n",
    "|CITY|City|String|\n",
    "|STATE|State|String|\n",
    "|ZIPCODE|Zip Code|Int|\n",
    "|NATIONALGRID|Address location national grid coordinate spatial address|String|\n",
    "|LATITUDE|Latitude|Int|\n",
    "|LONGITUDE|Longitude|Int|\n",
    "|ASSESSMENT_NBHD|Neighborhood ID|String|\n",
    "|ASSESSMENT_SUBNBHD|Subneighborhood ID|String|\n",
    "|CENSUS_TRACT|Census tract|Int|\n",
    "|CENSUS_BLOCK|Census block|String|\n",
    "|WARD|Ward (District is divided into eight wards, each with approximately 75,000 residents)|String|\n",
    "|SQUARE|Square (from SSL)|Int|\n",
    "|X|longitude|Int|\n",
    "|Y|latitude|Int|\n",
    "|QUADRANT|City quadrant (NE,SE,SW,NW)|String|"
   ]
  },
  {
   "cell_type": "markdown",
   "metadata": {},
   "source": [
    "## Questions one could ask and find answers to from this dataset:\n",
    "* Is there a model to predict the sale price of residental properties in D.C?\n",
    "* What's the most relevant parameters to build up the model?\n",
    "* Is demographic data relevant to the sale price?\n",
    "* Create a graphic map using longtitude and latitude to indicate the saleprice of different area."
   ]
  },
  {
   "cell_type": "markdown",
   "metadata": {},
   "source": [
    "### Datasource"
   ]
  },
  {
   "cell_type": "code",
   "execution_count": 44,
   "metadata": {},
   "outputs": [],
   "source": [
    "data = \"gs://is843_erli/notebooks/data/\""
   ]
  },
  {
   "cell_type": "markdown",
   "metadata": {},
   "source": [
    "### Loading the data into a Spark DataFrame\n",
    "First define our schema:"
   ]
  },
  {
   "cell_type": "code",
   "execution_count": 49,
   "metadata": {},
   "outputs": [],
   "source": [
    "from pyspark.sql import functions as F\n",
    "\n",
    "from pyspark.sql.types import (StructType, \n",
    "                               StructField, \n",
    "                               DateType, \n",
    "                               BooleanType,\n",
    "                               DoubleType,\n",
    "                               IntegerType,\n",
    "                               StringType)\n",
    "\n",
    "house_schema = StructType([StructField(\"ID\", IntegerType(), True),\n",
    "                            StructField(\"BATHRM\", IntegerType(), True),\n",
    "                            StructField(\"HF_BATHRM\", IntegerType(), True ),\n",
    "                            StructField(\"HEAT\", StringType(), True),\n",
    "                            StructField(\"AC\", StringType(), True),\n",
    "                            StructField(\"NUM_UNITS\", IntegerType(), True  ),\n",
    "                            StructField(\"ROOMS\", IntegerType(), True ),\n",
    "                            StructField(\"BEDRM\", IntegerType(), True ),\n",
    "                            StructField(\"AYB\", IntegerType(), True ),\n",
    "                            StructField(\"YR_RMDL\", IntegerType(), True),\n",
    "                            StructField(\"EYB\", IntegerType(), True),\n",
    "                            StructField(\"STORIES\", IntegerType(), True),\n",
    "                            StructField(\"SALEDATE\", DateType(), True),\n",
    "                            StructField(\"PRICE\", DoubleType(), True),\n",
    "                            StructField(\"QUALIFIED\", StringType(), True),\n",
    "                            StructField(\"SALE_NUM\", IntegerType(), True ),\n",
    "                            StructField(\"GBA\", IntegerType(), True),\n",
    "                            StructField(\"BLDG_NUM\", IntegerType(), True ),\n",
    "                            StructField(\"STYLE\", StringType(), True),\n",
    "                            StructField(\"STRUCT\", StringType(), True ),\n",
    "                            StructField(\"GRADE\", StringType(), True),\n",
    "                            StructField(\"CNDTN\", StringType(), True),\n",
    "                            StructField(\"EXTWALL\", StringType(), True ),\n",
    "                            StructField(\"ROOF\", StringType(), True ),\n",
    "                            StructField(\"INTWALL\", StringType(), True ),\n",
    "                            StructField(\"KITCHENS\", IntegerType(), True ),\n",
    "                            StructField(\"FIREPLACES\", IntegerType(), True ),\n",
    "                            StructField(\"USECODE\", IntegerType(), True ),\n",
    "                            StructField(\"LANDAREA\", IntegerType(), True ),\n",
    "                            StructField(\"GIS_LAST_MOD_DTTM\", DateType(), True ),\n",
    "                            StructField(\"SOURCE\", StringType(), True ),\n",
    "                            StructField(\"CMPLX_NUM\", StringType(), True ),\n",
    "                            StructField(\"LIVING_GBA\", StringType(), True ),\n",
    "                            StructField(\"FULLADDRESS\", StringType(), True ),\n",
    "                            StructField(\"CITY\", StringType(), True ),\n",
    "                            StructField(\"STATE\", StringType(), True ),\n",
    "                            StructField(\"ZIPCODE\", IntegerType(), True ),\n",
    "                            StructField(\"NATIONALGRID\", StringType(), True ),\n",
    "                            StructField(\"LATITUDE\", DoubleType(), True ),\n",
    "                            StructField(\"LONGITUDE\", DoubleType(), True ),\n",
    "                            StructField(\"ASSESSMENT_NBHD\", StringType(), True ),\n",
    "                            StructField(\"ASSESSMENT_SUBNBHD\", StringType(), True ),\n",
    "                            StructField(\"CENSUS_TRACT\", IntegerType(), True ),\n",
    "                            StructField(\"CENSUS_BLOCK\", StringType(), True ),\n",
    "                            StructField(\"WARD\", StringType(), True ),\n",
    "                            StructField(\"SQUARE\", IntegerType(), True ),\n",
    "                            StructField(\"X\", DoubleType(), True ),\n",
    "                            StructField(\"Y\", DoubleType(), True ),\n",
    "                            StructField(\"QUADRANT\", StringType(), True )\n",
    "                            ])"
   ]
  },
  {
   "cell_type": "markdown",
   "metadata": {},
   "source": [
    "Create dataframe by providing the schema above:"
   ]
  },
  {
   "cell_type": "code",
   "execution_count": 50,
   "metadata": {},
   "outputs": [
    {
     "name": "stdout",
     "output_type": "stream",
     "text": [
      "root\n",
      " |-- ID: integer (nullable = true)\n",
      " |-- BATHRM: integer (nullable = true)\n",
      " |-- HF_BATHRM: integer (nullable = true)\n",
      " |-- HEAT: string (nullable = true)\n",
      " |-- AC: string (nullable = true)\n",
      " |-- NUM_UNITS: integer (nullable = true)\n",
      " |-- ROOMS: integer (nullable = true)\n",
      " |-- BEDRM: integer (nullable = true)\n",
      " |-- AYB: integer (nullable = true)\n",
      " |-- YR_RMDL: integer (nullable = true)\n",
      " |-- EYB: integer (nullable = true)\n",
      " |-- STORIES: integer (nullable = true)\n",
      " |-- SALEDATE: date (nullable = true)\n",
      " |-- PRICE: double (nullable = true)\n",
      " |-- QUALIFIED: string (nullable = true)\n",
      " |-- SALE_NUM: integer (nullable = true)\n",
      " |-- GBA: integer (nullable = true)\n",
      " |-- BLDG_NUM: integer (nullable = true)\n",
      " |-- STYLE: string (nullable = true)\n",
      " |-- STRUCT: string (nullable = true)\n",
      " |-- GRADE: string (nullable = true)\n",
      " |-- CNDTN: string (nullable = true)\n",
      " |-- EXTWALL: string (nullable = true)\n",
      " |-- ROOF: string (nullable = true)\n",
      " |-- INTWALL: string (nullable = true)\n",
      " |-- KITCHENS: integer (nullable = true)\n",
      " |-- FIREPLACES: integer (nullable = true)\n",
      " |-- USECODE: integer (nullable = true)\n",
      " |-- LANDAREA: integer (nullable = true)\n",
      " |-- GIS_LAST_MOD_DTTM: date (nullable = true)\n",
      " |-- SOURCE: string (nullable = true)\n",
      " |-- CMPLX_NUM: string (nullable = true)\n",
      " |-- LIVING_GBA: string (nullable = true)\n",
      " |-- FULLADDRESS: string (nullable = true)\n",
      " |-- CITY: string (nullable = true)\n",
      " |-- STATE: string (nullable = true)\n",
      " |-- ZIPCODE: integer (nullable = true)\n",
      " |-- NATIONALGRID: string (nullable = true)\n",
      " |-- LATITUDE: double (nullable = true)\n",
      " |-- LONGITUDE: double (nullable = true)\n",
      " |-- ASSESSMENT_NBHD: string (nullable = true)\n",
      " |-- ASSESSMENT_SUBNBHD: string (nullable = true)\n",
      " |-- CENSUS_TRACT: integer (nullable = true)\n",
      " |-- CENSUS_BLOCK: string (nullable = true)\n",
      " |-- WARD: string (nullable = true)\n",
      " |-- SQUARE: integer (nullable = true)\n",
      " |-- X: double (nullable = true)\n",
      " |-- Y: double (nullable = true)\n",
      " |-- QUADRANT: string (nullable = true)\n",
      "\n",
      "+----+------+---------+----+----+---------+-----+-----+----+-------+----+-------+--------+-----+---------+--------+----+--------+-----+------+-----+-----+-------+----+-------+--------+----------+-------+--------+-----------------+------+---------+----------+-----------+----+-----+-------+------------+--------+---------+---------------+------------------+------------+------------+----+------+----+----+--------+\n",
      "|ID  |BATHRM|HF_BATHRM|HEAT|AC  |NUM_UNITS|ROOMS|BEDRM|AYB |YR_RMDL|EYB |STORIES|SALEDATE|PRICE|QUALIFIED|SALE_NUM|GBA |BLDG_NUM|STYLE|STRUCT|GRADE|CNDTN|EXTWALL|ROOF|INTWALL|KITCHENS|FIREPLACES|USECODE|LANDAREA|GIS_LAST_MOD_DTTM|SOURCE|CMPLX_NUM|LIVING_GBA|FULLADDRESS|CITY|STATE|ZIPCODE|NATIONALGRID|LATITUDE|LONGITUDE|ASSESSMENT_NBHD|ASSESSMENT_SUBNBHD|CENSUS_TRACT|CENSUS_BLOCK|WARD|SQUARE|X   |Y   |QUADRANT|\n",
      "+----+------+---------+----+----+---------+-----+-----+----+-------+----+-------+--------+-----+---------+--------+----+--------+-----+------+-----+-----+-------+----+-------+--------+----------+-------+--------+-----------------+------+---------+----------+-----------+----+-----+-------+------------+--------+---------+---------------+------------------+------------+------------+----+------+----+----+--------+\n",
      "|null|null  |null     |null|null|null     |null |null |null|null   |null|null   |null    |null |null     |null    |null|null    |null |null  |null |null |null   |null|null   |null    |null      |null   |null    |null             |null  |null     |null      |null       |null|null |null   |null        |null    |null     |null           |null              |null        |null        |null|null  |null|null|null    |\n",
      "|null|null  |null     |null|null|null     |null |null |null|null   |null|null   |null    |null |null     |null    |null|null    |null |null  |null |null |null   |null|null   |null    |null      |null   |null    |null             |null  |null     |null      |null       |null|null |null   |null        |null    |null     |null           |null              |null        |null        |null|null  |null|null|null    |\n",
      "|null|null  |null     |null|null|null     |null |null |null|null   |null|null   |null    |null |null     |null    |null|null    |null |null  |null |null |null   |null|null   |null    |null      |null   |null    |null             |null  |null     |null      |null       |null|null |null   |null        |null    |null     |null           |null              |null        |null        |null|null  |null|null|null    |\n",
      "|null|null  |null     |null|null|null     |null |null |null|null   |null|null   |null    |null |null     |null    |null|null    |null |null  |null |null |null   |null|null   |null    |null      |null   |null    |null             |null  |null     |null      |null       |null|null |null   |null        |null    |null     |null           |null              |null        |null        |null|null  |null|null|null    |\n",
      "|null|null  |null     |null|null|null     |null |null |null|null   |null|null   |null    |null |null     |null    |null|null    |null |null  |null |null |null   |null|null   |null    |null      |null   |null    |null             |null  |null     |null      |null       |null|null |null   |null        |null    |null     |null           |null              |null        |null        |null|null  |null|null|null    |\n",
      "|null|null  |null     |null|null|null     |null |null |null|null   |null|null   |null    |null |null     |null    |null|null    |null |null  |null |null |null   |null|null   |null    |null      |null   |null    |null             |null  |null     |null      |null       |null|null |null   |null        |null    |null     |null           |null              |null        |null        |null|null  |null|null|null    |\n",
      "|null|null  |null     |null|null|null     |null |null |null|null   |null|null   |null    |null |null     |null    |null|null    |null |null  |null |null |null   |null|null   |null    |null      |null   |null    |null             |null  |null     |null      |null       |null|null |null   |null        |null    |null     |null           |null              |null        |null        |null|null  |null|null|null    |\n",
      "|null|null  |null     |null|null|null     |null |null |null|null   |null|null   |null    |null |null     |null    |null|null    |null |null  |null |null |null   |null|null   |null    |null      |null   |null    |null             |null  |null     |null      |null       |null|null |null   |null        |null    |null     |null           |null              |null        |null        |null|null  |null|null|null    |\n",
      "|null|null  |null     |null|null|null     |null |null |null|null   |null|null   |null    |null |null     |null    |null|null    |null |null  |null |null |null   |null|null   |null    |null      |null   |null    |null             |null  |null     |null      |null       |null|null |null   |null        |null    |null     |null           |null              |null        |null        |null|null  |null|null|null    |\n",
      "|null|null  |null     |null|null|null     |null |null |null|null   |null|null   |null    |null |null     |null    |null|null    |null |null  |null |null |null   |null|null   |null    |null      |null   |null    |null             |null  |null     |null      |null       |null|null |null   |null        |null    |null     |null           |null              |null        |null        |null|null  |null|null|null    |\n",
      "+----+------+---------+----+----+---------+-----+-----+----+-------+----+-------+--------+-----+---------+--------+----+--------+-----+------+-----+-----+-------+----+-------+--------+----------+-------+--------+-----------------+------+---------+----------+-----------+----+-----+-------+------------+--------+---------+---------------+------------------+------------+------------+----+------+----+----+--------+\n",
      "only showing top 10 rows\n",
      "\n"
     ]
    }
   ],
   "source": [
    "df = spark.read.format(\"csv\")\\\n",
    "  .schema(house_schema)\\\n",
    "  .option(\"header\", \"true\")\\\n",
    "  .option(\"nullValue\", \"NA\")\\\n",
    "  .load(data + \"DC_Properties.csv\")\n",
    "\n",
    "df.printSchema()\n",
    "df.show(10, False)\n"
   ]
  },
  {
   "cell_type": "code",
   "execution_count": null,
   "metadata": {},
   "outputs": [],
   "source": []
  },
  {
   "cell_type": "code",
   "execution_count": null,
   "metadata": {},
   "outputs": [],
   "source": []
  }
 ],
 "metadata": {
  "kernelspec": {
   "display_name": "PySpark",
   "language": "python",
   "name": "pyspark"
  },
  "language_info": {
   "codemirror_mode": {
    "name": "ipython",
    "version": 3
   },
   "file_extension": ".py",
   "mimetype": "text/x-python",
   "name": "python",
   "nbconvert_exporter": "python",
   "pygments_lexer": "ipython3",
   "version": "3.6.5"
  }
 },
 "nbformat": 4,
 "nbformat_minor": 2
}