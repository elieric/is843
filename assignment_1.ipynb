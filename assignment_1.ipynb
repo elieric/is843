{
 "cells": [
  {
   "cell_type": "markdown",
   "metadata": {},
   "source": [
    "# D.C. Residential Properties Dataset Analysis\n",
    "### Team: Big Daddy Data"
   ]
  },
  {
   "cell_type": "markdown",
   "metadata": {},
   "source": [
    "**Data Source**:\n",
    "\n",
    "Dataset was downloaded from https://www.kaggle.com/christophercorrea/dc-residential-properties"
   ]
  },
  {
   "cell_type": "markdown",
   "metadata": {},
   "source": [
    "**Introduction**\n",
    "\n",
    "Dataset ready for analysis showing real property information, including most recent sales price as of July 2018, for properties located Washington, D.C."
   ]
  },
  {
   "cell_type": "markdown",
   "metadata": {},
   "source": [
    "**Columns in this Dataset**\n",
    "\n",
    "|Column Name|Description|Type|\n",
    "|--|--|--|\n",
    "|ID|ID#|Int|\n",
    "|BATHRM|Number of Full Bathrooms|Int|\n",
    "|HF_BATHRM|Number of Half Bathrooms (no bathtub or shower)|Int|\n",
    "|HEAT|Heating|String|\n",
    "|AC|Cooling|String|\n",
    "|NUM_UNITS|Number of Units|Int|\n",
    "|ROOMS|Number of Rooms|Int|\n",
    "|AYB|The earliest time the main portion of the building was built|Int|\n",
    "|YR_RMDL|Year structure was remodeled|Int|\n",
    "|EYB|The year an improvement was built more recent than actual year built|Int|\n",
    "|STORIES|Number of stories in primary dwelling|Int|\n",
    "|SALEDATE|Date of most recent sale|Timestamp|\n",
    "|PRICE|Price of most recent sale|Int|\n",
    "|QUALIFIED|Qualified|Boolean|\n",
    "|SALE_NUM|Sale Number|Int|\n",
    "|GBA|Gross building area in square feet|Int|\n",
    "|BLDG_NUM|Building Number on Property|Int|\n",
    "|STYLE|Style|String|\n",
    "|STRUCT|Structure|String|\n",
    "|GRADE|Grade|String|\n",
    "|CNDTN|Condition|String|\n",
    "|EXTWALL|Extrerior wall|String|\n",
    "|ROOF|Roof type|String|\n",
    "|INTWALL|Interior wall|String|\n",
    "|KITCHENS|Number of kitchens|Int|\n",
    "|FIREPLACES|Number of fireplaces|Int|\n",
    "|USECODE|Property use code|Int|\n",
    "|LANDAREA|Land area of property in square feet|Int|\n",
    "|GIS_LAST_MOD_DTTM|Last Modified Date|Timestamp|\n",
    "|SOURCE|Raw Data Source|String|\n",
    "|CMPLX_NUM|Complex number|String|\n",
    "|LIVING_GBA|Gross building area in square feet|String|\n",
    "|FULLADDRESS|Full Street Address|String|\n",
    "|CITY|City|String|\n",
    "|STATE|State|String|\n",
    "|ZIPCODE|Zip Code|Int|\n",
    "|NATIONALGRID|Address location national grid coordinate spatial address|String|\n",
    "|LATITUDE|Latitude|Int|\n",
    "|LONGITUDE|Longitude|Int|\n",
    "|ASSESSMENT_NBHD|Neighborhood ID|String|\n",
    "|ASSESSMENT_SUBNBHD|Subneighborhood ID|String|\n",
    "|CENSUS_TRACT|Census tract|Int|\n",
    "|CENSUS_BLOCK|Census block|String|\n",
    "|WARD|Ward (District is divided into eight wards, each with approximately 75,000 residents)|String|\n",
    "|SQUARE|Square (from SSL)|Int|\n",
    "|X|longitude|Int|\n",
    "|Y|latitude|Int|\n",
    "|QUADRANT|City quadrant (NE,SE,SW,NW)|String|"
   ]
  },
  {
   "cell_type": "markdown",
   "metadata": {},
   "source": [
    "## Questions one could ask and find answers to from this dataset:\n",
    "* Is there a model to predict the sale price of residental properties in D.C?\n",
    "* What's the most relevant parameters to build up the model?\n",
    "* Is demographic data relevant to the sale price?\n",
    "* Which area has the most expensive and which area has the least properties price?\n",
    "* What's the properties sales trend in the last ten years?\n",
    "* Create a graphic map using longtitude and latitude to indicate the saleprice of different area."
   ]
  },
  {
   "cell_type": "markdown",
   "metadata": {},
   "source": [
    "### Datasource"
   ]
  },
  {
   "cell_type": "code",
   "execution_count": 2,
   "metadata": {},
   "outputs": [],
   "source": [
    "data = \"gs://is843_erli/notebooks/data/\""
   ]
  },
  {
   "cell_type": "markdown",
   "metadata": {},
   "source": [
    "### Loading the data into a Spark DataFrame\n",
    "Verify the datasource:"
   ]
  },
  {
   "cell_type": "code",
   "execution_count": 3,
   "metadata": {},
   "outputs": [
    {
     "name": "stdout",
     "output_type": "stream",
     "text": [
      "gs://is843_erli/notebooks/data/DC_Properties.csv\r\n"
     ]
    }
   ],
   "source": [
    "!gsutil ls {data + \"DC_Properties.csv\"}"
   ]
  },
  {
   "cell_type": "markdown",
   "metadata": {},
   "source": [
    "Create dataframe by using inferred schema:"
   ]
  },
  {
   "cell_type": "code",
   "execution_count": null,
   "metadata": {},
   "outputs": [],
   "source": [
    "df = spark.read.format(\"csv\")\\\n",
    "  .option(\"header\", \"true\")\\\n",
    "  .option(\"inferSchema\", \"true\")\\\n",
    "  .load(data + \"DC_Properties.csv\")\n",
    "\n",
    "df.printSchema()"
   ]
  },
  {
   "cell_type": "markdown",
   "metadata": {},
   "source": [
    "Show first 5 rows of the dataset:"
   ]
  },
  {
   "cell_type": "code",
   "execution_count": null,
   "metadata": {},
   "outputs": [],
   "source": [
    "df.show(5, False)"
   ]
  },
  {
   "cell_type": "markdown",
   "metadata": {},
   "source": [
    "## Data Proofiling"
   ]
  },
  {
   "cell_type": "markdown",
   "metadata": {},
   "source": [
    "Cacheing and partition the Dataframe"
   ]
  },
  {
   "cell_type": "code",
   "execution_count": null,
   "metadata": {},
   "outputs": [],
   "source": [
    "df = df.repartition(20)\n",
    "print(\"data was re-partitioned to {} partitions!\".format(crimes.rdd.getNumPartitions()))\n",
    "spark.conf.set(\"spark.sql.shuffle.partitions\", \"20\")\n",
    "df.cache()"
   ]
  },
  {
   "cell_type": "markdown",
   "metadata": {},
   "source": [
    "Number of rows in data set"
   ]
  },
  {
   "cell_type": "code",
   "execution_count": null,
   "metadata": {},
   "outputs": [],
   "source": [
    "df.count()"
   ]
  },
  {
   "cell_type": "markdown",
   "metadata": {},
   "source": [
    "Dropping columns that we will not be using in our analysis"
   ]
  },
  {
   "cell_type": "code",
   "execution_count": null,
   "metadata": {},
   "outputs": [],
   "source": [
    "df = df.drop('CITY', 'STATE')"
   ]
  },
  {
   "cell_type": "markdown",
   "metadata": {},
   "source": [
    "Dropping duplicates"
   ]
  },
  {
   "cell_type": "code",
   "execution_count": null,
   "metadata": {},
   "outputs": [],
   "source": [
    "df = df.drop_duplicates()"
   ]
  },
  {
   "cell_type": "code",
   "execution_count": null,
   "metadata": {},
   "outputs": [],
   "source": [
    "df.count()"
   ]
  },
  {
   "cell_type": "markdown",
   "metadata": {},
   "source": [
    "Summary of the column PRICE and ROOMS using describe()"
   ]
  },
  {
   "cell_type": "code",
   "execution_count": null,
   "metadata": {},
   "outputs": [],
   "source": [
    "df.describe(['PRICE','ROOMS']).show()"
   ]
  },
  {
   "cell_type": "markdown",
   "metadata": {},
   "source": [
    "Average price grouped by rooms?"
   ]
  },
  {
   "cell_type": "code",
   "execution_count": null,
   "metadata": {},
   "outputs": [],
   "source": [
    "df.groupBy(\"ROOMS\").avg(\"PRICE\").orderBy(\"ROOMS\").show()"
   ]
  },
  {
   "cell_type": "markdown",
   "metadata": {},
   "source": [
    "Date range of house"
   ]
  },
  {
   "cell_type": "code",
   "execution_count": null,
   "metadata": {},
   "outputs": [],
   "source": [
    "df.selectExpr(\"min(EYB)\", \"max(EYB)\").show()"
   ]
  },
  {
   "cell_type": "markdown",
   "metadata": {},
   "source": [
    "Average price grouped by LAND AREA?"
   ]
  },
  {
   "cell_type": "code",
   "execution_count": null,
   "metadata": {},
   "outputs": [],
   "source": [
    "df.groupBy(\"LANDAREA\").avg(\"PRICE\").orderBy(\"LANDAREA\").show()"
   ]
  },
  {
   "cell_type": "markdown",
   "metadata": {},
   "source": [
    "Average price grouped by Source of house and Condition?"
   ]
  },
  {
   "cell_type": "code",
   "execution_count": null,
   "metadata": {},
   "outputs": [],
   "source": [
    "df.groupBy(\"SOURCE\",\"CNDTN\").avg(\"PRICE\").show()"
   ]
  },
  {
   "cell_type": "markdown",
   "metadata": {},
   "source": [
    "Average price grouped by Quadrant of house location in washington DC city?"
   ]
  },
  {
   "cell_type": "code",
   "execution_count": null,
   "metadata": {},
   "outputs": [],
   "source": [
    "df.groupBy(\"QUADRANT\").avg(\"PRICE\").show()"
   ]
  },
  {
   "cell_type": "markdown",
   "metadata": {},
   "source": [
    "How many house types are there based on Structure?"
   ]
  },
  {
   "cell_type": "code",
   "execution_count": null,
   "metadata": {},
   "outputs": [],
   "source": [
    "df.select(\"STRUCT\").distinct().count()"
   ]
  },
  {
   "cell_type": "code",
   "execution_count": null,
   "metadata": {},
   "outputs": [],
   "source": [
    "df.groupBy(\"STRUCT\", \"STYLE\").count().orderBy(\"STYLE\").show()"
   ]
  },
  {
   "cell_type": "markdown",
   "metadata": {},
   "source": [
    "Comparison of house price based on year and strcuture type"
   ]
  },
  {
   "cell_type": "code",
   "execution_count": null,
   "metadata": {},
   "outputs": [],
   "source": [
    "df.where(\"EYB > 1980\").groupBy(\"STRUCT\").avg(\"PRICE\").show()"
   ]
  },
  {
   "cell_type": "code",
   "execution_count": null,
   "metadata": {},
   "outputs": [],
   "source": [
    "df.where(\"EYB < 1980\").groupBy(\"STRUCT\").avg(\"PRICE\").show()"
   ]
  },
  {
   "cell_type": "markdown",
   "metadata": {},
   "source": [
    "### Visualization"
   ]
  },
  {
   "cell_type": "markdown",
   "metadata": {},
   "source": [
    "Installing Panda"
   ]
  },
  {
   "cell_type": "code",
   "execution_count": null,
   "metadata": {},
   "outputs": [],
   "source": [
    "!conda install pandas"
   ]
  },
  {
   "cell_type": "markdown",
   "metadata": {},
   "source": [
    "Find the trends for property sales by analysis the total sales count, average price and totoal sales value by each year"
   ]
  },
  {
   "cell_type": "code",
   "execution_count": 92,
   "metadata": {},
   "outputs": [
    {
     "name": "stdout",
     "output_type": "stream",
     "text": [
      "+----+-----+------------------+---------------+\n",
      "|Year|count|         avg_price|    total_sales|\n",
      "+----+-----+------------------+---------------+\n",
      "|2017|12399| 754478.6438944569|   7.37729218E9|\n",
      "|2016|10491| 648541.7989875294|   5.25254003E9|\n",
      "|2015| 9578|1495214.6887961216|1.1103464279E10|\n",
      "|2014| 8635| 635945.9630867386|  4.186432275E9|\n",
      "|2013| 8136| 602606.5104651162|  3.627691193E9|\n",
      "|2012| 6593| 554010.0291909925|    2.6570321E9|\n",
      "|2011| 5658| 532311.8999751799|  2.144684645E9|\n",
      "|2010| 5505| 561583.3860622137|  2.328886302E9|\n",
      "|2009| 5166| 482791.6462904911|  1.848126422E9|\n",
      "|2008| 4772|512125.38417910447|  1.715620037E9|\n",
      "|2007| 5973| 8148047.249250634| 3.533808092E10|\n",
      "|2006| 5263|487862.33897856576|  1.843631779E9|\n",
      "|2005| 5882|498257.22329411766|  2.117593199E9|\n",
      "|2004| 4949| 403180.0269975457|  1.478461159E9|\n",
      "|2003| 4316|357727.10807204805|   1.07246587E9|\n",
      "|2002| 3460|  304200.144036009|   8.10997584E8|\n",
      "|2001| 3075|277366.51245847176|   6.67898562E8|\n",
      "|2000| 3061|239205.79972311953|   5.18358968E8|\n",
      "+----+-----+------------------+---------------+\n",
      "\n"
     ]
    }
   ],
   "source": [
    "from pyspark.sql import functions as F\n",
    "\n",
    "sales_for_each_year = df.groupBy(F.year(\"SALEDATE\").alias(\"Year\"))\\\n",
    "                        .agg(F.count(\"ID\").alias(\"sales_count\"),F.avg(\"PRICE\").alias(\"avg_price\"), F.sum(\"PRICE\").alias(\"total_sales_amount\"))\\\n",
    "                        .where(F.col(\"Year\") >= 2000)\\\n",
    "                        .where(F.col(\"Year\") <= 2017)\\\n",
    "                        .where(F.col(\"Year\") != 2007)\\\n",
    "                        .orderBy(F.desc(\"Year\"))\n",
    "sales_for_each_year.show()"
   ]
  },
  {
   "cell_type": "code",
   "execution_count": 93,
   "metadata": {},
   "outputs": [
    {
     "data": {
      "text/html": [
       "<div>\n",
       "<style scoped>\n",
       "    .dataframe tbody tr th:only-of-type {\n",
       "        vertical-align: middle;\n",
       "    }\n",
       "\n",
       "    .dataframe tbody tr th {\n",
       "        vertical-align: top;\n",
       "    }\n",
       "\n",
       "    .dataframe thead th {\n",
       "        text-align: right;\n",
       "    }\n",
       "</style>\n",
       "<table border=\"1\" class=\"dataframe\">\n",
       "  <thead>\n",
       "    <tr style=\"text-align: right;\">\n",
       "      <th></th>\n",
       "      <th>Year</th>\n",
       "      <th>count</th>\n",
       "      <th>avg_price</th>\n",
       "      <th>total_sales</th>\n",
       "    </tr>\n",
       "  </thead>\n",
       "  <tbody>\n",
       "    <tr>\n",
       "      <th>0</th>\n",
       "      <td>2017</td>\n",
       "      <td>12399</td>\n",
       "      <td>7.544786e+05</td>\n",
       "      <td>7.377292e+09</td>\n",
       "    </tr>\n",
       "    <tr>\n",
       "      <th>1</th>\n",
       "      <td>2016</td>\n",
       "      <td>10491</td>\n",
       "      <td>6.485418e+05</td>\n",
       "      <td>5.252540e+09</td>\n",
       "    </tr>\n",
       "    <tr>\n",
       "      <th>2</th>\n",
       "      <td>2015</td>\n",
       "      <td>9578</td>\n",
       "      <td>1.495215e+06</td>\n",
       "      <td>1.110346e+10</td>\n",
       "    </tr>\n",
       "    <tr>\n",
       "      <th>3</th>\n",
       "      <td>2014</td>\n",
       "      <td>8635</td>\n",
       "      <td>6.359460e+05</td>\n",
       "      <td>4.186432e+09</td>\n",
       "    </tr>\n",
       "    <tr>\n",
       "      <th>4</th>\n",
       "      <td>2013</td>\n",
       "      <td>8136</td>\n",
       "      <td>6.026065e+05</td>\n",
       "      <td>3.627691e+09</td>\n",
       "    </tr>\n",
       "  </tbody>\n",
       "</table>\n",
       "</div>"
      ],
      "text/plain": [
       "   Year  count     avg_price   total_sales\n",
       "0  2017  12399  7.544786e+05  7.377292e+09\n",
       "1  2016  10491  6.485418e+05  5.252540e+09\n",
       "2  2015   9578  1.495215e+06  1.110346e+10\n",
       "3  2014   8635  6.359460e+05  4.186432e+09\n",
       "4  2013   8136  6.026065e+05  3.627691e+09"
      ]
     },
     "execution_count": 93,
     "metadata": {},
     "output_type": "execute_result"
    }
   ],
   "source": [
    "py_dc_data = sales_for_each_year.toPandas()\n",
    "py_dc_data.head()"
   ]
  },
  {
   "cell_type": "markdown",
   "metadata": {},
   "source": [
    "Use *matplotlib* for plotting"
   ]
  },
  {
   "cell_type": "code",
   "execution_count": 94,
   "metadata": {},
   "outputs": [
    {
     "data": {
      "image/png": "[encoded data removed]",
      "text/plain": [
       "<Figure size 432x288 with 1 Axes>"
      ]
     },
     "metadata": {},
     "output_type": "display_data"
    },
    {
     "data": {
      "image/png": "[encoded data removed]",
      "text/plain": [
       "<Figure size 432x288 with 1 Axes>"
      ]
     },
     "metadata": {},
     "output_type": "display_data"
    },
    {
     "data": {
      "image/png": "[encoded data removed]",
      "text/plain": [
       "<Figure size 432x288 with 1 Axes>"
      ]
     },
     "metadata": {},
     "output_type": "display_data"
    }
   ],
   "source": [
    "%matplotlib inline\n",
    "import matplotlib.pyplot as plt\n",
    "plt.style.use('ggplot')\n",
    "df1 = py_dc_data.set_index('Year')\n",
    "df1[[\"sales_count\" ]].plot.bar().invert_xaxis()\n",
    "plt.title('Sales trend by Year (2008 - 2018)')\n",
    "df1[[\"avg_price\" ]].plot.bar().invert_xaxis()\n",
    "df1[[\"total_sales_amount\" ]].plot.bar().invert_xaxis()"
   ]
  },
  {
   "cell_type": "markdown",
   "metadata": {},
   "source": [
    "## Sampling & Scatterplot\n",
    "sample 0.1% of the data to plot a scatterplot:"
   ]
  },
  {
   "cell_type": "code",
   "execution_count": null,
   "metadata": {},
   "outputs": [],
   "source": [
    "df_sample = df.sample(withReplacement = False, fraction = 0.001, seed = 8)\n",
    "\n",
    "# Convert to Pandas\n",
    "py_df_sample = df_sample.toPandas()\n",
    "\n",
    "py_df_sample.head()"
   ]
  },
  {
   "cell_type": "code",
   "execution_count": null,
   "metadata": {},
   "outputs": [],
   "source": [
    "plt.figure(figsize=(10,8))\n",
    "plt.scatter(py_df_sample['X'], py_df_sample['Y'], alpha=0.05)"
   ]
  },
  {
   "cell_type": "markdown",
   "metadata": {},
   "source": [
    "<img src=\"https://raw.githubusercontent.com/elieric/is843/master/DC-Ward-Public-Trans.jpg\" width=\"300\" align=\"left\"/>"
   ]
  }
 ],
 "metadata": {
  "kernelspec": {
   "display_name": "PySpark",
   "language": "python",
   "name": "pyspark"
  },
  "language_info": {
   "codemirror_mode": {
    "name": "ipython",
    "version": 3
   },
   "file_extension": ".py",
   "mimetype": "text/x-python",
   "name": "python",
   "nbconvert_exporter": "python",
   "pygments_lexer": "ipython3",
   "version": "3.6.5"
  }
 },
 "nbformat": 4,
 "nbformat_minor": 2
}