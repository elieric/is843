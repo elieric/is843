{
 "cells": [
  {
   "cell_type": "markdown",
   "metadata": {},
   "source": [
    "# D.C. Residential Properties Dataset Analysis\n",
    "### Team: Big Daddy Data"
   ]
  },
  {
   "cell_type": "markdown",
   "metadata": {},
   "source": [
    "**Data Source**:\n",
    "\n",
    "Dataset was downloaded from https://www.kaggle.com/christophercorrea/dc-residential-properties"
   ]
  },
  {
   "cell_type": "markdown",
   "metadata": {},
   "source": [
    "**Introduction**\n",
    "\n",
    "\n",
    "Dataset ready for analysis showing real property information, including most recent sales price as of July 2018, for properties located Washington, D.C.\n",
    "\n",
    "The source of the data is Open Data DC{1}, and the dataset utilized here, DC_Property_data.csv, was created by merging three OpenData.DC.gov source files: raw_residential_data.csv; raw_condominium_data.csv; & raw_address_points.csv.{2}\n",
    "\n",
    "{1} https://opendata.dc.gov/ {2} https://www.kaggle.com/christophercorrea/preparing-the-d-c-real-property-dataset"
   ]
  },
  {
   "cell_type": "markdown",
   "metadata": {},
   "source": [
    "**Columns in this Dataset**\n",
    "\n",
    "|Column Name|Description|Type|\n",
    "|--|--|--|\n",
    "|ID|ID#|Int|\n",
    "|BATHRM|Number of Full Bathrooms|Int|\n",
    "|HF_BATHRM|Number of Half Bathrooms (no bathtub or shower)|Int|\n",
    "|HEAT|Heating|String|\n",
    "|AC|Cooling|String|\n",
    "|NUM_UNITS|Number of Units|Int|\n",
    "|ROOMS|Number of Rooms|Int|\n",
    "|AYB|The earliest time the main portion of the building was built|Int|\n",
    "|YR_RMDL|Year structure was remodeled|Int|\n",
    "|EYB|The year an improvement was built more recent than actual year built|Int|\n",
    "|STORIES|Number of stories in primary dwelling|Int|\n",
    "|SALEDATE|Date of most recent sale|Timestamp|\n",
    "|PRICE|Price of most recent sale|Int|\n",
    "|QUALIFIED|Qualified|Boolean|\n",
    "|SALE_NUM|Sale Number|Int|\n",
    "|GBA|Gross building area in square feet|Int|\n",
    "|BLDG_NUM|Building Number on Property|Int|\n",
    "|STYLE|Style|String|\n",
    "|STRUCT|Structure|String|\n",
    "|GRADE|Grade|String|\n",
    "|CNDTN|Condition|String|\n",
    "|EXTWALL|Extrerior wall|String|\n",
    "|ROOF|Roof type|String|\n",
    "|INTWALL|Interior wall|String|\n",
    "|KITCHENS|Number of kitchens|Int|\n",
    "|FIREPLACES|Number of fireplaces|Int|\n",
    "|USECODE|Property use code|Int|\n",
    "|LANDAREA|Land area of property in square feet|Int|\n",
    "|GIS_LAST_MOD_DTTM|Last Modified Date|Timestamp|\n",
    "|SOURCE|Raw Data Source|String|\n",
    "|CMPLX_NUM|Complex number|String|\n",
    "|LIVING_GBA|Gross building area in square feet|String|\n",
    "|FULLADDRESS|Full Street Address|String|\n",
    "|CITY|City|String|\n",
    "|STATE|State|String|\n",
    "|ZIPCODE|Zip Code|Int|\n",
    "|NATIONALGRID|Address location national grid coordinate spatial address|String|\n",
    "|LATITUDE|Latitude|Int|\n",
    "|LONGITUDE|Longitude|Int|\n",
    "|ASSESSMENT_NBHD|Neighborhood ID|String|\n",
    "|ASSESSMENT_SUBNBHD|Subneighborhood ID|String|\n",
    "|CENSUS_TRACT|Census tract|Int|\n",
    "|CENSUS_BLOCK|Census block|String|\n",
    "|WARD|Ward (District is divided into eight wards, each with approximately 75,000 residents)|String|\n",
    "|SQUARE|Square (from SSL)|Int|\n",
    "|X|longitude|Int|\n",
    "|Y|latitude|Int|\n",
    "|QUADRANT|City quadrant (NE,SE,SW,NW)|String|"
   ]
  },
  {
   "cell_type": "markdown",
   "metadata": {},
   "source": [
    "## Questions one could ask and find answers to from this dataset:\n",
    "* Is there a model to predict the sale price of residental properties in D.C?\n",
    "* What's the most relevant parameters to build up the model?\n",
    "* Which area has the most expensive and which area has the least properties price?\n",
    "* What's the properties sales trend in the last ten years?\n",
    "* What's the best time of the year to sell a property?\n",
    "* Create a graphic map using longtitude and latitude to indicate the sales of different area."
   ]
  },
  {
   "cell_type": "markdown",
   "metadata": {},
   "source": [
    "### Datasource"
   ]
  },
  {
   "cell_type": "code",
   "execution_count": 4,
   "metadata": {},
   "outputs": [],
   "source": [
    "data = \"gs://is843_erli/notebooks/data/\""
   ]
  },
  {
   "cell_type": "markdown",
   "metadata": {},
   "source": [
    "### Loading the data into a Spark DataFrame\n",
    "Verify the datasource:"
   ]
  },
  {
   "cell_type": "code",
   "execution_count": 5,
   "metadata": {},
   "outputs": [
    {
     "name": "stdout",
     "output_type": "stream",
     "text": [
      "gs://is843_erli/notebooks/data/DC_Properties.csv\r\n"
     ]
    }
   ],
   "source": [
    "!gsutil ls {data + \"DC_Properties.csv\"}"
   ]
  },
  {
   "cell_type": "markdown",
   "metadata": {},
   "source": [
    "Create dataframe by using inferred schema:"
   ]
  },
  {
   "cell_type": "code",
   "execution_count": 6,
   "metadata": {},
   "outputs": [
    {
     "name": "stdout",
     "output_type": "stream",
     "text": [
      "root\n",
      " |-- ID: integer (nullable = true)\n",
      " |-- BATHRM: integer (nullable = true)\n",
      " |-- HF_BATHRM: integer (nullable = true)\n",
      " |-- HEAT: string (nullable = true)\n",
      " |-- AC: string (nullable = true)\n",
      " |-- NUM_UNITS: double (nullable = true)\n",
      " |-- ROOMS: integer (nullable = true)\n",
      " |-- BEDRM: integer (nullable = true)\n",
      " |-- AYB: double (nullable = true)\n",
      " |-- YR_RMDL: double (nullable = true)\n",
      " |-- EYB: integer (nullable = true)\n",
      " |-- STORIES: double (nullable = true)\n",
      " |-- SALEDATE: timestamp (nullable = true)\n",
      " |-- PRICE: double (nullable = true)\n",
      " |-- QUALIFIED: string (nullable = true)\n",
      " |-- SALE_NUM: integer (nullable = true)\n",
      " |-- GBA: double (nullable = true)\n",
      " |-- BLDG_NUM: integer (nullable = true)\n",
      " |-- STYLE: string (nullable = true)\n",
      " |-- STRUCT: string (nullable = true)\n",
      " |-- GRADE: string (nullable = true)\n",
      " |-- CNDTN: string (nullable = true)\n",
      " |-- EXTWALL: string (nullable = true)\n",
      " |-- ROOF: string (nullable = true)\n",
      " |-- INTWALL: string (nullable = true)\n",
      " |-- KITCHENS: double (nullable = true)\n",
      " |-- FIREPLACES: integer (nullable = true)\n",
      " |-- USECODE: integer (nullable = true)\n",
      " |-- LANDAREA: integer (nullable = true)\n",
      " |-- GIS_LAST_MOD_DTTM: timestamp (nullable = true)\n",
      " |-- SOURCE: string (nullable = true)\n",
      " |-- CMPLX_NUM: double (nullable = true)\n",
      " |-- LIVING_GBA: double (nullable = true)\n",
      " |-- FULLADDRESS: string (nullable = true)\n",
      " |-- CITY: string (nullable = true)\n",
      " |-- STATE: string (nullable = true)\n",
      " |-- ZIPCODE: double (nullable = true)\n",
      " |-- NATIONALGRID: string (nullable = true)\n",
      " |-- LATITUDE: double (nullable = true)\n",
      " |-- LONGITUDE: double (nullable = true)\n",
      " |-- ASSESSMENT_NBHD: string (nullable = true)\n",
      " |-- ASSESSMENT_SUBNBHD: string (nullable = true)\n",
      " |-- CENSUS_TRACT: double (nullable = true)\n",
      " |-- CENSUS_BLOCK: string (nullable = true)\n",
      " |-- WARD: string (nullable = true)\n",
      " |-- SQUARE: string (nullable = true)\n",
      " |-- X: double (nullable = true)\n",
      " |-- Y: double (nullable = true)\n",
      " |-- QUADRANTå: string (nullable = true)\n",
      "\n"
     ]
    }
   ],
   "source": [
    "df = spark.read.format(\"csv\")\\\n",
    "  .option(\"header\", \"true\")\\\n",
    "  .option(\"inferSchema\", \"true\")\\\n",
    "  .load(data + \"DC_Properties.csv\")\n",
    "\n",
    "df.printSchema()"
   ]
  },
  {
   "cell_type": "markdown",
   "metadata": {},
   "source": [
    "Show first 5 rows of the dataset:"
   ]
  },
  {
   "cell_type": "code",
   "execution_count": 7,
   "metadata": {},
   "outputs": [
    {
     "name": "stdout",
     "output_type": "stream",
     "text": [
      "+---+------+---------+-------------+---+---------+-----+-----+------+-------+----+-------+-------------------+---------+---------+--------+------+--------+-------+-------------+---------+---------+------------+----------+--------+--------+----------+-------+--------+-------------------+-----------+---------+----------+----------------------------+----------+-----+-------+------------------+-----------+------------+---------------+------------------+------------+------------+------+------+------------------+------------------+---------+\n",
      "|ID |BATHRM|HF_BATHRM|HEAT         |AC |NUM_UNITS|ROOMS|BEDRM|AYB   |YR_RMDL|EYB |STORIES|SALEDATE           |PRICE    |QUALIFIED|SALE_NUM|GBA   |BLDG_NUM|STYLE  |STRUCT       |GRADE    |CNDTN    |EXTWALL     |ROOF      |INTWALL |KITCHENS|FIREPLACES|USECODE|LANDAREA|GIS_LAST_MOD_DTTM  |SOURCE     |CMPLX_NUM|LIVING_GBA|FULLADDRESS                 |CITY      |STATE|ZIPCODE|NATIONALGRID      |LATITUDE   |LONGITUDE   |ASSESSMENT_NBHD|ASSESSMENT_SUBNBHD|CENSUS_TRACT|CENSUS_BLOCK|WARD  |SQUARE|X                 |Y                 |QUADRANTå|\n",
      "+---+------+---------+-------------+---+---------+-----+-----+------+-------+----+-------+-------------------+---------+---------+--------+------+--------+-------+-------------+---------+---------+------------+----------+--------+--------+----------+-------+--------+-------------------+-----------+---------+----------+----------------------------+----------+-----+-------+------------------+-----------+------------+---------------+------------------+------------+------------+------+------+------------------+------------------+---------+\n",
      "|0  |4     |0        |Warm Cool    |Y  |2.0      |8    |4    |1910.0|1988.0 |1972|3.0    |2003-11-25 00:00:00|1095000.0|Q        |1       |2522.0|1       |3 Story|Row Inside   |Very Good|Good     |Common Brick|Metal- Sms|Hardwood|2.0     |5         |24     |1680    |2018-07-22 18:01:43|Residential|null     |null      |1748 SWANN STREET NW        |WASHINGTON|DC   |20009.0|18S UJ 23061 09289|38.91468021|-77.04083204|Old City 2     |040 D Old City 2  |4201.0      |004201 2006 |Ward 2|0152  |-77.04042907495098|38.914881109044266|NW       |\n",
      "|1  |3     |1        |Warm Cool    |Y  |2.0      |11   |5    |1898.0|2007.0 |1972|3.0    |2000-08-17 00:00:00|null     |U        |1       |2567.0|1       |3 Story|Row Inside   |Very Good|Good     |Common Brick|Built Up  |Hardwood|2.0     |4         |24     |1680    |2018-07-22 18:01:43|Residential|null     |null      |1746 SWANN STREET NW        |WASHINGTON|DC   |20009.0|18S UJ 23067 09289|38.9146833 |-77.04076447|Old City 2     |040 D Old City 2  |4201.0      |004201 2006 |Ward 2|0152  |-77.04042907495098|38.914881109044266|NW       |\n",
      "|2  |3     |1        |Hot Water Rad|Y  |2.0      |9    |5    |1910.0|2009.0 |1984|3.0    |2016-06-21 00:00:00|2100000.0|Q        |3       |2522.0|1       |3 Story|Row Inside   |Very Good|Very Good|Common Brick|Built Up  |Hardwood|2.0     |4         |24     |1680    |2018-07-22 18:01:43|Residential|null     |null      |1744 SWANN STREET NW        |WASHINGTON|DC   |20009.0|18S UJ 23074 09289|38.91468351|-77.04067788|Old City 2     |040 D Old City 2  |4201.0      |004201 2006 |Ward 2|0152  |-77.04042907495098|38.914881109044266|NW       |\n",
      "|3  |3     |1        |Hot Water Rad|Y  |2.0      |8    |5    |1900.0|2003.0 |1984|3.0    |2006-07-12 00:00:00|1602000.0|Q        |1       |2484.0|1       |3 Story|Row Inside   |Very Good|Good     |Common Brick|Built Up  |Hardwood|2.0     |3         |24     |1680    |2018-07-22 18:01:43|Residential|null     |null      |1742 SWANN STREET NW        |WASHINGTON|DC   |20009.0|18S UJ 23078 09288|38.91468254|-77.04062899|Old City 2     |040 D Old City 2  |4201.0      |004201 2006 |Ward 2|0152  |-77.04042907495098|38.914881109044266|NW       |\n",
      "|4  |2     |1        |Warm Cool    |Y  |1.0      |11   |3    |1913.0|2012.0 |1985|3.0    |null               |null     |U        |1       |5255.0|1       |3 Story|Semi-Detached|Very Good|Good     |Common Brick|Neopren   |Hardwood|1.0     |0         |13     |2032    |2018-07-22 18:01:43|Residential|null     |null      |1804 NEW HAMPSHIRE AVENUE NW|WASHINGTON|DC   |20009.0|18S UJ 23188 09253|38.91438281|-77.03936127|Old City 2     |040 D Old City 2  |4201.0      |004201 2006 |Ward 2|0152  |-77.04042907495098|38.914881109044266|NW       |\n",
      "+---+------+---------+-------------+---+---------+-----+-----+------+-------+----+-------+-------------------+---------+---------+--------+------+--------+-------+-------------+---------+---------+------------+----------+--------+--------+----------+-------+--------+-------------------+-----------+---------+----------+----------------------------+----------+-----+-------+------------------+-----------+------------+---------------+------------------+------------+------------+------+------+------------------+------------------+---------+\n",
      "only showing top 5 rows\n",
      "\n"
     ]
    }
   ],
   "source": [
    "df.show(5, False)"
   ]
  },
  {
   "cell_type": "markdown",
   "metadata": {},
   "source": [
    "## Data Proofiling"
   ]
  },
  {
   "cell_type": "markdown",
   "metadata": {},
   "source": [
    "#### Caching and partitioning the Dataframe"
   ]
  },
  {
   "cell_type": "code",
   "execution_count": 8,
   "metadata": {},
   "outputs": [
    {
     "name": "stdout",
     "output_type": "stream",
     "text": [
      "data was re-partitioned to 20 partitions!\n"
     ]
    },
    {
     "data": {
      "text/plain": [
       "DataFrame[ID: int, BATHRM: int, HF_BATHRM: int, HEAT: string, AC: string, NUM_UNITS: double, ROOMS: int, BEDRM: int, AYB: double, YR_RMDL: double, EYB: int, STORIES: double, SALEDATE: timestamp, PRICE: double, QUALIFIED: string, SALE_NUM: int, GBA: double, BLDG_NUM: int, STYLE: string, STRUCT: string, GRADE: string, CNDTN: string, EXTWALL: string, ROOF: string, INTWALL: string, KITCHENS: double, FIREPLACES: int, USECODE: int, LANDAREA: int, GIS_LAST_MOD_DTTM: timestamp, SOURCE: string, CMPLX_NUM: double, LIVING_GBA: double, FULLADDRESS: string, CITY: string, STATE: string, ZIPCODE: double, NATIONALGRID: string, LATITUDE: double, LONGITUDE: double, ASSESSMENT_NBHD: string, ASSESSMENT_SUBNBHD: string, CENSUS_TRACT: double, CENSUS_BLOCK: string, WARD: string, SQUARE: string, X: double, Y: double, QUADRANTå: string]"
      ]
     },
     "execution_count": 8,
     "metadata": {},
     "output_type": "execute_result"
    }
   ],
   "source": [
    "#per 01-EDA.ipynb:\n",
    "df = df.repartition(20)\n",
    "print(\"data was re-partitioned to {} partitions!\".format(df.rdd.getNumPartitions()))\n",
    "\n",
    "spark.conf.set(\"spark.sql.shuffle.partitions\", \"20\")\n",
    "\n",
    "df.cache()"
   ]
  },
  {
   "cell_type": "markdown",
   "metadata": {},
   "source": [
    "Number of rows in data set"
   ]
  },
  {
   "cell_type": "code",
   "execution_count": 9,
   "metadata": {},
   "outputs": [
    {
     "name": "stdout",
     "output_type": "stream",
     "text": [
      " The DC DataFrame has 158957 records\n"
     ]
    }
   ],
   "source": [
    "print(\" The DC DataFrame has {} records\".format(df.count()))"
   ]
  },
  {
   "cell_type": "markdown",
   "metadata": {},
   "source": [
    "#### Dropping columns that we will not be using in our analysis"
   ]
  },
  {
   "cell_type": "code",
   "execution_count": 10,
   "metadata": {},
   "outputs": [],
   "source": [
    "df = df.drop('CITY', 'STATE')"
   ]
  },
  {
   "cell_type": "markdown",
   "metadata": {},
   "source": [
    "#### Dropping duplicates"
   ]
  },
  {
   "cell_type": "code",
   "execution_count": 11,
   "metadata": {},
   "outputs": [],
   "source": [
    "df = df.drop_duplicates()"
   ]
  },
  {
   "cell_type": "code",
   "execution_count": 12,
   "metadata": {},
   "outputs": [
    {
     "data": {
      "text/plain": [
       "158957"
      ]
     },
     "execution_count": 12,
     "metadata": {},
     "output_type": "execute_result"
    }
   ],
   "source": [
    "df.count()"
   ]
  },
  {
   "cell_type": "markdown",
   "metadata": {},
   "source": [
    "No duplicates!"
   ]
  },
  {
   "cell_type": "markdown",
   "metadata": {},
   "source": [
    "#### Summary of the column PRICE and ROOMS using describe()"
   ]
  },
  {
   "cell_type": "code",
   "execution_count": 14,
   "metadata": {},
   "outputs": [
    {
     "name": "stdout",
     "output_type": "stream",
     "text": [
      "+-------+-----------------+------------------+\n",
      "|summary|            PRICE|             ROOMS|\n",
      "+-------+-----------------+------------------+\n",
      "|  count|            98216|            158957|\n",
      "|   mean|931351.5949336156| 6.187736306045031|\n",
      "| stddev|7061324.955611985|2.6181648762975898|\n",
      "|    min|              1.0|                 0|\n",
      "|    max|     1.37427545E8|                48|\n",
      "+-------+-----------------+------------------+\n",
      "\n"
     ]
    }
   ],
   "source": [
    "df.describe(['PRICE','ROOMS']).show()"
   ]
  },
  {
   "cell_type": "markdown",
   "metadata": {},
   "source": [
    "#### Average price grouped by rooms?"
   ]
  },
  {
   "cell_type": "code",
   "execution_count": 15,
   "metadata": {},
   "outputs": [
    {
     "name": "stdout",
     "output_type": "stream",
     "text": [
      "+-----+------------------+\n",
      "|ROOMS|        avg(PRICE)|\n",
      "+-----+------------------+\n",
      "|    0| 1088490.148148148|\n",
      "|    1|      224517.90625|\n",
      "|    2|1949664.9899691357|\n",
      "|    3| 2217071.020540075|\n",
      "|    4| 909270.1605109167|\n",
      "|    5| 526515.8907682132|\n",
      "|    6|442921.58700986527|\n",
      "|    7|514975.68252080854|\n",
      "|    8| 638748.8952567024|\n",
      "|    9|  789671.449940547|\n",
      "|   10| 915297.1920289855|\n",
      "|   11|1133502.3383233533|\n",
      "|   12| 901382.7240223463|\n",
      "|   13|1669379.7375886524|\n",
      "|   14|1434225.8025477708|\n",
      "|   15| 1933945.594117647|\n",
      "|   16| 590948.4454203262|\n",
      "|   17|2928117.6470588236|\n",
      "|   18|1504978.3333333333|\n",
      "|   19|3248112.3529411764|\n",
      "+-----+------------------+\n",
      "only showing top 20 rows\n",
      "\n"
     ]
    }
   ],
   "source": [
    "df.groupBy(\"ROOMS\").avg(\"PRICE\").orderBy(\"ROOMS\").show()"
   ]
  },
  {
   "cell_type": "markdown",
   "metadata": {},
   "source": [
    "#### Date range of house"
   ]
  },
  {
   "cell_type": "code",
   "execution_count": 16,
   "metadata": {},
   "outputs": [
    {
     "name": "stdout",
     "output_type": "stream",
     "text": [
      "+--------+--------+\n",
      "|min(EYB)|max(EYB)|\n",
      "+--------+--------+\n",
      "|    1800|    2018|\n",
      "+--------+--------+\n",
      "\n"
     ]
    }
   ],
   "source": [
    "df.selectExpr(\"min(EYB)\", \"max(EYB)\").show()"
   ]
  },
  {
   "cell_type": "markdown",
   "metadata": {},
   "source": [
    "#### Average price grouped by LAND AREA?"
   ]
  },
  {
   "cell_type": "code",
   "execution_count": 17,
   "metadata": {},
   "outputs": [
    {
     "name": "stdout",
     "output_type": "stream",
     "text": [
      "+--------+------------------+\n",
      "|LANDAREA|        avg(PRICE)|\n",
      "+--------+------------------+\n",
      "|       0| 763316.4838709678|\n",
      "|       1|          463500.0|\n",
      "|       2|          635000.0|\n",
      "|       3|          321350.0|\n",
      "|       4| 274342.2727272727|\n",
      "|       5|143411.76923076922|\n",
      "|       6| 264408.0740740741|\n",
      "|       7| 359277.1551724138|\n",
      "|       8| 442579.9756097561|\n",
      "|       9| 484940.5104166667|\n",
      "|      10| 451753.8333333333|\n",
      "|      11| 509545.0326086957|\n",
      "|      12| 734490.4761904762|\n",
      "|      13| 718138.0303030303|\n",
      "|      14| 663660.1224489796|\n",
      "|      15|          813650.0|\n",
      "|      16|          949000.0|\n",
      "|      17|         1156237.5|\n",
      "|      18|         665996.25|\n",
      "|      19| 650742.1052631579|\n",
      "+--------+------------------+\n",
      "only showing top 20 rows\n",
      "\n"
     ]
    }
   ],
   "source": [
    "df.groupBy(\"LANDAREA\").avg(\"PRICE\").orderBy(\"LANDAREA\").show()"
   ]
  },
  {
   "cell_type": "markdown",
   "metadata": {},
   "source": [
    "#### Average price grouped by Source of house and Condition?"
   ]
  },
  {
   "cell_type": "code",
   "execution_count": 18,
   "metadata": {},
   "outputs": [
    {
     "name": "stdout",
     "output_type": "stream",
     "text": [
      "+-----------+---------+------------------+\n",
      "|     SOURCE|    CNDTN|        avg(PRICE)|\n",
      "+-----------+---------+------------------+\n",
      "|Condominium|     null| 1436073.252554817|\n",
      "|Residential|     Good| 655149.2966045662|\n",
      "|Residential|  Default|         8518500.0|\n",
      "|Residential|     Poor|474262.63440860214|\n",
      "|Residential|Very Good| 945584.9956593325|\n",
      "|Residential|     Fair|409360.44007858547|\n",
      "|Residential|Excellent|1247995.2002249719|\n",
      "|Residential|  Average|  375583.619497772|\n",
      "+-----------+---------+------------------+\n",
      "\n"
     ]
    }
   ],
   "source": [
    "df.groupBy(\"SOURCE\",\"CNDTN\").avg(\"PRICE\").show()"
   ]
  },
  {
   "cell_type": "markdown",
   "metadata": {},
   "source": [
    "#### Average price grouped by Quadrant of house location in washington DC city?"
   ]
  },
  {
   "cell_type": "code",
   "execution_count": 19,
   "metadata": {},
   "outputs": [
    {
     "name": "stdout",
     "output_type": "stream",
     "text": [
      "+---------+------------------+\n",
      "|QUADRANTå|        avg(PRICE)|\n",
      "+---------+------------------+\n",
      "|     null| 454064.9405940594|\n",
      "|       NE| 392871.5477633875|\n",
      "|       SE|368226.04414454184|\n",
      "|       NW|1317785.1587480297|\n",
      "|       SW| 347048.9480189022|\n",
      "+---------+------------------+\n",
      "\n"
     ]
    }
   ],
   "source": [
    "df.groupBy(\"QUADRANTå\").avg(\"PRICE\").show()"
   ]
  },
  {
   "cell_type": "markdown",
   "metadata": {},
   "source": [
    "#### How many house types are there based on Structure?"
   ]
  },
  {
   "cell_type": "code",
   "execution_count": 20,
   "metadata": {},
   "outputs": [
    {
     "data": {
      "text/plain": [
       "10"
      ]
     },
     "execution_count": 20,
     "metadata": {},
     "output_type": "execute_result"
    }
   ],
   "source": [
    "df.select(\"STRUCT\").distinct().count()"
   ]
  },
  {
   "cell_type": "code",
   "execution_count": 21,
   "metadata": {},
   "outputs": [
    {
     "name": "stdout",
     "output_type": "stream",
     "text": [
      "+-------------+---------------+-----+\n",
      "|       STRUCT|          STYLE|count|\n",
      "+-------------+---------------+-----+\n",
      "|         null|           null|52261|\n",
      "|Semi-Detached|        1 Story|  124|\n",
      "|   Row Inside|        1 Story|   68|\n",
      "|       Single|        1 Story| 4172|\n",
      "|      Row End|        1 Story|   23|\n",
      "|      Default|        1 Story|    3|\n",
      "|        Multi|        1 Story|   30|\n",
      "|Semi-Detached|  1.5 Story Fin|  102|\n",
      "|       Single|  1.5 Story Fin| 2510|\n",
      "|   Row Inside|  1.5 Story Fin|   27|\n",
      "|      Row End|  1.5 Story Fin|   10|\n",
      "|  Town Inside|  1.5 Story Fin|    1|\n",
      "|        Multi|  1.5 Story Fin|    5|\n",
      "|       Single|1.5 Story Unfin|   98|\n",
      "|      Row End|1.5 Story Unfin|    2|\n",
      "|   Row Inside|1.5 Story Unfin|    2|\n",
      "|        Multi|1.5 Story Unfin|    4|\n",
      "|Semi-Detached|1.5 Story Unfin|    6|\n",
      "|       Single|        2 Story|17838|\n",
      "|     Town End|        2 Story|   64|\n",
      "+-------------+---------------+-----+\n",
      "only showing top 20 rows\n",
      "\n"
     ]
    }
   ],
   "source": [
    "df.groupBy(\"STRUCT\", \"STYLE\").count().orderBy(\"STYLE\").show()"
   ]
  },
  {
   "cell_type": "markdown",
   "metadata": {},
   "source": [
    "#### Comparison of house price based on year and strcuture type"
   ]
  },
  {
   "cell_type": "code",
   "execution_count": 22,
   "metadata": {},
   "outputs": [
    {
     "name": "stdout",
     "output_type": "stream",
     "text": [
      "+-------------+------------------+\n",
      "|       STRUCT|        avg(PRICE)|\n",
      "+-------------+------------------+\n",
      "|  Town Inside|392982.09826589597|\n",
      "|         null|3008956.1140142516|\n",
      "|Semi-Detached| 714739.0310932798|\n",
      "|        Multi| 812050.9470198676|\n",
      "|      Row End| 780592.3756530825|\n",
      "|  Vacant Land|              null|\n",
      "|   Row Inside| 770320.1216355044|\n",
      "|      Default|         8158125.0|\n",
      "|     Town End|470861.85714285716|\n",
      "|       Single|1369162.2557859933|\n",
      "+-------------+------------------+\n",
      "\n"
     ]
    }
   ],
   "source": [
    "df.where(\"EYB > 1980\").groupBy(\"STRUCT\").avg(\"PRICE\").show()"
   ]
  },
  {
   "cell_type": "code",
   "execution_count": 23,
   "metadata": {},
   "outputs": [
    {
     "name": "stdout",
     "output_type": "stream",
     "text": [
      "+-------------+------------------+\n",
      "|       STRUCT|        avg(PRICE)|\n",
      "+-------------+------------------+\n",
      "|  Town Inside|          456176.0|\n",
      "|         null| 650015.6415482494|\n",
      "|        Multi| 374835.5344763325|\n",
      "|Semi-Detached| 341055.4788614483|\n",
      "|      Row End|486290.09292846953|\n",
      "|  Vacant Land|              null|\n",
      "|   Row Inside| 498344.3656085237|\n",
      "|      Default|3066666.6666666665|\n",
      "|     Town End| 362978.3333333333|\n",
      "|       Single| 581718.7924424972|\n",
      "+-------------+------------------+\n",
      "\n"
     ]
    }
   ],
   "source": [
    "df.where(\"EYB < 1980\").groupBy(\"STRUCT\").avg(\"PRICE\").show()"
   ]
  },
  {
   "cell_type": "markdown",
   "metadata": {},
   "source": [
    "## Visualization"
   ]
  },
  {
   "cell_type": "markdown",
   "metadata": {},
   "source": [
    "#### Installing Panda"
   ]
  },
  {
   "cell_type": "code",
   "execution_count": 24,
   "metadata": {},
   "outputs": [
    {
     "name": "stdout",
     "output_type": "stream",
     "text": [
      "Collecting package metadata: done\n",
      "Solving environment: done\n",
      "\n",
      "## Package Plan ##\n",
      "\n",
      "  environment location: /opt/conda\n",
      "\n",
      "  added / updated specs:\n",
      "    - pandas\n",
      "\n",
      "\n",
      "The following packages will be downloaded:\n",
      "\n",
      "    package                    |            build\n",
      "    ---------------------------|-----------------\n",
      "    pandas-0.24.2              |   py36he6710b0_0        11.1 MB\n",
      "    ------------------------------------------------------------\n",
      "                                           Total:        11.1 MB\n",
      "\n",
      "The following NEW packages will be INSTALLED:\n",
      "\n",
      "  pandas             pkgs/main/linux-64::pandas-0.24.2-py36he6710b0_0\n",
      "\n",
      "\n",
      "\n",
      "Downloading and Extracting Packages\n",
      "pandas-0.24.2        | 11.1 MB   | ##################################### | 100% \n",
      "Preparing transaction: done\n",
      "Verifying transaction: done\n",
      "Executing transaction: done\n"
     ]
    }
   ],
   "source": [
    "!conda install pandas"
   ]
  },
  {
   "cell_type": "markdown",
   "metadata": {},
   "source": [
    "### Find the trends for property sales by year. "
   ]
  },
  {
   "cell_type": "markdown",
   "metadata": {},
   "source": [
    "#### analysis the total sales count, average price and totoal sales value by each year. (Exclude 2007 and 2015 which contains invalid data)"
   ]
  },
  {
   "cell_type": "code",
   "execution_count": 25,
   "metadata": {},
   "outputs": [
    {
     "name": "stdout",
     "output_type": "stream",
     "text": [
      "+----+-----------+------------------+------------------+\n",
      "|Year|sales_count|         avg_price|total_sales_amount|\n",
      "+----+-----------+------------------+------------------+\n",
      "|2017|      12399| 754478.6438944569|      7.37729218E9|\n",
      "|2016|      10491| 648541.7989875294|      5.25254003E9|\n",
      "|2014|       8635| 635945.9630867386|     4.186432275E9|\n",
      "|2013|       8136| 602606.5104651162|     3.627691193E9|\n",
      "|2012|       6593| 554010.0291909925|       2.6570321E9|\n",
      "|2011|       5658| 532311.8999751799|     2.144684645E9|\n",
      "|2010|       5505| 561583.3860622137|     2.328886302E9|\n",
      "|2009|       5166| 482791.6462904911|     1.848126422E9|\n",
      "|2008|       4772|512125.38417910447|     1.715620037E9|\n",
      "|2006|       5263|487862.33897856576|     1.843631779E9|\n",
      "|2005|       5882|498257.22329411766|     2.117593199E9|\n",
      "|2004|       4949| 403180.0269975457|     1.478461159E9|\n",
      "|2003|       4316|357727.10807204805|      1.07246587E9|\n",
      "|2002|       3460|  304200.144036009|      8.10997584E8|\n",
      "|2001|       3075|277366.51245847176|      6.67898562E8|\n",
      "|2000|       3061|239205.79972311953|      5.18358968E8|\n",
      "+----+-----------+------------------+------------------+\n",
      "\n"
     ]
    }
   ],
   "source": [
    "from pyspark.sql import functions as F\n",
    "#exclude 2007 and 2015 data since they are outliers\n",
    "sales_for_each_year = df.groupBy(F.year(\"SALEDATE\").alias(\"Year\"))\\\n",
    "                        .agg(F.count(\"ID\").alias(\"sales_count\"),F.avg(\"PRICE\").alias(\"avg_price\"), F.sum(\"PRICE\").alias(\"total_sales_amount\"))\\\n",
    "                        .where(F.col(\"Year\") >= 2000)\\\n",
    "                        .where(F.col(\"Year\") <= 2017)\\\n",
    "                        .where(F.col(\"Year\") != 2007 )\\\n",
    "                        .where(F.col(\"Year\") != 2015 )\\\n",
    "                        .orderBy(F.desc(\"Year\"))\n",
    "sales_for_each_year.show()"
   ]
  },
  {
   "cell_type": "code",
   "execution_count": 26,
   "metadata": {},
   "outputs": [
    {
     "data": {
      "text/html": [
       "<div>\n",
       "<style scoped>\n",
       "    .dataframe tbody tr th:only-of-type {\n",
       "        vertical-align: middle;\n",
       "    }\n",
       "\n",
       "    .dataframe tbody tr th {\n",
       "        vertical-align: top;\n",
       "    }\n",
       "\n",
       "    .dataframe thead th {\n",
       "        text-align: right;\n",
       "    }\n",
       "</style>\n",
       "<table border=\"1\" class=\"dataframe\">\n",
       "  <thead>\n",
       "    <tr style=\"text-align: right;\">\n",
       "      <th></th>\n",
       "      <th>Year</th>\n",
       "      <th>sales_count</th>\n",
       "      <th>avg_price</th>\n",
       "      <th>total_sales_amount</th>\n",
       "    </tr>\n",
       "  </thead>\n",
       "  <tbody>\n",
       "    <tr>\n",
       "      <th>0</th>\n",
       "      <td>2017</td>\n",
       "      <td>12399</td>\n",
       "      <td>754478.643894</td>\n",
       "      <td>7.377292e+09</td>\n",
       "    </tr>\n",
       "    <tr>\n",
       "      <th>1</th>\n",
       "      <td>2016</td>\n",
       "      <td>10491</td>\n",
       "      <td>648541.798988</td>\n",
       "      <td>5.252540e+09</td>\n",
       "    </tr>\n",
       "    <tr>\n",
       "      <th>2</th>\n",
       "      <td>2014</td>\n",
       "      <td>8635</td>\n",
       "      <td>635945.963087</td>\n",
       "      <td>4.186432e+09</td>\n",
       "    </tr>\n",
       "    <tr>\n",
       "      <th>3</th>\n",
       "      <td>2013</td>\n",
       "      <td>8136</td>\n",
       "      <td>602606.510465</td>\n",
       "      <td>3.627691e+09</td>\n",
       "    </tr>\n",
       "    <tr>\n",
       "      <th>4</th>\n",
       "      <td>2012</td>\n",
       "      <td>6593</td>\n",
       "      <td>554010.029191</td>\n",
       "      <td>2.657032e+09</td>\n",
       "    </tr>\n",
       "  </tbody>\n",
       "</table>\n",
       "</div>"
      ],
      "text/plain": [
       "   Year  sales_count      avg_price  total_sales_amount\n",
       "0  2017        12399  754478.643894        7.377292e+09\n",
       "1  2016        10491  648541.798988        5.252540e+09\n",
       "2  2014         8635  635945.963087        4.186432e+09\n",
       "3  2013         8136  602606.510465        3.627691e+09\n",
       "4  2012         6593  554010.029191        2.657032e+09"
      ]
     },
     "execution_count": 26,
     "metadata": {},
     "output_type": "execute_result"
    }
   ],
   "source": [
    "py_dc_data = sales_for_each_year.toPandas()\n",
    "py_dc_data.head()"
   ]
  },
  {
   "cell_type": "markdown",
   "metadata": {},
   "source": [
    "#### Use *matplotlib* for plotting"
   ]
  },
  {
   "cell_type": "code",
   "execution_count": 27,
   "metadata": {},
   "outputs": [
    {
     "data": {
      "image/png": "[encoded data removed]",
      "text/plain": [
       "<Figure size 432x288 with 1 Axes>"
      ]
     },
     "metadata": {},
     "output_type": "display_data"
    },
    {
     "data": {
      "image/png": "[encoded data removed]",
      "text/plain": [
       "<Figure size 432x288 with 1 Axes>"
      ]
     },
     "metadata": {},
     "output_type": "display_data"
    },
    {
     "data": {
      "image/png": "[encoded data removed]",
      "text/plain": [
       "<Figure size 432x288 with 1 Axes>"
      ]
     },
     "metadata": {},
     "output_type": "display_data"
    }
   ],
   "source": [
    "%matplotlib inline\n",
    "import matplotlib.pyplot as plt\n",
    "plt.style.use('ggplot')\n",
    "df1 = py_dc_data.set_index('Year')\n",
    "df1[[\"sales_count\" ]].plot.bar().invert_xaxis()\n",
    "plt.title('Sales trend by Year (2000 - 2018)')\n",
    "df1[[\"avg_price\" ]].plot.bar().invert_xaxis()\n",
    "df1[[\"total_sales_amount\" ]].plot.bar().invert_xaxis()"
   ]
  },
  {
   "cell_type": "code",
   "execution_count": 28,
   "metadata": {},
   "outputs": [
    {
     "name": "stdout",
     "output_type": "stream",
     "text": [
      "+-----+-----------+------------------+\n",
      "|Month|sales_count|         avg_price|\n",
      "+-----+-----------+------------------+\n",
      "|    1|       9789|506034.52698781196|\n",
      "|    2|       8394|496008.98143146525|\n",
      "|    3|      10777| 496698.3339750995|\n",
      "|    4|      11713| 4441742.098723102|\n",
      "|    5|      12345| 571164.4725600084|\n",
      "|    6|      13098| 636349.8180820277|\n",
      "|    7|      12099|  550297.666272062|\n",
      "|    8|      11421|513341.45053812687|\n",
      "|    9|      10343|  482143.921906953|\n",
      "|   10|      10861|498367.52176648215|\n",
      "|   11|      10193|1361664.2504329293|\n",
      "|   12|      11154|511415.67670610733|\n",
      "+-----+-----------+------------------+\n",
      "\n"
     ]
    }
   ],
   "source": [
    "sales_for_each_month = df.groupBy(F.month(\"SALEDATE\").alias(\"Month\"))\\\n",
    "                        .agg(F.count(\"ID\").alias(\"sales_count\"),F.avg(\"PRICE\").alias(\"avg_price\"))\\\n",
    "                        .where(F.col(\"Month\") <= 12)\\\n",
    "                        .where(F.col(\"Month\") >= 1)\\\n",
    "                        .orderBy(F.asc(\"Month\"))\n",
    "sales_for_each_month.show()"
   ]
  },
  {
   "cell_type": "markdown",
   "metadata": {},
   "source": [
    "#### Find the trends for property sales by month."
   ]
  },
  {
   "cell_type": "code",
   "execution_count": 29,
   "metadata": {
    "scrolled": true
   },
   "outputs": [
    {
     "data": {
      "text/plain": [
       "Text(0.5, 1.0, 'Sales trend by Year (2000 - 2018)')"
      ]
     },
     "execution_count": 29,
     "metadata": {},
     "output_type": "execute_result"
    },
    {
     "data": {
      "image/png": "[encoded data removed]",
      "text/plain": [
       "<Figure size 432x288 with 1 Axes>"
      ]
     },
     "metadata": {
      "needs_background": "light"
     },
     "output_type": "display_data"
    }
   ],
   "source": [
    "py_dc_data3 = sales_for_each_month.toPandas()\n",
    "py_dc_data3.head()\n",
    "df3 = py_dc_data3.set_index('Month')\n",
    "df3[[\"sales_count\"]].plot.bar()\n",
    "plt.title('Sales trend by Year (2000 - 2018)')"
   ]
  },
  {
   "cell_type": "code",
   "execution_count": 30,
   "metadata": {},
   "outputs": [
    {
     "data": {
      "text/plain": [
       "<matplotlib.axes._subplots.AxesSubplot at 0x7f8ddbd0ac50>"
      ]
     },
     "execution_count": 30,
     "metadata": {},
     "output_type": "execute_result"
    },
    {
     "data": {
      "image/png": "[encoded data removed]",
      "text/plain": [
       "<Figure size 432x288 with 1 Axes>"
      ]
     },
     "metadata": {
      "needs_background": "light"
     },
     "output_type": "display_data"
    }
   ],
   "source": [
    "df3[[\"avg_price\"]].plot.bar()"
   ]
  },
  {
   "cell_type": "markdown",
   "metadata": {},
   "source": [
    "Looks like the avg_price in April is a outlier here!"
   ]
  },
  {
   "cell_type": "markdown",
   "metadata": {},
   "source": [
    "#### Average sales price per ward"
   ]
  },
  {
   "cell_type": "code",
   "execution_count": 31,
   "metadata": {},
   "outputs": [
    {
     "name": "stdout",
     "output_type": "stream",
     "text": [
      "+------+------------------+\n",
      "|  WARD|         avg_price|\n",
      "+------+------------------+\n",
      "|Ward 3|3077715.8967103427|\n",
      "|Ward 2|1098570.4294727354|\n",
      "|Ward 1| 573836.3117143086|\n",
      "|Ward 6| 526868.4370657321|\n",
      "|Ward 4| 489922.4055384102|\n",
      "|Ward 5|395243.22666005127|\n",
      "|Ward 8| 271522.4439133206|\n",
      "|Ward 7|233922.17604336044|\n",
      "+------+------------------+\n",
      "\n"
     ]
    }
   ],
   "source": [
    "sales_each_ward = df.groupBy(F.col(\"WARD\"))\\\n",
    "                        .agg(F.avg(\"PRICE\").alias(\"avg_price\"))\\\n",
    "                        .where(F.col(\"WARD\") != 'null')\\\n",
    "                        .orderBy(F.desc(\"avg_price\"))\n",
    "sales_each_ward.show()"
   ]
  },
  {
   "cell_type": "code",
   "execution_count": 32,
   "metadata": {},
   "outputs": [
    {
     "data": {
      "text/html": [
       "<div>\n",
       "<style scoped>\n",
       "    .dataframe tbody tr th:only-of-type {\n",
       "        vertical-align: middle;\n",
       "    }\n",
       "\n",
       "    .dataframe tbody tr th {\n",
       "        vertical-align: top;\n",
       "    }\n",
       "\n",
       "    .dataframe thead th {\n",
       "        text-align: right;\n",
       "    }\n",
       "</style>\n",
       "<table border=\"1\" class=\"dataframe\">\n",
       "  <thead>\n",
       "    <tr style=\"text-align: right;\">\n",
       "      <th></th>\n",
       "      <th>WARD</th>\n",
       "      <th>avg_price</th>\n",
       "    </tr>\n",
       "  </thead>\n",
       "  <tbody>\n",
       "    <tr>\n",
       "      <th>0</th>\n",
       "      <td>Ward 3</td>\n",
       "      <td>3.077716e+06</td>\n",
       "    </tr>\n",
       "    <tr>\n",
       "      <th>1</th>\n",
       "      <td>Ward 2</td>\n",
       "      <td>1.098570e+06</td>\n",
       "    </tr>\n",
       "    <tr>\n",
       "      <th>2</th>\n",
       "      <td>Ward 1</td>\n",
       "      <td>5.738363e+05</td>\n",
       "    </tr>\n",
       "    <tr>\n",
       "      <th>3</th>\n",
       "      <td>Ward 6</td>\n",
       "      <td>5.268684e+05</td>\n",
       "    </tr>\n",
       "    <tr>\n",
       "      <th>4</th>\n",
       "      <td>Ward 4</td>\n",
       "      <td>4.899224e+05</td>\n",
       "    </tr>\n",
       "  </tbody>\n",
       "</table>\n",
       "</div>"
      ],
      "text/plain": [
       "     WARD     avg_price\n",
       "0  Ward 3  3.077716e+06\n",
       "1  Ward 2  1.098570e+06\n",
       "2  Ward 1  5.738363e+05\n",
       "3  Ward 6  5.268684e+05\n",
       "4  Ward 4  4.899224e+05"
      ]
     },
     "execution_count": 32,
     "metadata": {},
     "output_type": "execute_result"
    }
   ],
   "source": [
    "py_dc_data2 = sales_each_ward.toPandas()\n",
    "py_dc_data2.head()"
   ]
  },
  {
   "cell_type": "code",
   "execution_count": 33,
   "metadata": {
    "scrolled": true
   },
   "outputs": [
    {
     "data": {
      "text/plain": [
       "<matplotlib.axes._subplots.AxesSubplot at 0x7f8ddbcf9f98>"
      ]
     },
     "execution_count": 33,
     "metadata": {},
     "output_type": "execute_result"
    },
    {
     "data": {
      "image/png": "[encoded data removed]",
      "text/plain": [
       "<Figure size 432x288 with 1 Axes>"
      ]
     },
     "metadata": {
      "needs_background": "light"
     },
     "output_type": "display_data"
    }
   ],
   "source": [
    "df2 = py_dc_data2.set_index('WARD')\n",
    "df2[[\"avg_price\"]].plot.bar()"
   ]
  },
  {
   "cell_type": "markdown",
   "metadata": {},
   "source": [
    "Ward 3 has most avg_price in D.C."
   ]
  },
  {
   "cell_type": "markdown",
   "metadata": {},
   "source": [
    "## Sampling & Scatterplot\n",
    "sample 0.2% of the data to plot a scatterplot:"
   ]
  },
  {
   "cell_type": "code",
   "execution_count": 44,
   "metadata": {},
   "outputs": [
    {
     "data": {
      "text/html": [
       "<div>\n",
       "<style scoped>\n",
       "    .dataframe tbody tr th:only-of-type {\n",
       "        vertical-align: middle;\n",
       "    }\n",
       "\n",
       "    .dataframe tbody tr th {\n",
       "        vertical-align: top;\n",
       "    }\n",
       "\n",
       "    .dataframe thead th {\n",
       "        text-align: right;\n",
       "    }\n",
       "</style>\n",
       "<table border=\"1\" class=\"dataframe\">\n",
       "  <thead>\n",
       "    <tr style=\"text-align: right;\">\n",
       "      <th></th>\n",
       "      <th>ID</th>\n",
       "      <th>BATHRM</th>\n",
       "      <th>HF_BATHRM</th>\n",
       "      <th>HEAT</th>\n",
       "      <th>AC</th>\n",
       "      <th>NUM_UNITS</th>\n",
       "      <th>ROOMS</th>\n",
       "      <th>BEDRM</th>\n",
       "      <th>AYB</th>\n",
       "      <th>YR_RMDL</th>\n",
       "      <th>...</th>\n",
       "      <th>LONGITUDE</th>\n",
       "      <th>ASSESSMENT_NBHD</th>\n",
       "      <th>ASSESSMENT_SUBNBHD</th>\n",
       "      <th>CENSUS_TRACT</th>\n",
       "      <th>CENSUS_BLOCK</th>\n",
       "      <th>WARD</th>\n",
       "      <th>SQUARE</th>\n",
       "      <th>X</th>\n",
       "      <th>Y</th>\n",
       "      <th>QUADRANTå</th>\n",
       "    </tr>\n",
       "  </thead>\n",
       "  <tbody>\n",
       "    <tr>\n",
       "      <th>0</th>\n",
       "      <td>359</td>\n",
       "      <td>2</td>\n",
       "      <td>0</td>\n",
       "      <td>Warm Cool</td>\n",
       "      <td>Y</td>\n",
       "      <td>1.0</td>\n",
       "      <td>6</td>\n",
       "      <td>4</td>\n",
       "      <td>1890.0</td>\n",
       "      <td>NaN</td>\n",
       "      <td>...</td>\n",
       "      <td>-77.037670</td>\n",
       "      <td>Old City 2</td>\n",
       "      <td>040 D Old City 2</td>\n",
       "      <td>5301.0</td>\n",
       "      <td>005301 1002</td>\n",
       "      <td>Ward 2</td>\n",
       "      <td>0178</td>\n",
       "      <td>-77.037670</td>\n",
       "      <td>38.913217</td>\n",
       "      <td>NW</td>\n",
       "    </tr>\n",
       "    <tr>\n",
       "      <th>1</th>\n",
       "      <td>83684</td>\n",
       "      <td>1</td>\n",
       "      <td>0</td>\n",
       "      <td>Warm Cool</td>\n",
       "      <td>Y</td>\n",
       "      <td>1.0</td>\n",
       "      <td>6</td>\n",
       "      <td>2</td>\n",
       "      <td>1940.0</td>\n",
       "      <td>NaN</td>\n",
       "      <td>...</td>\n",
       "      <td>-76.955480</td>\n",
       "      <td>Lily Ponds</td>\n",
       "      <td>032 B Lily Ponds</td>\n",
       "      <td>9604.0</td>\n",
       "      <td>009604 2002</td>\n",
       "      <td>Ward 7</td>\n",
       "      <td>5018</td>\n",
       "      <td>-76.956125</td>\n",
       "      <td>38.894172</td>\n",
       "      <td>NE</td>\n",
       "    </tr>\n",
       "    <tr>\n",
       "      <th>2</th>\n",
       "      <td>89409</td>\n",
       "      <td>3</td>\n",
       "      <td>1</td>\n",
       "      <td>Forced Air</td>\n",
       "      <td>Y</td>\n",
       "      <td>1.0</td>\n",
       "      <td>6</td>\n",
       "      <td>3</td>\n",
       "      <td>2011.0</td>\n",
       "      <td>NaN</td>\n",
       "      <td>...</td>\n",
       "      <td>-76.927263</td>\n",
       "      <td>Marshall Heights</td>\n",
       "      <td>033 A Marshall Heights</td>\n",
       "      <td>9905.0</td>\n",
       "      <td>009905 1006</td>\n",
       "      <td>Ward 7</td>\n",
       "      <td>5310</td>\n",
       "      <td>-76.927018</td>\n",
       "      <td>38.885798</td>\n",
       "      <td>SE</td>\n",
       "    </tr>\n",
       "    <tr>\n",
       "      <th>3</th>\n",
       "      <td>155389</td>\n",
       "      <td>2</td>\n",
       "      <td>0</td>\n",
       "      <td>Forced Air</td>\n",
       "      <td>Y</td>\n",
       "      <td>NaN</td>\n",
       "      <td>4</td>\n",
       "      <td>2</td>\n",
       "      <td>2007.0</td>\n",
       "      <td>NaN</td>\n",
       "      <td>...</td>\n",
       "      <td>-77.017776</td>\n",
       "      <td>Old City 2</td>\n",
       "      <td>040 B Old City 2</td>\n",
       "      <td>4701.0</td>\n",
       "      <td>None</td>\n",
       "      <td>Ward 6</td>\n",
       "      <td>0515</td>\n",
       "      <td>-77.017778</td>\n",
       "      <td>38.903148</td>\n",
       "      <td>NW</td>\n",
       "    </tr>\n",
       "    <tr>\n",
       "      <th>4</th>\n",
       "      <td>125576</td>\n",
       "      <td>2</td>\n",
       "      <td>0</td>\n",
       "      <td>Forced Air</td>\n",
       "      <td>Y</td>\n",
       "      <td>NaN</td>\n",
       "      <td>4</td>\n",
       "      <td>2</td>\n",
       "      <td>1948.0</td>\n",
       "      <td>NaN</td>\n",
       "      <td>...</td>\n",
       "      <td>-77.069016</td>\n",
       "      <td>Wakefield</td>\n",
       "      <td>None</td>\n",
       "      <td>1200.0</td>\n",
       "      <td>None</td>\n",
       "      <td>Ward 3</td>\n",
       "      <td>1977</td>\n",
       "      <td>-77.069018</td>\n",
       "      <td>38.950168</td>\n",
       "      <td>NW</td>\n",
       "    </tr>\n",
       "  </tbody>\n",
       "</table>\n",
       "<p>5 rows × 47 columns</p>\n",
       "</div>"
      ],
      "text/plain": [
       "       ID  BATHRM  HF_BATHRM        HEAT AC  NUM_UNITS  ROOMS  BEDRM     AYB  \\\n",
       "0     359       2          0   Warm Cool  Y        1.0      6      4  1890.0   \n",
       "1   83684       1          0   Warm Cool  Y        1.0      6      2  1940.0   \n",
       "2   89409       3          1  Forced Air  Y        1.0      6      3  2011.0   \n",
       "3  155389       2          0  Forced Air  Y        NaN      4      2  2007.0   \n",
       "4  125576       2          0  Forced Air  Y        NaN      4      2  1948.0   \n",
       "\n",
       "   YR_RMDL  ...  LONGITUDE   ASSESSMENT_NBHD      ASSESSMENT_SUBNBHD  \\\n",
       "0      NaN  ... -77.037670        Old City 2        040 D Old City 2   \n",
       "1      NaN  ... -76.955480        Lily Ponds        032 B Lily Ponds   \n",
       "2      NaN  ... -76.927263  Marshall Heights  033 A Marshall Heights   \n",
       "3      NaN  ... -77.017776        Old City 2        040 B Old City 2   \n",
       "4      NaN  ... -77.069016         Wakefield                    None   \n",
       "\n",
       "   CENSUS_TRACT CENSUS_BLOCK    WARD  SQUARE          X          Y QUADRANTå  \n",
       "0        5301.0  005301 1002  Ward 2    0178 -77.037670  38.913217        NW  \n",
       "1        9604.0  009604 2002  Ward 7    5018 -76.956125  38.894172        NE  \n",
       "2        9905.0  009905 1006  Ward 7    5310 -76.927018  38.885798        SE  \n",
       "3        4701.0         None  Ward 6    0515 -77.017778  38.903148        NW  \n",
       "4        1200.0         None  Ward 3    1977 -77.069018  38.950168        NW  \n",
       "\n",
       "[5 rows x 47 columns]"
      ]
     },
     "execution_count": 44,
     "metadata": {},
     "output_type": "execute_result"
    }
   ],
   "source": [
    "df_sample = df.sample(withReplacement = False, fraction = 0.02, seed = 8)\n",
    "\n",
    "# Convert to Pandas\n",
    "py_df_sample = df_sample.toPandas()\n",
    "\n",
    "py_df_sample.head()"
   ]
  },
  {
   "cell_type": "markdown",
   "metadata": {},
   "source": [
    "Draw plot on housing sales count by location"
   ]
  },
  {
   "cell_type": "code",
   "execution_count": 45,
   "metadata": {},
   "outputs": [
    {
     "data": {
      "text/plain": [
       "<matplotlib.collections.PathCollection at 0x7f8ddbae0ef0>"
      ]
     },
     "execution_count": 45,
     "metadata": {},
     "output_type": "execute_result"
    },
    {
     "data": {
      "image/png": "[encoded data removed]",
      "text/plain": [
       "<Figure size 720x576 with 1 Axes>"
      ]
     },
     "metadata": {
      "needs_background": "light"
     },
     "output_type": "display_data"
    }
   ],
   "source": [
    "plt.figure(figsize=(10,8))\n",
    "plt.scatter(py_df_sample['LATITUDE'], py_df_sample['LONGITUDE'], alpha=0.5)"
   ]
  },
  {
   "cell_type": "markdown",
   "metadata": {},
   "source": [
    "Compare with Washington D.C Map"
   ]
  },
  {
   "cell_type": "markdown",
   "metadata": {},
   "source": [
    "<img src=\"https://raw.githubusercontent.com/elieric/is843/master/DC-Ward-Public-Trans.jpg\" width=\"300\" align=\"left\"/>"
   ]
  }
 ],
 "metadata": {
  "kernelspec": {
   "display_name": "PySpark",
   "language": "python",
   "name": "pyspark"
  },
  "language_info": {
   "codemirror_mode": {
    "name": "ipython",
    "version": 3
   },
   "file_extension": ".py",
   "mimetype": "text/x-python",
   "name": "python",
   "nbconvert_exporter": "python",
   "pygments_lexer": "ipython3",
   "version": "3.6.5"
  }
 },
 "nbformat": 4,
 "nbformat_minor": 2
}