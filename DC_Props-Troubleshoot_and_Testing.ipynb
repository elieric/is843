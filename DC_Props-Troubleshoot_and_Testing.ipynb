{
 "cells": [
  {
   "cell_type": "code",
   "execution_count": 1,
   "metadata": {},
   "outputs": [
    {
     "name": "stdout",
     "output_type": "stream",
     "text": [
      "Requirement already up-to-date: pip in /opt/conda/lib/python3.6/site-packages (19.0.3)\r\n"
     ]
    }
   ],
   "source": [
    "!pip install --upgrade pip"
   ]
  },
  {
   "cell_type": "code",
   "execution_count": 2,
   "metadata": {},
   "outputs": [
    {
     "name": "stdout",
     "output_type": "stream",
     "text": [
      "Collecting package metadata: done\n",
      "Solving environment: done\n",
      "\n",
      "# All requested packages already installed.\n",
      "\n"
     ]
    }
   ],
   "source": [
    "!conda install pandas\n"
   ]
  },
  {
   "cell_type": "code",
   "execution_count": 3,
   "metadata": {},
   "outputs": [
    {
     "name": "stdout",
     "output_type": "stream",
     "text": [
      "Collecting package metadata: done\n",
      "Solving environment: done\n",
      "\n",
      "# All requested packages already installed.\n",
      "\n"
     ]
    }
   ],
   "source": [
    "!conda install scikit-learn"
   ]
  },
  {
   "cell_type": "code",
   "execution_count": 4,
   "metadata": {},
   "outputs": [
    {
     "name": "stdout",
     "output_type": "stream",
     "text": [
      "Requirement already satisfied: missingno in /opt/conda/lib/python3.6/site-packages (0.4.1)\n",
      "Requirement already satisfied: numpy in /opt/conda/lib/python3.6/site-packages (from missingno) (1.16.2)\n",
      "Requirement already satisfied: seaborn in /opt/conda/lib/python3.6/site-packages (from missingno) (0.9.0)\n",
      "Requirement already satisfied: matplotlib in /opt/conda/lib/python3.6/site-packages (from missingno) (3.0.3)\n",
      "Requirement already satisfied: scipy in /opt/conda/lib/python3.6/site-packages (from missingno) (1.2.1)\n",
      "Requirement already satisfied: pandas>=0.15.2 in /opt/conda/lib/python3.6/site-packages (from seaborn->missingno) (0.24.2)\n",
      "Requirement already satisfied: cycler>=0.10 in /opt/conda/lib/python3.6/site-packages (from matplotlib->missingno) (0.10.0)\n",
      "Requirement already satisfied: kiwisolver>=1.0.1 in /opt/conda/lib/python3.6/site-packages (from matplotlib->missingno) (1.0.1)\n",
      "Requirement already satisfied: pyparsing!=2.0.4,!=2.1.2,!=2.1.6,>=2.0.1 in /opt/conda/lib/python3.6/site-packages (from matplotlib->missingno) (2.4.0)\n",
      "Requirement already satisfied: python-dateutil>=2.1 in /opt/conda/lib/python3.6/site-packages (from matplotlib->missingno) (2.8.0)\n",
      "Requirement already satisfied: pytz>=2011k in /opt/conda/lib/python3.6/site-packages (from pandas>=0.15.2->seaborn->missingno) (2019.1)\n",
      "Requirement already satisfied: six in /opt/conda/lib/python3.6/site-packages (from cycler>=0.10->matplotlib->missingno) (1.11.0)\n",
      "Requirement already satisfied: setuptools in /opt/conda/lib/python3.6/site-packages (from kiwisolver>=1.0.1->matplotlib->missingno) (39.2.0)\n"
     ]
    }
   ],
   "source": [
    "!pip install missingno"
   ]
  },
  {
   "cell_type": "code",
   "execution_count": 34,
   "metadata": {},
   "outputs": [
    {
     "ename": "ImportError",
     "evalue": "cannot import name 'ShuffleSplit'",
     "output_type": "error",
     "traceback": [
      "\u001b[0;31m---------------------------------------------------------------------------\u001b[0m",
      "\u001b[0;31mImportError\u001b[0m                               Traceback (most recent call last)",
      "\u001b[0;32m<ipython-input-34-d8985c91a3d5>\u001b[0m in \u001b[0;36m<module>\u001b[0;34m\u001b[0m\n\u001b[1;32m     10\u001b[0m \u001b[0;32mfrom\u001b[0m \u001b[0msklearn\u001b[0m\u001b[0;34m.\u001b[0m\u001b[0mpipeline\u001b[0m \u001b[0;32mimport\u001b[0m \u001b[0mPipeline\u001b[0m\u001b[0;34m\u001b[0m\u001b[0m\n\u001b[1;32m     11\u001b[0m \u001b[0;32mfrom\u001b[0m \u001b[0msklearn\u001b[0m \u001b[0;32mimport\u001b[0m \u001b[0mmetrics\u001b[0m\u001b[0;34m\u001b[0m\u001b[0m\n\u001b[0;32m---> 12\u001b[0;31m \u001b[0;32mfrom\u001b[0m \u001b[0msklearn\u001b[0m \u001b[0;32mimport\u001b[0m \u001b[0mShuffleSplit\u001b[0m\u001b[0;34m,\u001b[0m\u001b[0mtrain_test_split\u001b[0m \u001b[0;31m# No module named 'sklearn.cross_validation'\u001b[0m\u001b[0;34m\u001b[0m\u001b[0m\n\u001b[0m\u001b[1;32m     13\u001b[0m \u001b[0;32mfrom\u001b[0m \u001b[0msklearn\u001b[0m\u001b[0;34m.\u001b[0m\u001b[0mlinear_model\u001b[0m \u001b[0;32mimport\u001b[0m \u001b[0mLinearRegression\u001b[0m\u001b[0;34m\u001b[0m\u001b[0m\n\u001b[1;32m     14\u001b[0m \u001b[0;32mfrom\u001b[0m \u001b[0msklearn\u001b[0m\u001b[0;34m.\u001b[0m\u001b[0mmetrics\u001b[0m \u001b[0;32mimport\u001b[0m \u001b[0mmean_squared_error\u001b[0m\u001b[0;34m,\u001b[0m \u001b[0mr2_score\u001b[0m\u001b[0;34m\u001b[0m\u001b[0m\n",
      "\u001b[0;31mImportError\u001b[0m: cannot import name 'ShuffleSplit'"
     ]
    }
   ],
   "source": [
    "import numpy as np\n",
    "import missingno as msno\n",
    "%matplotlib inline\n",
    "import pandas as pd\n",
    "import matplotlib.pyplot as plt\n",
    "import seaborn as sns\n",
    "# import statsmodels.api as sm # error\n",
    "from sklearn.preprocessing import PolynomialFeatures\n",
    "from sklearn.linear_model import LinearRegression\n",
    "from sklearn.pipeline import Pipeline\n",
    "from sklearn import metrics\n",
    "# from sklearn.cross_validation import ShuffleSplit,train_test_split # No module named 'sklearn.cross_validation'\n",
    "from sklearn.linear_model import LinearRegression\n",
    "from sklearn.metrics import mean_squared_error, r2_score\n",
    "from sklearn.linear_model import Ridge, RidgeCV, Lasso, LassoCV\n",
    "from sklearn import svm\n",
    "from sklearn.neighbors import KNeighborsRegressor\n",
    "from sklearn.svm import SVR\n",
    "from sklearn.ensemble import RandomForestRegressor\n",
    "from sklearn.model_selection import train_test_split, GridSearchCV\n",
    "from sklearn.ensemble import GradientBoostingRegressor\n",
    "from scipy import stats\n",
    "from scipy.stats import norm, skew"
   ]
  },
  {
   "cell_type": "code",
   "execution_count": 11,
   "metadata": {},
   "outputs": [
    {
     "name": "stdout",
     "output_type": "stream",
     "text": [
      "gs://is843_bigdaddydata/data/DC_Properties.csv\r\n"
     ]
    }
   ],
   "source": [
    "# the following line gets the bucket name attached to our cluster\n",
    "bucket = spark._jsc.hadoopConfiguration().get(\"fs.gs.system.bucket\")\n",
    "\n",
    "# specifying the path to our bucket where the data is located (no need to edit this path anymore)\n",
    "data = \"gs://\" + bucket + \"/data/\"\n",
    "!gsutil ls {data + \"DC_Properties.csv\"}"
   ]
  },
  {
   "cell_type": "code",
   "execution_count": 12,
   "metadata": {},
   "outputs": [
    {
     "name": "stdout",
     "output_type": "stream",
     "text": [
      "data was re-partitioned to 20 partitions!\n"
     ]
    },
    {
     "data": {
      "text/plain": [
       "DataFrame[_c0: int, BATHRM: int, HF_BATHRM: int, HEAT: string, AC: string, NUM_UNITS: double, ROOMS: int, BEDRM: int, AYB: double, YR_RMDL: double, EYB: int, STORIES: double, SALEDATE: timestamp, PRICE: double, QUALIFIED: string, SALE_NUM: int, GBA: double, BLDG_NUM: int, STYLE: string, STRUCT: string, GRADE: string, CNDTN: string, EXTWALL: string, ROOF: string, INTWALL: string, KITCHENS: double, FIREPLACES: int, USECODE: int, LANDAREA: int, GIS_LAST_MOD_DTTM: timestamp, SOURCE: string, CMPLX_NUM: double, LIVING_GBA: double, FULLADDRESS: string, CITY: string, STATE: string, ZIPCODE: double, NATIONALGRID: string, LATITUDE: double, LONGITUDE: double, ASSESSMENT_NBHD: string, ASSESSMENT_SUBNBHD: string, CENSUS_TRACT: double, CENSUS_BLOCK: string, WARD: string, SQUARE: string, X: double, Y: double, QUADRANT: string]"
      ]
     },
     "execution_count": 12,
     "metadata": {},
     "output_type": "execute_result"
    }
   ],
   "source": [
    "df = spark.read.format(\"csv\")\\\n",
    "  .option(\"header\", \"true\")\\\n",
    "  .option(\"inferSchema\", \"true\")\\\n",
    "  .load(data + \"DC_Properties.csv\")\n",
    "#per 01-EDA.ipynb:\n",
    "df = df.repartition(20)\n",
    "print(\"data was re-partitioned to {} partitions!\".format(df.rdd.getNumPartitions()))\n",
    "\n",
    "spark.conf.set(\"spark.sql.shuffle.partitions\", \"20\")\n",
    "\n",
    "df.cache()"
   ]
  },
  {
   "cell_type": "code",
   "execution_count": 13,
   "metadata": {},
   "outputs": [],
   "source": [
    "dc = df.toPandas()"
   ]
  },
  {
   "cell_type": "code",
   "execution_count": 14,
   "metadata": {},
   "outputs": [
    {
     "data": {
      "text/html": [
       "<div>\n",
       "<style scoped>\n",
       "    .dataframe tbody tr th:only-of-type {\n",
       "        vertical-align: middle;\n",
       "    }\n",
       "\n",
       "    .dataframe tbody tr th {\n",
       "        vertical-align: top;\n",
       "    }\n",
       "\n",
       "    .dataframe thead th {\n",
       "        text-align: right;\n",
       "    }\n",
       "</style>\n",
       "<table border=\"1\" class=\"dataframe\">\n",
       "  <thead>\n",
       "    <tr style=\"text-align: right;\">\n",
       "      <th></th>\n",
       "      <th>Missing %</th>\n",
       "    </tr>\n",
       "  </thead>\n",
       "  <tbody>\n",
       "    <tr>\n",
       "      <th>CMPLX_NUM</th>\n",
       "      <td>67.122555</td>\n",
       "    </tr>\n",
       "    <tr>\n",
       "      <th>LIVING_GBA</th>\n",
       "      <td>67.122555</td>\n",
       "    </tr>\n",
       "    <tr>\n",
       "      <th>YR_RMDL</th>\n",
       "      <td>49.088118</td>\n",
       "    </tr>\n",
       "    <tr>\n",
       "      <th>PRICE</th>\n",
       "      <td>38.212221</td>\n",
       "    </tr>\n",
       "    <tr>\n",
       "      <th>FULLADDRESS</th>\n",
       "      <td>33.290135</td>\n",
       "    </tr>\n",
       "    <tr>\n",
       "      <th>NATIONALGRID</th>\n",
       "      <td>33.283215</td>\n",
       "    </tr>\n",
       "    <tr>\n",
       "      <th>CENSUS_BLOCK</th>\n",
       "      <td>33.283215</td>\n",
       "    </tr>\n",
       "    <tr>\n",
       "      <th>CITY</th>\n",
       "      <td>33.283215</td>\n",
       "    </tr>\n",
       "    <tr>\n",
       "      <th>STATE</th>\n",
       "      <td>33.283215</td>\n",
       "    </tr>\n",
       "    <tr>\n",
       "      <th>STORIES</th>\n",
       "      <td>32.905125</td>\n",
       "    </tr>\n",
       "    <tr>\n",
       "      <th>KITCHENS</th>\n",
       "      <td>32.878074</td>\n",
       "    </tr>\n",
       "    <tr>\n",
       "      <th>CNDTN</th>\n",
       "      <td>32.877445</td>\n",
       "    </tr>\n",
       "    <tr>\n",
       "      <th>ROOF</th>\n",
       "      <td>32.877445</td>\n",
       "    </tr>\n",
       "    <tr>\n",
       "      <th>STRUCT</th>\n",
       "      <td>32.877445</td>\n",
       "    </tr>\n",
       "    <tr>\n",
       "      <th>STYLE</th>\n",
       "      <td>32.877445</td>\n",
       "    </tr>\n",
       "    <tr>\n",
       "      <th>GBA</th>\n",
       "      <td>32.877445</td>\n",
       "    </tr>\n",
       "    <tr>\n",
       "      <th>EXTWALL</th>\n",
       "      <td>32.877445</td>\n",
       "    </tr>\n",
       "    <tr>\n",
       "      <th>GRADE</th>\n",
       "      <td>32.877445</td>\n",
       "    </tr>\n",
       "    <tr>\n",
       "      <th>NUM_UNITS</th>\n",
       "      <td>32.877445</td>\n",
       "    </tr>\n",
       "    <tr>\n",
       "      <th>INTWALL</th>\n",
       "      <td>32.877445</td>\n",
       "    </tr>\n",
       "  </tbody>\n",
       "</table>\n",
       "</div>"
      ],
      "text/plain": [
       "              Missing %\n",
       "CMPLX_NUM     67.122555\n",
       "LIVING_GBA    67.122555\n",
       "YR_RMDL       49.088118\n",
       "PRICE         38.212221\n",
       "FULLADDRESS   33.290135\n",
       "NATIONALGRID  33.283215\n",
       "CENSUS_BLOCK  33.283215\n",
       "CITY          33.283215\n",
       "STATE         33.283215\n",
       "STORIES       32.905125\n",
       "KITCHENS      32.878074\n",
       "CNDTN         32.877445\n",
       "ROOF          32.877445\n",
       "STRUCT        32.877445\n",
       "STYLE         32.877445\n",
       "GBA           32.877445\n",
       "EXTWALL       32.877445\n",
       "GRADE         32.877445\n",
       "NUM_UNITS     32.877445\n",
       "INTWALL       32.877445"
      ]
     },
     "execution_count": 14,
     "metadata": {},
     "output_type": "execute_result"
    }
   ],
   "source": [
    "# all per: kaggle.com/ashishaggarwal12/dc-properties/notebook\n",
    "dc_na = (dc.isnull().sum() / len(dc)) * 100\n",
    "dc_na = dc_na.drop(dc_na[dc_na == 0].index).sort_values(ascending=False)[:30]\n",
    "missing_data = pd.DataFrame({'Missing %' :dc_na})\n",
    "missing_data.head(20)"
   ]
  },
  {
   "cell_type": "code",
   "execution_count": 15,
   "metadata": {},
   "outputs": [
    {
     "data": {
      "image/png": "[encoded data removed]",
      "text/plain": [
       "<Figure size 1080x864 with 1 Axes>"
      ]
     },
     "metadata": {
      "needs_background": "light"
     },
     "output_type": "display_data"
    }
   ],
   "source": [
    "f, ax = plt.subplots(figsize=(15, 12))\n",
    "sns.barplot(y=dc_na.index, x=dc_na)\n",
    "plt.xlabel('Features', fontsize=15)\n",
    "plt.ylabel('Percent of missing values', fontsize=15)\n",
    "plt.title('Percent missing data by feature', fontsize=15)\n",
    "plt.show()"
   ]
  },
  {
   "cell_type": "code",
   "execution_count": 16,
   "metadata": {},
   "outputs": [],
   "source": [
    "dc_clean=dc"
   ]
  },
  {
   "cell_type": "code",
   "execution_count": 17,
   "metadata": {},
   "outputs": [
    {
     "name": "stderr",
     "output_type": "stream",
     "text": [
      "/opt/conda/lib/python3.6/site-packages/ipykernel/__main__.py:3: SettingWithCopyWarning: \n",
      "A value is trying to be set on a copy of a slice from a DataFrame\n",
      "\n",
      "See the caveats in the documentation: http://pandas.pydata.org/pandas-docs/stable/indexing.html#indexing-view-versus-copy\n",
      "  app.launch_new_instance()\n"
     ]
    }
   ],
   "source": [
    "dc_clean=dc_clean.drop(['NATIONALGRID','ASSESSMENT_SUBNBHD','CENSUS_BLOCK','X','Y','QUADRANT'], axis=1)\n",
    "\n",
    "dc_clean.NUM_UNITS[dc_clean.NUM_UNITS.isnull()] =  dc_clean.NUM_UNITS.mode().iloc[0]"
   ]
  },
  {
   "cell_type": "code",
   "execution_count": 18,
   "metadata": {},
   "outputs": [
    {
     "name": "stderr",
     "output_type": "stream",
     "text": [
      "/opt/conda/lib/python3.6/site-packages/ipykernel/__main__.py:4: SettingWithCopyWarning: \n",
      "A value is trying to be set on a copy of a slice from a DataFrame\n",
      "\n",
      "See the caveats in the documentation: http://pandas.pydata.org/pandas-docs/stable/indexing.html#indexing-view-versus-copy\n",
      "/opt/conda/lib/python3.6/site-packages/ipykernel/__main__.py:5: SettingWithCopyWarning: \n",
      "A value is trying to be set on a copy of a slice from a DataFrame\n",
      "\n",
      "See the caveats in the documentation: http://pandas.pydata.org/pandas-docs/stable/indexing.html#indexing-view-versus-copy\n",
      "/opt/conda/lib/python3.6/site-packages/ipykernel/__main__.py:6: SettingWithCopyWarning: \n",
      "A value is trying to be set on a copy of a slice from a DataFrame\n",
      "\n",
      "See the caveats in the documentation: http://pandas.pydata.org/pandas-docs/stable/indexing.html#indexing-view-versus-copy\n",
      "/opt/conda/lib/python3.6/site-packages/ipykernel/__main__.py:7: SettingWithCopyWarning: \n",
      "A value is trying to be set on a copy of a slice from a DataFrame\n",
      "\n",
      "See the caveats in the documentation: http://pandas.pydata.org/pandas-docs/stable/indexing.html#indexing-view-versus-copy\n",
      "/opt/conda/lib/python3.6/site-packages/ipykernel/__main__.py:8: SettingWithCopyWarning: \n",
      "A value is trying to be set on a copy of a slice from a DataFrame\n",
      "\n",
      "See the caveats in the documentation: http://pandas.pydata.org/pandas-docs/stable/indexing.html#indexing-view-versus-copy\n",
      "/opt/conda/lib/python3.6/site-packages/ipykernel/__main__.py:9: SettingWithCopyWarning: \n",
      "A value is trying to be set on a copy of a slice from a DataFrame\n",
      "\n",
      "See the caveats in the documentation: http://pandas.pydata.org/pandas-docs/stable/indexing.html#indexing-view-versus-copy\n",
      "/opt/conda/lib/python3.6/site-packages/ipykernel/__main__.py:10: SettingWithCopyWarning: \n",
      "A value is trying to be set on a copy of a slice from a DataFrame\n",
      "\n",
      "See the caveats in the documentation: http://pandas.pydata.org/pandas-docs/stable/indexing.html#indexing-view-versus-copy\n",
      "/opt/conda/lib/python3.6/site-packages/ipykernel/__main__.py:11: SettingWithCopyWarning: \n",
      "A value is trying to be set on a copy of a slice from a DataFrame\n",
      "\n",
      "See the caveats in the documentation: http://pandas.pydata.org/pandas-docs/stable/indexing.html#indexing-view-versus-copy\n",
      "/opt/conda/lib/python3.6/site-packages/ipykernel/__main__.py:12: SettingWithCopyWarning: \n",
      "A value is trying to be set on a copy of a slice from a DataFrame\n",
      "\n",
      "See the caveats in the documentation: http://pandas.pydata.org/pandas-docs/stable/indexing.html#indexing-view-versus-copy\n",
      "/opt/conda/lib/python3.6/site-packages/ipykernel/__main__.py:13: SettingWithCopyWarning: \n",
      "A value is trying to be set on a copy of a slice from a DataFrame\n",
      "\n",
      "See the caveats in the documentation: http://pandas.pydata.org/pandas-docs/stable/indexing.html#indexing-view-versus-copy\n",
      "/opt/conda/lib/python3.6/site-packages/ipykernel/__main__.py:14: SettingWithCopyWarning: \n",
      "A value is trying to be set on a copy of a slice from a DataFrame\n",
      "\n",
      "See the caveats in the documentation: http://pandas.pydata.org/pandas-docs/stable/indexing.html#indexing-view-versus-copy\n",
      "/opt/conda/lib/python3.6/site-packages/ipykernel/__main__.py:18: SettingWithCopyWarning: \n",
      "A value is trying to be set on a copy of a slice from a DataFrame\n",
      "\n",
      "See the caveats in the documentation: http://pandas.pydata.org/pandas-docs/stable/indexing.html#indexing-view-versus-copy\n"
     ]
    }
   ],
   "source": [
    "dc_clean.loc[dc_clean['YR_RMDL'].isnull(), 'YR_RMDL'] = dc_clean['EYB']\n",
    "dc_clean.loc[dc_clean['AYB'].isnull(), 'AYB'] = dc_clean['EYB']\n",
    "dc_clean.STORIES=dc_clean.STORIES.round()\n",
    "dc_clean.STORIES[dc_clean.STORIES.isnull()] =  dc_clean.STORIES.mode().iloc[0]\n",
    "dc_clean.GBA[dc_clean.GBA.isnull()] =  dc_clean.GBA.mean()\n",
    "dc_clean.STYLE[dc_clean.STYLE.isnull()] =  dc_clean.STYLE.mode().iloc[0]\n",
    "dc_clean.STRUCT[dc_clean.STRUCT.isnull()] =  dc_clean.STRUCT.mode().iloc[0]\n",
    "dc_clean.GRADE[dc_clean.GRADE.isnull()] =  dc_clean.GRADE.mode().iloc[0]\n",
    "dc_clean.CNDTN[dc_clean.CNDTN.isnull()] =  dc_clean.CNDTN.mode().iloc[0]\n",
    "dc_clean.EXTWALL[dc_clean.EXTWALL.isnull()] =  dc_clean.EXTWALL.mode().iloc[0]\n",
    "dc_clean.ROOF[dc_clean.ROOF.isnull()] =  dc_clean.ROOF.mode().iloc[0]\n",
    "dc_clean.INTWALL[dc_clean.INTWALL.isnull()] =  dc_clean.INTWALL.mode().iloc[0]\n",
    "dc_clean.KITCHENS[dc_clean.KITCHENS.isnull()] =  dc_clean.KITCHENS.mode().iloc[0]\n",
    "dc_clean.LIVING_GBA[dc_clean.LIVING_GBA.isnull()] =  dc_clean.LIVING_GBA.median()\n",
    "\n",
    "dc_clean['CMPLX_NUM1'] = dc_clean['FULLADDRESS'].str[0:4]\n",
    "dc_clean.loc[dc_clean['CMPLX_NUM'].isnull(), 'CMPLX_NUM'] = dc_clean['CMPLX_NUM1']\n",
    "dc_clean.CMPLX_NUM[dc_clean.CMPLX_NUM.isnull()] =  dc_clean.CMPLX_NUM.mode().iloc[0]"
   ]
  },
  {
   "cell_type": "code",
   "execution_count": 19,
   "metadata": {},
   "outputs": [
    {
     "name": "stderr",
     "output_type": "stream",
     "text": [
      "/opt/conda/lib/python3.6/site-packages/ipykernel/__main__.py:1: SettingWithCopyWarning: \n",
      "A value is trying to be set on a copy of a slice from a DataFrame\n",
      "\n",
      "See the caveats in the documentation: http://pandas.pydata.org/pandas-docs/stable/indexing.html#indexing-view-versus-copy\n",
      "  if __name__ == '__main__':\n",
      "/opt/conda/lib/python3.6/site-packages/ipykernel/__main__.py:2: SettingWithCopyWarning: \n",
      "A value is trying to be set on a copy of a slice from a DataFrame\n",
      "\n",
      "See the caveats in the documentation: http://pandas.pydata.org/pandas-docs/stable/indexing.html#indexing-view-versus-copy\n",
      "  from ipykernel import kernelapp as app\n",
      "/opt/conda/lib/python3.6/site-packages/ipykernel/__main__.py:6: SettingWithCopyWarning: \n",
      "A value is trying to be set on a copy of a slice from a DataFrame\n",
      "\n",
      "See the caveats in the documentation: http://pandas.pydata.org/pandas-docs/stable/indexing.html#indexing-view-versus-copy\n",
      "/opt/conda/lib/python3.6/site-packages/ipykernel/__main__.py:7: SettingWithCopyWarning: \n",
      "A value is trying to be set on a copy of a slice from a DataFrame\n",
      "\n",
      "See the caveats in the documentation: http://pandas.pydata.org/pandas-docs/stable/indexing.html#indexing-view-versus-copy\n"
     ]
    }
   ],
   "source": [
    "dc_clean.CITY[dc_clean.CITY.isnull()] =  'WASHINGTON'\n",
    "dc_clean.STATE[dc_clean.STATE.isnull()] =  'DC'\n",
    "\n",
    "# this could also be a reason why LONGITUDE plays such a big role later on\n",
    "# author is replacing all NULLs with a specific value\n",
    "dc_clean.LATITUDE[dc_clean.LATITUDE.isnull()] =  38.9146833\n",
    "dc_clean.LONGITUDE[dc_clean.LONGITUDE.isnull()] =  -77.04076447\n",
    "\n",
    "dc_clean=dc_clean.drop(['FULLADDRESS','CMPLX_NUM1'], axis=1)"
   ]
  },
  {
   "cell_type": "code",
   "execution_count": 21,
   "metadata": {},
   "outputs": [
    {
     "data": {
      "text/html": [
       "<div>\n",
       "<style scoped>\n",
       "    .dataframe tbody tr th:only-of-type {\n",
       "        vertical-align: middle;\n",
       "    }\n",
       "\n",
       "    .dataframe tbody tr th {\n",
       "        vertical-align: top;\n",
       "    }\n",
       "\n",
       "    .dataframe thead th {\n",
       "        text-align: right;\n",
       "    }\n",
       "</style>\n",
       "<table border=\"1\" class=\"dataframe\">\n",
       "  <thead>\n",
       "    <tr style=\"text-align: right;\">\n",
       "      <th></th>\n",
       "      <th>BATHRM</th>\n",
       "      <th>HF_BATHRM</th>\n",
       "      <th>HEAT</th>\n",
       "      <th>AC</th>\n",
       "      <th>NUM_UNITS</th>\n",
       "      <th>ROOMS</th>\n",
       "      <th>BEDRM</th>\n",
       "      <th>AYB</th>\n",
       "      <th>YR_RMDL</th>\n",
       "      <th>EYB</th>\n",
       "      <th>...</th>\n",
       "      <th>LIVING_GBA</th>\n",
       "      <th>CITY</th>\n",
       "      <th>STATE</th>\n",
       "      <th>ZIPCODE</th>\n",
       "      <th>LATITUDE</th>\n",
       "      <th>LONGITUDE</th>\n",
       "      <th>ASSESSMENT_NBHD</th>\n",
       "      <th>CENSUS_TRACT</th>\n",
       "      <th>WARD</th>\n",
       "      <th>SQUARE</th>\n",
       "    </tr>\n",
       "    <tr>\n",
       "      <th>id</th>\n",
       "      <th></th>\n",
       "      <th></th>\n",
       "      <th></th>\n",
       "      <th></th>\n",
       "      <th></th>\n",
       "      <th></th>\n",
       "      <th></th>\n",
       "      <th></th>\n",
       "      <th></th>\n",
       "      <th></th>\n",
       "      <th></th>\n",
       "      <th></th>\n",
       "      <th></th>\n",
       "      <th></th>\n",
       "      <th></th>\n",
       "      <th></th>\n",
       "      <th></th>\n",
       "      <th></th>\n",
       "      <th></th>\n",
       "      <th></th>\n",
       "      <th></th>\n",
       "    </tr>\n",
       "  </thead>\n",
       "  <tbody>\n",
       "    <tr>\n",
       "      <th>63583</th>\n",
       "      <td>3</td>\n",
       "      <td>0</td>\n",
       "      <td>Hot Water Rad</td>\n",
       "      <td>N</td>\n",
       "      <td>1.0</td>\n",
       "      <td>9</td>\n",
       "      <td>3</td>\n",
       "      <td>1927.0</td>\n",
       "      <td>2012.0</td>\n",
       "      <td>2004</td>\n",
       "      <td>...</td>\n",
       "      <td>783.0</td>\n",
       "      <td>WASHINGTON</td>\n",
       "      <td>DC</td>\n",
       "      <td>20011.0</td>\n",
       "      <td>38.962906</td>\n",
       "      <td>-77.013095</td>\n",
       "      <td>Chillum</td>\n",
       "      <td>1902.0</td>\n",
       "      <td>Ward 4</td>\n",
       "      <td>3376</td>\n",
       "    </tr>\n",
       "    <tr>\n",
       "      <th>4041</th>\n",
       "      <td>4</td>\n",
       "      <td>1</td>\n",
       "      <td>Hot Water Rad</td>\n",
       "      <td>N</td>\n",
       "      <td>2.0</td>\n",
       "      <td>7</td>\n",
       "      <td>3</td>\n",
       "      <td>1920.0</td>\n",
       "      <td>2009.0</td>\n",
       "      <td>1972</td>\n",
       "      <td>...</td>\n",
       "      <td>783.0</td>\n",
       "      <td>WASHINGTON</td>\n",
       "      <td>DC</td>\n",
       "      <td>20009.0</td>\n",
       "      <td>38.910920</td>\n",
       "      <td>-77.030313</td>\n",
       "      <td>Old City 2</td>\n",
       "      <td>5001.0</td>\n",
       "      <td>Ward 2</td>\n",
       "      <td>0241</td>\n",
       "    </tr>\n",
       "    <tr>\n",
       "      <th>448</th>\n",
       "      <td>1</td>\n",
       "      <td>0</td>\n",
       "      <td>Hot Water Rad</td>\n",
       "      <td>N</td>\n",
       "      <td>1.0</td>\n",
       "      <td>6</td>\n",
       "      <td>3</td>\n",
       "      <td>1900.0</td>\n",
       "      <td>1957.0</td>\n",
       "      <td>1957</td>\n",
       "      <td>...</td>\n",
       "      <td>783.0</td>\n",
       "      <td>WASHINGTON</td>\n",
       "      <td>DC</td>\n",
       "      <td>20009.0</td>\n",
       "      <td>38.917448</td>\n",
       "      <td>-77.040115</td>\n",
       "      <td>Old City 2</td>\n",
       "      <td>4201.0</td>\n",
       "      <td>Ward 1</td>\n",
       "      <td>0150</td>\n",
       "    </tr>\n",
       "    <tr>\n",
       "      <th>53272</th>\n",
       "      <td>1</td>\n",
       "      <td>1</td>\n",
       "      <td>Forced Air</td>\n",
       "      <td>Y</td>\n",
       "      <td>1.0</td>\n",
       "      <td>6</td>\n",
       "      <td>3</td>\n",
       "      <td>1906.0</td>\n",
       "      <td>2015.0</td>\n",
       "      <td>1967</td>\n",
       "      <td>...</td>\n",
       "      <td>783.0</td>\n",
       "      <td>WASHINGTON</td>\n",
       "      <td>DC</td>\n",
       "      <td>20001.0</td>\n",
       "      <td>38.917592</td>\n",
       "      <td>-77.016587</td>\n",
       "      <td>Ledroit Park</td>\n",
       "      <td>3400.0</td>\n",
       "      <td>Ward 1</td>\n",
       "      <td>3085</td>\n",
       "    </tr>\n",
       "    <tr>\n",
       "      <th>57060</th>\n",
       "      <td>3</td>\n",
       "      <td>1</td>\n",
       "      <td>Forced Air</td>\n",
       "      <td>Y</td>\n",
       "      <td>1.0</td>\n",
       "      <td>8</td>\n",
       "      <td>3</td>\n",
       "      <td>1931.0</td>\n",
       "      <td>2011.0</td>\n",
       "      <td>1964</td>\n",
       "      <td>...</td>\n",
       "      <td>783.0</td>\n",
       "      <td>WASHINGTON</td>\n",
       "      <td>DC</td>\n",
       "      <td>20011.0</td>\n",
       "      <td>38.950345</td>\n",
       "      <td>-77.017795</td>\n",
       "      <td>Petworth</td>\n",
       "      <td>2202.0</td>\n",
       "      <td>Ward 4</td>\n",
       "      <td>3252</td>\n",
       "    </tr>\n",
       "  </tbody>\n",
       "</table>\n",
       "<p>5 rows × 41 columns</p>\n",
       "</div>"
      ],
      "text/plain": [
       "       BATHRM  HF_BATHRM           HEAT AC  NUM_UNITS  ROOMS  BEDRM     AYB  \\\n",
       "id                                                                            \n",
       "63583       3          0  Hot Water Rad  N        1.0      9      3  1927.0   \n",
       "4041        4          1  Hot Water Rad  N        2.0      7      3  1920.0   \n",
       "448         1          0  Hot Water Rad  N        1.0      6      3  1900.0   \n",
       "53272       1          1     Forced Air  Y        1.0      6      3  1906.0   \n",
       "57060       3          1     Forced Air  Y        1.0      8      3  1931.0   \n",
       "\n",
       "       YR_RMDL   EYB  ...  LIVING_GBA        CITY  STATE  ZIPCODE   LATITUDE  \\\n",
       "id                    ...                                                      \n",
       "63583   2012.0  2004  ...       783.0  WASHINGTON     DC  20011.0  38.962906   \n",
       "4041    2009.0  1972  ...       783.0  WASHINGTON     DC  20009.0  38.910920   \n",
       "448     1957.0  1957  ...       783.0  WASHINGTON     DC  20009.0  38.917448   \n",
       "53272   2015.0  1967  ...       783.0  WASHINGTON     DC  20001.0  38.917592   \n",
       "57060   2011.0  1964  ...       783.0  WASHINGTON     DC  20011.0  38.950345   \n",
       "\n",
       "       LONGITUDE  ASSESSMENT_NBHD CENSUS_TRACT    WARD SQUARE  \n",
       "id                                                             \n",
       "63583 -77.013095          Chillum       1902.0  Ward 4   3376  \n",
       "4041  -77.030313       Old City 2       5001.0  Ward 2   0241  \n",
       "448   -77.040115       Old City 2       4201.0  Ward 1   0150  \n",
       "53272 -77.016587     Ledroit Park       3400.0  Ward 1   3085  \n",
       "57060 -77.017795         Petworth       2202.0  Ward 4   3252  \n",
       "\n",
       "[5 rows x 41 columns]"
      ]
     },
     "execution_count": 21,
     "metadata": {},
     "output_type": "execute_result"
    }
   ],
   "source": [
    "unknown_data=dc_clean[dc_clean.PRICE.isnull()]\n",
    "unknown_data.rename(columns={\"_c0\": \"id\"}, inplace= True)\n",
    "unknown_data.set_index(\"id\", inplace = True)\n",
    "\n",
    "dc_clean = dc_clean[dc_clean.PRICE.notnull()]\n",
    "dc_clean.rename(columns={\"_c0\": \"id\"}, inplace= True)\n",
    "dc_clean.set_index(\"id\", inplace = True)\n",
    "dc_clean.head()"
   ]
  },
  {
   "cell_type": "code",
   "execution_count": 22,
   "metadata": {},
   "outputs": [],
   "source": [
    "dc_clean = pd.get_dummies(dc_clean, prefix='HEAT_', columns=['HEAT'])\n",
    "dc_clean = pd.get_dummies(dc_clean, prefix='AC_', columns=['AC'])\n",
    "dc_clean = pd.get_dummies(dc_clean, prefix='QUALIFIED_', columns=['QUALIFIED'])\n",
    "dc_clean = pd.get_dummies(dc_clean, prefix='STYLE_', columns=['STYLE'])\n",
    "dc_clean = pd.get_dummies(dc_clean, prefix='STRUCT_', columns=['STRUCT'])\n",
    "dc_clean = pd.get_dummies(dc_clean, prefix='GRADE_', columns=['GRADE'])\n",
    "dc_clean = pd.get_dummies(dc_clean, prefix='CNDTN_', columns=['CNDTN'])\n",
    "dc_clean = pd.get_dummies(dc_clean, prefix='EXTWALL_', columns=['EXTWALL'])\n",
    "dc_clean = pd.get_dummies(dc_clean, prefix='ROOF_', columns=['ROOF'])\n",
    "dc_clean = pd.get_dummies(dc_clean, prefix='INTWALL_', columns=['INTWALL'])\n",
    "dc_clean = pd.get_dummies(dc_clean, prefix='SOURCE_', columns=['SOURCE'])\n",
    "dc_clean = pd.get_dummies(dc_clean, prefix='WARD_', columns=['WARD'])"
   ]
  },
  {
   "cell_type": "markdown",
   "metadata": {},
   "source": [
    "> ***Performing Stepwise regression to find the most significant variables***\n",
    "\n",
    "> link: https://www.kaggle.com/ashishaggarwal12/dc-properties#Performing-Stepwise-regression-to-find-the-most-significant-variables\n",
    "\n",
    "> skipping ahead"
   ]
  },
  {
   "cell_type": "code",
   "execution_count": null,
   "metadata": {},
   "outputs": [],
   "source": []
  },
  {
   "cell_type": "code",
   "execution_count": 23,
   "metadata": {},
   "outputs": [
    {
     "name": "stderr",
     "output_type": "stream",
     "text": [
      "/opt/conda/lib/python3.6/site-packages/sklearn/model_selection/_split.py:2179: FutureWarning: From version 0.21, test_size will always complement train_size unless both are specified.\n",
      "  FutureWarning)\n"
     ]
    }
   ],
   "source": [
    "# yadda yadda\n",
    "X = dc_clean[['WARD__Ward 3', 'QUALIFIED__Q', 'HEAT__Ht Pump', 'YR_RMDL', 'QUALIFIED__U', 'EYB', 'LIVING_GBA',\n",
    "              'STRUCT__Single', 'LATITUDE', 'FIREPLACES', 'GRADE__Very Good', 'GRADE__Good Quality', 'AYB', \n",
    "              'GRADE__Excellent', 'WARD__Ward 2', 'CENSUS_TRACT', 'LONGITUDE', 'SALE_NUM', 'WARD__Ward 4',\n",
    "              'ZIPCODE', 'WARD__Ward 7', 'STYLE__3 Story', 'GRADE__Superior', 'STRUCT__Semi-Detached', \n",
    "              'GRADE__Exceptional-C','BATHRM', 'HF_BATHRM', 'NUM_UNITS', 'ROOMS', 'BEDRM']]\n",
    "y = dc_clean['PRICE']\n",
    "\n",
    "# Splitting the train and test data\n",
    "\n",
    "X_train, X_test, y_train, y_test = train_test_split(X, y, train_size=0.8 , random_state=100)"
   ]
  },
  {
   "cell_type": "code",
   "execution_count": 24,
   "metadata": {},
   "outputs": [
    {
     "data": {
      "image/png": "[encoded data removed]",
      "text/plain": [
       "<Figure size 864x648 with 2 Axes>"
      ]
     },
     "metadata": {
      "needs_background": "light"
     },
     "output_type": "display_data"
    }
   ],
   "source": [
    "corrmat = X_train.corr()\n",
    "plt.subplots(figsize=(12,9))\n",
    "sns.heatmap(corrmat, vmax=0.9, square=True,cmap = \"viridis\")\n",
    "plt.show()\n",
    "# IT LOOKS SIMILARRRRR"
   ]
  },
  {
   "cell_type": "markdown",
   "metadata": {},
   "source": [
    "SKIPPING AHEAD Againn"
   ]
  },
  {
   "cell_type": "code",
   "execution_count": null,
   "metadata": {},
   "outputs": [],
   "source": []
  },
  {
   "cell_type": "code",
   "execution_count": null,
   "metadata": {},
   "outputs": [],
   "source": []
  },
  {
   "cell_type": "code",
   "execution_count": null,
   "metadata": {},
   "outputs": [],
   "source": []
  },
  {
   "cell_type": "markdown",
   "metadata": {},
   "source": [
    "Gradient Boosting regression model and prediction by tuning parameters\n",
    "> https://www.kaggle.com/ashishaggarwal12/dc-properties#Gradient-Boosting-regression-model-and-prediction-by-tuning-parameters"
   ]
  },
  {
   "cell_type": "code",
   "execution_count": 25,
   "metadata": {},
   "outputs": [
    {
     "name": "stdout",
     "output_type": "stream",
     "text": [
      "MSE for test 5374190727093.962\n",
      "R2 for test 0.9059728692479148\n",
      "Train score 0.8936282334912506\n",
      "Test score 0.9059728692479148\n"
     ]
    }
   ],
   "source": [
    "gbr1=GradientBoostingRegressor(n_estimators=100) \n",
    "gbr1.fit(X_train, y_train) \n",
    "pred_gbr1=gbr1.predict(X_test)\n",
    "print(\"MSE for test\",mean_squared_error(y_test,pred_gbr1))\n",
    "print(\"R2 for test\",r2_score(y_test,pred_gbr1))\n",
    "print(\"Train score\",gbr1.score(X_train, y_train))\n",
    "print(\"Test score\",gbr1.score(X_test, y_test))"
   ]
  },
  {
   "cell_type": "code",
   "execution_count": 27,
   "metadata": {},
   "outputs": [
    {
     "data": {
      "text/html": [
       "<div>\n",
       "<style scoped>\n",
       "    .dataframe tbody tr th:only-of-type {\n",
       "        vertical-align: middle;\n",
       "    }\n",
       "\n",
       "    .dataframe tbody tr th {\n",
       "        vertical-align: top;\n",
       "    }\n",
       "\n",
       "    .dataframe thead th {\n",
       "        text-align: right;\n",
       "    }\n",
       "</style>\n",
       "<table border=\"1\" class=\"dataframe\">\n",
       "  <thead>\n",
       "    <tr style=\"text-align: right;\">\n",
       "      <th></th>\n",
       "      <th>importance</th>\n",
       "    </tr>\n",
       "  </thead>\n",
       "  <tbody>\n",
       "    <tr>\n",
       "      <th>LONGITUDE</th>\n",
       "      <td>3.492479e-01</td>\n",
       "    </tr>\n",
       "    <tr>\n",
       "      <th>QUALIFIED__Q</th>\n",
       "      <td>2.459036e-01</td>\n",
       "    </tr>\n",
       "    <tr>\n",
       "      <th>QUALIFIED__U</th>\n",
       "      <td>1.804329e-01</td>\n",
       "    </tr>\n",
       "    <tr>\n",
       "      <th>CENSUS_TRACT</th>\n",
       "      <td>1.478496e-01</td>\n",
       "    </tr>\n",
       "    <tr>\n",
       "      <th>AYB</th>\n",
       "      <td>6.054420e-02</td>\n",
       "    </tr>\n",
       "    <tr>\n",
       "      <th>ROOMS</th>\n",
       "      <td>3.497099e-03</td>\n",
       "    </tr>\n",
       "    <tr>\n",
       "      <th>LIVING_GBA</th>\n",
       "      <td>3.280361e-03</td>\n",
       "    </tr>\n",
       "    <tr>\n",
       "      <th>EYB</th>\n",
       "      <td>2.521799e-03</td>\n",
       "    </tr>\n",
       "    <tr>\n",
       "      <th>YR_RMDL</th>\n",
       "      <td>1.967617e-03</td>\n",
       "    </tr>\n",
       "    <tr>\n",
       "      <th>SALE_NUM</th>\n",
       "      <td>1.275125e-03</td>\n",
       "    </tr>\n",
       "    <tr>\n",
       "      <th>WARD__Ward 2</th>\n",
       "      <td>1.021607e-03</td>\n",
       "    </tr>\n",
       "    <tr>\n",
       "      <th>BATHRM</th>\n",
       "      <td>6.712359e-04</td>\n",
       "    </tr>\n",
       "    <tr>\n",
       "      <th>LATITUDE</th>\n",
       "      <td>4.365869e-04</td>\n",
       "    </tr>\n",
       "    <tr>\n",
       "      <th>FIREPLACES</th>\n",
       "      <td>4.044225e-04</td>\n",
       "    </tr>\n",
       "    <tr>\n",
       "      <th>ZIPCODE</th>\n",
       "      <td>3.481022e-04</td>\n",
       "    </tr>\n",
       "    <tr>\n",
       "      <th>HEAT__Ht Pump</th>\n",
       "      <td>2.497324e-04</td>\n",
       "    </tr>\n",
       "    <tr>\n",
       "      <th>BEDRM</th>\n",
       "      <td>1.242376e-04</td>\n",
       "    </tr>\n",
       "    <tr>\n",
       "      <th>GRADE__Exceptional-C</th>\n",
       "      <td>1.033515e-04</td>\n",
       "    </tr>\n",
       "    <tr>\n",
       "      <th>NUM_UNITS</th>\n",
       "      <td>6.118985e-05</td>\n",
       "    </tr>\n",
       "    <tr>\n",
       "      <th>HF_BATHRM</th>\n",
       "      <td>5.845294e-05</td>\n",
       "    </tr>\n",
       "    <tr>\n",
       "      <th>WARD__Ward 3</th>\n",
       "      <td>8.977137e-07</td>\n",
       "    </tr>\n",
       "    <tr>\n",
       "      <th>GRADE__Excellent</th>\n",
       "      <td>0.000000e+00</td>\n",
       "    </tr>\n",
       "    <tr>\n",
       "      <th>WARD__Ward 4</th>\n",
       "      <td>0.000000e+00</td>\n",
       "    </tr>\n",
       "    <tr>\n",
       "      <th>GRADE__Good Quality</th>\n",
       "      <td>0.000000e+00</td>\n",
       "    </tr>\n",
       "    <tr>\n",
       "      <th>WARD__Ward 7</th>\n",
       "      <td>0.000000e+00</td>\n",
       "    </tr>\n",
       "    <tr>\n",
       "      <th>STYLE__3 Story</th>\n",
       "      <td>0.000000e+00</td>\n",
       "    </tr>\n",
       "    <tr>\n",
       "      <th>GRADE__Superior</th>\n",
       "      <td>0.000000e+00</td>\n",
       "    </tr>\n",
       "    <tr>\n",
       "      <th>STRUCT__Semi-Detached</th>\n",
       "      <td>0.000000e+00</td>\n",
       "    </tr>\n",
       "    <tr>\n",
       "      <th>GRADE__Very Good</th>\n",
       "      <td>0.000000e+00</td>\n",
       "    </tr>\n",
       "    <tr>\n",
       "      <th>STRUCT__Single</th>\n",
       "      <td>0.000000e+00</td>\n",
       "    </tr>\n",
       "  </tbody>\n",
       "</table>\n",
       "</div>"
      ],
      "text/plain": [
       "                         importance\n",
       "LONGITUDE              3.492479e-01\n",
       "QUALIFIED__Q           2.459036e-01\n",
       "QUALIFIED__U           1.804329e-01\n",
       "CENSUS_TRACT           1.478496e-01\n",
       "AYB                    6.054420e-02\n",
       "ROOMS                  3.497099e-03\n",
       "LIVING_GBA             3.280361e-03\n",
       "EYB                    2.521799e-03\n",
       "YR_RMDL                1.967617e-03\n",
       "SALE_NUM               1.275125e-03\n",
       "WARD__Ward 2           1.021607e-03\n",
       "BATHRM                 6.712359e-04\n",
       "LATITUDE               4.365869e-04\n",
       "FIREPLACES             4.044225e-04\n",
       "ZIPCODE                3.481022e-04\n",
       "HEAT__Ht Pump          2.497324e-04\n",
       "BEDRM                  1.242376e-04\n",
       "GRADE__Exceptional-C   1.033515e-04\n",
       "NUM_UNITS              6.118985e-05\n",
       "HF_BATHRM              5.845294e-05\n",
       "WARD__Ward 3           8.977137e-07\n",
       "GRADE__Excellent       0.000000e+00\n",
       "WARD__Ward 4           0.000000e+00\n",
       "GRADE__Good Quality    0.000000e+00\n",
       "WARD__Ward 7           0.000000e+00\n",
       "STYLE__3 Story         0.000000e+00\n",
       "GRADE__Superior        0.000000e+00\n",
       "STRUCT__Semi-Detached  0.000000e+00\n",
       "GRADE__Very Good       0.000000e+00\n",
       "STRUCT__Single         0.000000e+00"
      ]
     },
     "execution_count": 27,
     "metadata": {},
     "output_type": "execute_result"
    }
   ],
   "source": [
    "feature_importances_gbr1 = pd.DataFrame(gbr1.feature_importances_,\n",
    "                                   index = X_train.columns,\n",
    "                                    columns=['importance']).sort_values('importance',ascending=False)\n",
    "feature_importances_gbr1"
   ]
  },
  {
   "cell_type": "code",
   "execution_count": 28,
   "metadata": {},
   "outputs": [
    {
     "data": {
      "text/plain": [
       "Text(0.5, 1.0, 'Feature importance using GBR model')"
      ]
     },
     "execution_count": 28,
     "metadata": {},
     "output_type": "execute_result"
    },
    {
     "data": {
      "image/png": "[encoded data removed]",
      "text/plain": [
       "<Figure size 1080x864 with 1 Axes>"
      ]
     },
     "metadata": {
      "needs_background": "light"
     },
     "output_type": "display_data"
    }
   ],
   "source": [
    "f, ax = plt.subplots(figsize=(15, 12))\n",
    "plt.xticks(rotation='90')\n",
    "sns.barplot(x=feature_importances_gbr1.index, y=feature_importances_gbr1.importance,palette=\"pastel\")\n",
    "plt.xlabel('Features', fontsize=15)\n",
    "plt.ylabel('Feature importance', fontsize=15)\n",
    "plt.title('Feature importance using GBR model', fontsize=15)"
   ]
  },
  {
   "cell_type": "code",
   "execution_count": 29,
   "metadata": {},
   "outputs": [
    {
     "name": "stdout",
     "output_type": "stream",
     "text": [
      "MSE for test 2057051435297.9243\n",
      "R2 for test 0.9640097171662697\n",
      "Train score 0.9724606967257562\n",
      "Test score 0.9640097171662697\n"
     ]
    }
   ],
   "source": [
    "gbr2 = GradientBoostingRegressor(alpha=0.9, init=None, learning_rate=0.1, loss='ls', max_depth=6, \n",
    "                          max_features=1.0, max_leaf_nodes=None, min_samples_leaf=3, \n",
    "                          min_samples_split=2, n_estimators=100, random_state=None, subsample=1.0, \n",
    "                          verbose=0, warm_start=False) \n",
    "gbr2.fit(X_train,y_train)\n",
    "pred_gbr2=gbr2.predict(X_test)\n",
    "print(\"MSE for test\",mean_squared_error(y_test,pred_gbr2))\n",
    "print(\"R2 for test\",r2_score(y_test,pred_gbr2))\n",
    "print(\"Train score\",gbr2.score(X_train, y_train))\n",
    "print(\"Test score\",gbr2.score(X_test, y_test))"
   ]
  },
  {
   "cell_type": "code",
   "execution_count": 30,
   "metadata": {},
   "outputs": [
    {
     "data": {
      "text/html": [
       "<div>\n",
       "<style scoped>\n",
       "    .dataframe tbody tr th:only-of-type {\n",
       "        vertical-align: middle;\n",
       "    }\n",
       "\n",
       "    .dataframe tbody tr th {\n",
       "        vertical-align: top;\n",
       "    }\n",
       "\n",
       "    .dataframe thead th {\n",
       "        text-align: right;\n",
       "    }\n",
       "</style>\n",
       "<table border=\"1\" class=\"dataframe\">\n",
       "  <thead>\n",
       "    <tr style=\"text-align: right;\">\n",
       "      <th></th>\n",
       "      <th>importance</th>\n",
       "    </tr>\n",
       "  </thead>\n",
       "  <tbody>\n",
       "    <tr>\n",
       "      <th>LONGITUDE</th>\n",
       "      <td>0.548492</td>\n",
       "    </tr>\n",
       "    <tr>\n",
       "      <th>QUALIFIED__Q</th>\n",
       "      <td>0.192292</td>\n",
       "    </tr>\n",
       "    <tr>\n",
       "      <th>QUALIFIED__U</th>\n",
       "      <td>0.174076</td>\n",
       "    </tr>\n",
       "    <tr>\n",
       "      <th>SALE_NUM</th>\n",
       "      <td>0.029478</td>\n",
       "    </tr>\n",
       "    <tr>\n",
       "      <th>HEAT__Ht Pump</th>\n",
       "      <td>0.012932</td>\n",
       "    </tr>\n",
       "    <tr>\n",
       "      <th>LIVING_GBA</th>\n",
       "      <td>0.012323</td>\n",
       "    </tr>\n",
       "    <tr>\n",
       "      <th>EYB</th>\n",
       "      <td>0.010881</td>\n",
       "    </tr>\n",
       "    <tr>\n",
       "      <th>CENSUS_TRACT</th>\n",
       "      <td>0.008469</td>\n",
       "    </tr>\n",
       "    <tr>\n",
       "      <th>BEDRM</th>\n",
       "      <td>0.002912</td>\n",
       "    </tr>\n",
       "    <tr>\n",
       "      <th>YR_RMDL</th>\n",
       "      <td>0.001830</td>\n",
       "    </tr>\n",
       "    <tr>\n",
       "      <th>BATHRM</th>\n",
       "      <td>0.001483</td>\n",
       "    </tr>\n",
       "    <tr>\n",
       "      <th>AYB</th>\n",
       "      <td>0.001468</td>\n",
       "    </tr>\n",
       "    <tr>\n",
       "      <th>ROOMS</th>\n",
       "      <td>0.001366</td>\n",
       "    </tr>\n",
       "    <tr>\n",
       "      <th>LATITUDE</th>\n",
       "      <td>0.000637</td>\n",
       "    </tr>\n",
       "    <tr>\n",
       "      <th>WARD__Ward 2</th>\n",
       "      <td>0.000428</td>\n",
       "    </tr>\n",
       "    <tr>\n",
       "      <th>FIREPLACES</th>\n",
       "      <td>0.000250</td>\n",
       "    </tr>\n",
       "    <tr>\n",
       "      <th>GRADE__Exceptional-C</th>\n",
       "      <td>0.000193</td>\n",
       "    </tr>\n",
       "    <tr>\n",
       "      <th>ZIPCODE</th>\n",
       "      <td>0.000161</td>\n",
       "    </tr>\n",
       "    <tr>\n",
       "      <th>NUM_UNITS</th>\n",
       "      <td>0.000119</td>\n",
       "    </tr>\n",
       "    <tr>\n",
       "      <th>HF_BATHRM</th>\n",
       "      <td>0.000093</td>\n",
       "    </tr>\n",
       "    <tr>\n",
       "      <th>WARD__Ward 3</th>\n",
       "      <td>0.000048</td>\n",
       "    </tr>\n",
       "    <tr>\n",
       "      <th>STRUCT__Single</th>\n",
       "      <td>0.000032</td>\n",
       "    </tr>\n",
       "    <tr>\n",
       "      <th>STYLE__3 Story</th>\n",
       "      <td>0.000011</td>\n",
       "    </tr>\n",
       "    <tr>\n",
       "      <th>GRADE__Good Quality</th>\n",
       "      <td>0.000008</td>\n",
       "    </tr>\n",
       "    <tr>\n",
       "      <th>GRADE__Superior</th>\n",
       "      <td>0.000006</td>\n",
       "    </tr>\n",
       "    <tr>\n",
       "      <th>GRADE__Excellent</th>\n",
       "      <td>0.000006</td>\n",
       "    </tr>\n",
       "    <tr>\n",
       "      <th>GRADE__Very Good</th>\n",
       "      <td>0.000004</td>\n",
       "    </tr>\n",
       "    <tr>\n",
       "      <th>STRUCT__Semi-Detached</th>\n",
       "      <td>0.000002</td>\n",
       "    </tr>\n",
       "    <tr>\n",
       "      <th>WARD__Ward 4</th>\n",
       "      <td>0.000000</td>\n",
       "    </tr>\n",
       "    <tr>\n",
       "      <th>WARD__Ward 7</th>\n",
       "      <td>0.000000</td>\n",
       "    </tr>\n",
       "  </tbody>\n",
       "</table>\n",
       "</div>"
      ],
      "text/plain": [
       "                       importance\n",
       "LONGITUDE                0.548492\n",
       "QUALIFIED__Q             0.192292\n",
       "QUALIFIED__U             0.174076\n",
       "SALE_NUM                 0.029478\n",
       "HEAT__Ht Pump            0.012932\n",
       "LIVING_GBA               0.012323\n",
       "EYB                      0.010881\n",
       "CENSUS_TRACT             0.008469\n",
       "BEDRM                    0.002912\n",
       "YR_RMDL                  0.001830\n",
       "BATHRM                   0.001483\n",
       "AYB                      0.001468\n",
       "ROOMS                    0.001366\n",
       "LATITUDE                 0.000637\n",
       "WARD__Ward 2             0.000428\n",
       "FIREPLACES               0.000250\n",
       "GRADE__Exceptional-C     0.000193\n",
       "ZIPCODE                  0.000161\n",
       "NUM_UNITS                0.000119\n",
       "HF_BATHRM                0.000093\n",
       "WARD__Ward 3             0.000048\n",
       "STRUCT__Single           0.000032\n",
       "STYLE__3 Story           0.000011\n",
       "GRADE__Good Quality      0.000008\n",
       "GRADE__Superior          0.000006\n",
       "GRADE__Excellent         0.000006\n",
       "GRADE__Very Good         0.000004\n",
       "STRUCT__Semi-Detached    0.000002\n",
       "WARD__Ward 4             0.000000\n",
       "WARD__Ward 7             0.000000"
      ]
     },
     "execution_count": 30,
     "metadata": {},
     "output_type": "execute_result"
    }
   ],
   "source": [
    "feature_importances_gbr2 = pd.DataFrame(gbr2.feature_importances_,\n",
    "                                   index = X_train.columns,\n",
    "                                    columns=['importance']).sort_values('importance',ascending=False)\n",
    "feature_importances_gbr2"
   ]
  },
  {
   "cell_type": "code",
   "execution_count": 31,
   "metadata": {},
   "outputs": [
    {
     "data": {
      "text/plain": [
       "Text(0.5, 1.0, 'Feature importance using GBR model')"
      ]
     },
     "execution_count": 31,
     "metadata": {},
     "output_type": "execute_result"
    },
    {
     "data": {
      "image/png": "[encoded data removed]",
      "text/plain": [
       "<Figure size 1080x864 with 1 Axes>"
      ]
     },
     "metadata": {
      "needs_background": "light"
     },
     "output_type": "display_data"
    }
   ],
   "source": [
    "f, ax = plt.subplots(figsize=(15, 12))\n",
    "plt.xticks(rotation='90')\n",
    "sns.barplot(x=feature_importances_gbr2.index, y=feature_importances_gbr2.importance,palette=\"bright\")\n",
    "plt.xlabel('Features', fontsize=15)\n",
    "plt.ylabel('Feature importance', fontsize=15)\n",
    "plt.title('Feature importance using GBR model', fontsize=15)"
   ]
  },
  {
   "cell_type": "code",
   "execution_count": 32,
   "metadata": {},
   "outputs": [
    {
     "name": "stdout",
     "output_type": "stream",
     "text": [
      "Let's fit GBRT to the digits training dataset by calling the function we just created.\n"
     ]
    },
    {
     "ename": "NameError",
     "evalue": "name 'ShuffleSplit' is not defined",
     "output_type": "error",
     "traceback": [
      "\u001b[0;31m---------------------------------------------------------------------------\u001b[0m",
      "\u001b[0;31mNameError\u001b[0m                                 Traceback (most recent call last)",
      "\u001b[0;32m<ipython-input-32-c9bb24b9101b>\u001b[0m in \u001b[0;36m<module>\u001b[0;34m\u001b[0m\n\u001b[1;32m     16\u001b[0m \u001b[0mn_jobs\u001b[0m\u001b[0;34m=\u001b[0m\u001b[0;36m4\u001b[0m\u001b[0;34m\u001b[0m\u001b[0m\n\u001b[1;32m     17\u001b[0m \u001b[0mprint\u001b[0m\u001b[0;34m(\u001b[0m\u001b[0;34m\"Let's fit GBRT to the digits training dataset by calling the function we just created.\"\u001b[0m\u001b[0;34m)\u001b[0m\u001b[0;34m\u001b[0m\u001b[0m\n\u001b[0;32m---> 18\u001b[0;31m \u001b[0mcv\u001b[0m\u001b[0;34m,\u001b[0m\u001b[0mbest_est\u001b[0m\u001b[0;34m=\u001b[0m\u001b[0mGradientBooster\u001b[0m\u001b[0;34m(\u001b[0m\u001b[0mparam_grid\u001b[0m\u001b[0;34m,\u001b[0m \u001b[0mn_jobs\u001b[0m\u001b[0;34m)\u001b[0m\u001b[0;34m\u001b[0m\u001b[0m\n\u001b[0m",
      "\u001b[0;32m<ipython-input-32-c9bb24b9101b>\u001b[0m in \u001b[0;36mGradientBooster\u001b[0;34m(param_grid, n_jobs)\u001b[0m\n\u001b[1;32m      3\u001b[0m \u001b[0;32mdef\u001b[0m \u001b[0mGradientBooster\u001b[0m\u001b[0;34m(\u001b[0m\u001b[0mparam_grid\u001b[0m\u001b[0;34m,\u001b[0m \u001b[0mn_jobs\u001b[0m\u001b[0;34m)\u001b[0m\u001b[0;34m:\u001b[0m\u001b[0;34m\u001b[0m\u001b[0m\n\u001b[1;32m      4\u001b[0m     \u001b[0mestimator\u001b[0m \u001b[0;34m=\u001b[0m \u001b[0mGradientBoostingRegressor\u001b[0m\u001b[0;34m(\u001b[0m\u001b[0;34m)\u001b[0m\u001b[0;34m\u001b[0m\u001b[0m\n\u001b[0;32m----> 5\u001b[0;31m     \u001b[0mcv\u001b[0m \u001b[0;34m=\u001b[0m \u001b[0mShuffleSplit\u001b[0m\u001b[0;34m(\u001b[0m\u001b[0mX_train\u001b[0m\u001b[0;34m.\u001b[0m\u001b[0mshape\u001b[0m\u001b[0;34m[\u001b[0m\u001b[0;36m0\u001b[0m\u001b[0;34m]\u001b[0m\u001b[0;34m,\u001b[0m \u001b[0mn_iter\u001b[0m\u001b[0;34m=\u001b[0m\u001b[0;36m10\u001b[0m\u001b[0;34m,\u001b[0m \u001b[0mtest_size\u001b[0m\u001b[0;34m=\u001b[0m\u001b[0;36m0.2\u001b[0m\u001b[0;34m)\u001b[0m\u001b[0;34m\u001b[0m\u001b[0m\n\u001b[0m\u001b[1;32m      6\u001b[0m     \u001b[0mclassifier\u001b[0m \u001b[0;34m=\u001b[0m \u001b[0mGridSearchCV\u001b[0m\u001b[0;34m(\u001b[0m\u001b[0mestimator\u001b[0m\u001b[0;34m=\u001b[0m\u001b[0mestimator\u001b[0m\u001b[0;34m,\u001b[0m \u001b[0mcv\u001b[0m\u001b[0;34m=\u001b[0m\u001b[0mcv\u001b[0m\u001b[0;34m,\u001b[0m \u001b[0mparam_grid\u001b[0m\u001b[0;34m=\u001b[0m\u001b[0mparam_grid\u001b[0m\u001b[0;34m,\u001b[0m \u001b[0mn_jobs\u001b[0m\u001b[0;34m=\u001b[0m\u001b[0mn_jobs\u001b[0m\u001b[0;34m)\u001b[0m\u001b[0;34m\u001b[0m\u001b[0m\n\u001b[1;32m      7\u001b[0m     \u001b[0mclassifier\u001b[0m\u001b[0;34m.\u001b[0m\u001b[0mfit\u001b[0m\u001b[0;34m(\u001b[0m\u001b[0mX_train\u001b[0m\u001b[0;34m,\u001b[0m \u001b[0my_train\u001b[0m\u001b[0;34m)\u001b[0m\u001b[0;34m\u001b[0m\u001b[0m\n",
      "\u001b[0;31mNameError\u001b[0m: name 'ShuffleSplit' is not defined"
     ]
    }
   ],
   "source": [
    "# Parameter tuning using Grid search\n",
    "\n",
    "def GradientBooster(param_grid, n_jobs): \n",
    "    estimator = GradientBoostingRegressor()\n",
    "    cv = ShuffleSplit(X_train.shape[0], n_iter=10, test_size=0.2) \n",
    "    classifier = GridSearchCV(estimator=estimator, cv=cv, param_grid=param_grid, n_jobs=n_jobs)\n",
    "    classifier.fit(X_train, y_train)\n",
    "    print (\"Best Estimator learned through GridSearch\")\n",
    "    print (classifier.best_estimator_) \n",
    "    return cv, classifier.best_estimator_ \n",
    "\n",
    "\n",
    "param_grid={'n_estimators':[100], 'learning_rate': [0.1, 0.05, 0.02, 0.01], 'max_depth':[6,4],\n",
    "            'min_samples_leaf':[3,5,9,17], 'max_features':[1.0,0.3] } \n",
    "\n",
    "n_jobs=4 \n",
    "print(\"Let's fit GBRT to the digits training dataset by calling the function we just created.\")\n",
    "cv,best_est=GradientBooster(param_grid, n_jobs) "
   ]
  },
  {
   "cell_type": "code",
   "execution_count": 33,
   "metadata": {},
   "outputs": [
    {
     "name": "stdout",
     "output_type": "stream",
     "text": [
      "MSE for test 1119477327631.3643\n",
      "R2 for test 0.9804135643105267\n",
      "Train score 0.9655983454306745\n",
      "Test score 0.9804135643105267\n"
     ]
    }
   ],
   "source": [
    "gbr3 = GradientBoostingRegressor(alpha=0.9, criterion='friedman_mse', init=None,\n",
    "             learning_rate=0.1, loss='ls', max_depth=6, max_features=0.3,\n",
    "             max_leaf_nodes=None, min_impurity_decrease=0.0,\n",
    "             min_impurity_split=None, min_samples_leaf=3,\n",
    "             min_samples_split=2, min_weight_fraction_leaf=0.0,\n",
    "             n_estimators=100, n_iter_no_change=None, presort='auto',\n",
    "             random_state=None, subsample=1.0, tol=0.0001,\n",
    "             validation_fraction=0.1, verbose=0, warm_start=False)\n",
    "\n",
    "gbr3.fit(X_train,y_train)\n",
    "pred_gbr3=gbr3.predict(X_test)\n",
    "\n",
    "print(\"MSE for test\",mean_squared_error(y_test,pred_gbr3))\n",
    "print(\"R2 for test\",r2_score(y_test,pred_gbr3))\n",
    "print(\"Train score\",gbr3.score(X_train, y_train))\n",
    "print(\"Test score\",gbr3.score(X_test, y_test))"
   ]
  },
  {
   "cell_type": "code",
   "execution_count": 35,
   "metadata": {},
   "outputs": [
    {
     "data": {
      "text/html": [
       "<div>\n",
       "<style scoped>\n",
       "    .dataframe tbody tr th:only-of-type {\n",
       "        vertical-align: middle;\n",
       "    }\n",
       "\n",
       "    .dataframe tbody tr th {\n",
       "        vertical-align: top;\n",
       "    }\n",
       "\n",
       "    .dataframe thead th {\n",
       "        text-align: right;\n",
       "    }\n",
       "</style>\n",
       "<table border=\"1\" class=\"dataframe\">\n",
       "  <thead>\n",
       "    <tr style=\"text-align: right;\">\n",
       "      <th></th>\n",
       "      <th>importance</th>\n",
       "    </tr>\n",
       "  </thead>\n",
       "  <tbody>\n",
       "    <tr>\n",
       "      <th>LONGITUDE</th>\n",
       "      <td>1.940962e-01</td>\n",
       "    </tr>\n",
       "    <tr>\n",
       "      <th>QUALIFIED__U</th>\n",
       "      <td>1.542681e-01</td>\n",
       "    </tr>\n",
       "    <tr>\n",
       "      <th>AYB</th>\n",
       "      <td>1.234730e-01</td>\n",
       "    </tr>\n",
       "    <tr>\n",
       "      <th>LATITUDE</th>\n",
       "      <td>1.164546e-01</td>\n",
       "    </tr>\n",
       "    <tr>\n",
       "      <th>QUALIFIED__Q</th>\n",
       "      <td>1.071113e-01</td>\n",
       "    </tr>\n",
       "    <tr>\n",
       "      <th>EYB</th>\n",
       "      <td>8.160908e-02</td>\n",
       "    </tr>\n",
       "    <tr>\n",
       "      <th>CENSUS_TRACT</th>\n",
       "      <td>6.904600e-02</td>\n",
       "    </tr>\n",
       "    <tr>\n",
       "      <th>HEAT__Ht Pump</th>\n",
       "      <td>4.347201e-02</td>\n",
       "    </tr>\n",
       "    <tr>\n",
       "      <th>SALE_NUM</th>\n",
       "      <td>3.418707e-02</td>\n",
       "    </tr>\n",
       "    <tr>\n",
       "      <th>ROOMS</th>\n",
       "      <td>2.289101e-02</td>\n",
       "    </tr>\n",
       "    <tr>\n",
       "      <th>BATHRM</th>\n",
       "      <td>2.188631e-02</td>\n",
       "    </tr>\n",
       "    <tr>\n",
       "      <th>YR_RMDL</th>\n",
       "      <td>7.613219e-03</td>\n",
       "    </tr>\n",
       "    <tr>\n",
       "      <th>ZIPCODE</th>\n",
       "      <td>7.221680e-03</td>\n",
       "    </tr>\n",
       "    <tr>\n",
       "      <th>WARD__Ward 2</th>\n",
       "      <td>5.192578e-03</td>\n",
       "    </tr>\n",
       "    <tr>\n",
       "      <th>WARD__Ward 3</th>\n",
       "      <td>4.560064e-03</td>\n",
       "    </tr>\n",
       "    <tr>\n",
       "      <th>LIVING_GBA</th>\n",
       "      <td>3.968837e-03</td>\n",
       "    </tr>\n",
       "    <tr>\n",
       "      <th>BEDRM</th>\n",
       "      <td>2.232782e-03</td>\n",
       "    </tr>\n",
       "    <tr>\n",
       "      <th>FIREPLACES</th>\n",
       "      <td>2.659461e-04</td>\n",
       "    </tr>\n",
       "    <tr>\n",
       "      <th>HF_BATHRM</th>\n",
       "      <td>1.806857e-04</td>\n",
       "    </tr>\n",
       "    <tr>\n",
       "      <th>GRADE__Exceptional-C</th>\n",
       "      <td>1.060474e-04</td>\n",
       "    </tr>\n",
       "    <tr>\n",
       "      <th>NUM_UNITS</th>\n",
       "      <td>8.723162e-05</td>\n",
       "    </tr>\n",
       "    <tr>\n",
       "      <th>STRUCT__Single</th>\n",
       "      <td>2.109440e-05</td>\n",
       "    </tr>\n",
       "    <tr>\n",
       "      <th>WARD__Ward 7</th>\n",
       "      <td>1.690127e-05</td>\n",
       "    </tr>\n",
       "    <tr>\n",
       "      <th>GRADE__Superior</th>\n",
       "      <td>1.250155e-05</td>\n",
       "    </tr>\n",
       "    <tr>\n",
       "      <th>GRADE__Good Quality</th>\n",
       "      <td>8.375425e-06</td>\n",
       "    </tr>\n",
       "    <tr>\n",
       "      <th>STYLE__3 Story</th>\n",
       "      <td>6.892909e-06</td>\n",
       "    </tr>\n",
       "    <tr>\n",
       "      <th>GRADE__Very Good</th>\n",
       "      <td>5.709127e-06</td>\n",
       "    </tr>\n",
       "    <tr>\n",
       "      <th>GRADE__Excellent</th>\n",
       "      <td>4.208542e-06</td>\n",
       "    </tr>\n",
       "    <tr>\n",
       "      <th>STRUCT__Semi-Detached</th>\n",
       "      <td>3.688977e-07</td>\n",
       "    </tr>\n",
       "    <tr>\n",
       "      <th>WARD__Ward 4</th>\n",
       "      <td>2.239412e-07</td>\n",
       "    </tr>\n",
       "  </tbody>\n",
       "</table>\n",
       "</div>"
      ],
      "text/plain": [
       "                         importance\n",
       "LONGITUDE              1.940962e-01\n",
       "QUALIFIED__U           1.542681e-01\n",
       "AYB                    1.234730e-01\n",
       "LATITUDE               1.164546e-01\n",
       "QUALIFIED__Q           1.071113e-01\n",
       "EYB                    8.160908e-02\n",
       "CENSUS_TRACT           6.904600e-02\n",
       "HEAT__Ht Pump          4.347201e-02\n",
       "SALE_NUM               3.418707e-02\n",
       "ROOMS                  2.289101e-02\n",
       "BATHRM                 2.188631e-02\n",
       "YR_RMDL                7.613219e-03\n",
       "ZIPCODE                7.221680e-03\n",
       "WARD__Ward 2           5.192578e-03\n",
       "WARD__Ward 3           4.560064e-03\n",
       "LIVING_GBA             3.968837e-03\n",
       "BEDRM                  2.232782e-03\n",
       "FIREPLACES             2.659461e-04\n",
       "HF_BATHRM              1.806857e-04\n",
       "GRADE__Exceptional-C   1.060474e-04\n",
       "NUM_UNITS              8.723162e-05\n",
       "STRUCT__Single         2.109440e-05\n",
       "WARD__Ward 7           1.690127e-05\n",
       "GRADE__Superior        1.250155e-05\n",
       "GRADE__Good Quality    8.375425e-06\n",
       "STYLE__3 Story         6.892909e-06\n",
       "GRADE__Very Good       5.709127e-06\n",
       "GRADE__Excellent       4.208542e-06\n",
       "STRUCT__Semi-Detached  3.688977e-07\n",
       "WARD__Ward 4           2.239412e-07"
      ]
     },
     "execution_count": 35,
     "metadata": {},
     "output_type": "execute_result"
    }
   ],
   "source": [
    "feature_importances_gbr3 = pd.DataFrame(gbr3.feature_importances_,\n",
    "                                   index = X_train.columns,\n",
    "                                    columns=['importance']).sort_values('importance',ascending=False)\n",
    "feature_importances_gbr3"
   ]
  },
  {
   "cell_type": "code",
   "execution_count": 36,
   "metadata": {},
   "outputs": [
    {
     "name": "stdout",
     "output_type": "stream",
     "text": [
      "From all the above models, we found Gradient boosting regression is the best model with R2 of 96.94%\n"
     ]
    },
    {
     "data": {
      "image/png": "[encoded data removed]",
      "text/plain": [
       "<Figure size 1080x864 with 1 Axes>"
      ]
     },
     "metadata": {
      "needs_background": "light"
     },
     "output_type": "display_data"
    }
   ],
   "source": [
    "f, ax = plt.subplots(figsize=(15, 12))\n",
    "plt.xticks(rotation='90')\n",
    "sns.barplot(x=feature_importances_gbr3.index, y=feature_importances_gbr3.importance,palette=\"muted\")\n",
    "plt.xlabel('Features', fontsize=15)\n",
    "plt.ylabel('Feature importance', fontsize=15)\n",
    "plt.title('Feature importance using GBR model', fontsize=15)\n",
    "\n",
    "print(\"From all the above models, we found Gradient boosting regression is the best model with R2 of 96.94%\")"
   ]
  },
  {
   "cell_type": "code",
   "execution_count": null,
   "metadata": {},
   "outputs": [],
   "source": []
  }
 ],
 "metadata": {
  "kernelspec": {
   "display_name": "PySpark",
   "language": "python",
   "name": "pyspark"
  },
  "language_info": {
   "codemirror_mode": {
    "name": "ipython",
    "version": 3
   },
   "file_extension": ".py",
   "mimetype": "text/x-python",
   "name": "python",
   "nbconvert_exporter": "python",
   "pygments_lexer": "ipython3",
   "version": "3.6.5"
  }
 },
 "nbformat": 4,
 "nbformat_minor": 2
}